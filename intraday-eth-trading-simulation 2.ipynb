{
 "cells": [
  {
   "cell_type": "markdown",
   "id": "8f9150dd",
   "metadata": {
    "_cell_guid": "d11f685f-11a1-463a-b682-2aa058d74896",
    "_uuid": "56c1ac9b-1a41-477d-bd2d-e70f695f9dc6",
    "id": "nxXpPdVdWHv0",
    "papermill": {
     "duration": 0.006264,
     "end_time": "2024-08-26T18:39:20.169726",
     "exception": false,
     "start_time": "2024-08-26T18:39:20.163462",
     "status": "completed"
    },
    "tags": []
   },
   "source": [
    "# Data Preprocessing\n",
    "1. Import Libraries and download data\n",
    "2. Scale training and test data using training data parameters to ensure no data leakage\n",
    "3. Creates Sequences for training\n",
    "4. Utilise Encoder-Decoder Network to reduce dimensionality of data to reduce overfitting"
   ]
  },
  {
   "cell_type": "code",
   "execution_count": 1,
   "id": "6a8d3798",
   "metadata": {
    "execution": {
     "iopub.execute_input": "2024-08-26T18:39:20.182572Z",
     "iopub.status.busy": "2024-08-26T18:39:20.182227Z",
     "iopub.status.idle": "2024-08-26T18:39:34.058278Z",
     "shell.execute_reply": "2024-08-26T18:39:34.057360Z"
    },
    "papermill": {
     "duration": 13.88556,
     "end_time": "2024-08-26T18:39:34.061051",
     "exception": false,
     "start_time": "2024-08-26T18:39:20.175491",
     "status": "completed"
    },
    "tags": []
   },
   "outputs": [
    {
     "name": "stderr",
     "output_type": "stream",
     "text": [
      "2024-08-26 18:39:24.017166: E external/local_xla/xla/stream_executor/cuda/cuda_dnn.cc:9261] Unable to register cuDNN factory: Attempting to register factory for plugin cuDNN when one has already been registered\n",
      "2024-08-26 18:39:24.017287: E external/local_xla/xla/stream_executor/cuda/cuda_fft.cc:607] Unable to register cuFFT factory: Attempting to register factory for plugin cuFFT when one has already been registered\n",
      "2024-08-26 18:39:24.159701: E external/local_xla/xla/stream_executor/cuda/cuda_blas.cc:1515] Unable to register cuBLAS factory: Attempting to register factory for plugin cuBLAS when one has already been registered\n"
     ]
    }
   ],
   "source": [
    "random_state = 1\n",
    "import numpy as np\n",
    "import pandas as pd\n",
    "import matplotlib.pyplot as plt\n",
    "from sklearn.preprocessing import StandardScaler\n",
    "from sklearn.metrics import mean_squared_error, mean_absolute_error, confusion_matrix, ConfusionMatrixDisplay\n",
    "from tensorflow.keras.models import Model, load_model\n",
    "from tensorflow.keras.layers import Input, LSTM, Dense, Layer, Dropout, BatchNormalization, Bidirectional, TimeDistributed\n",
    "from tensorflow.keras.optimizers import AdamW, SGD\n",
    "from tensorflow.keras.regularizers import l2\n",
    "from tensorflow.keras.callbacks import EarlyStopping\n",
    "from tensorflow.keras.losses import MAE"
   ]
  },
  {
   "cell_type": "code",
   "execution_count": 2,
   "id": "60685a8b",
   "metadata": {
    "_cell_guid": "702697a8-a1c4-436d-91a2-b39f9a227e3c",
    "_uuid": "7bfc2347-b063-4538-88e7-59ddaba6962d",
    "execution": {
     "iopub.execute_input": "2024-08-26T18:39:34.077532Z",
     "iopub.status.busy": "2024-08-26T18:39:34.076867Z",
     "iopub.status.idle": "2024-08-26T18:39:34.477986Z",
     "shell.execute_reply": "2024-08-26T18:39:34.476658Z"
    },
    "papermill": {
     "duration": 0.412556,
     "end_time": "2024-08-26T18:39:34.481223",
     "exception": false,
     "start_time": "2024-08-26T18:39:34.068667",
     "status": "completed"
    },
    "tags": []
   },
   "outputs": [],
   "source": [
    "# Read dataset and set index to datetime for plotting purposes\n",
    "data = pd.read_csv(\"/kaggle/input/eth-all/ETH_return2.csv\")\n",
    "data[\"timestamp\"] = pd.to_datetime(data[\"timestamp\"])\n",
    "data.set_index(\"timestamp\", inplace=True)\n",
    "\n",
    "\n",
    "# Scale data using train parameters to ensure no data leakage\n",
    "split = int(len(data) * 0.8)\n",
    "train, test = data[:split], data[split:]\n",
    "scaler = StandardScaler()\n",
    "train_scaled = scaler.fit_transform(train)\n",
    "test_scaled = scaler.transform(test)\n",
    "scaled_data = np.vstack((train_scaled, test_scaled))\n",
    "\n",
    "\n",
    "\n",
    "# Create Sequences\n",
    "column_index = data.columns.get_loc('close')\n",
    "predict_value = 24\n",
    "SEQ_LENGTH = 24\n",
    "def create_sequences(data, seq_length):\n",
    "    X, Y = [], []\n",
    "    for i in range(len(data) - seq_length - predict_value):  \n",
    "        x = data[i:i + seq_length]\n",
    "        y = data[i + seq_length + predict_value, column_index]  \n",
    "        X.append(x)\n",
    "        Y.append(y)\n",
    "    return np.array(X), np.array(Y)\n",
    "X, y = create_sequences(scaled_data, SEQ_LENGTH)\n",
    "\n",
    "\n",
    "split = int(0.8 * len(X))\n",
    "X_train, X_test = X[:split], X[split:]\n",
    "y_train, y_test = y[:split], y[split:]"
   ]
  },
  {
   "cell_type": "markdown",
   "id": "edd4a8fe",
   "metadata": {
    "papermill": {
     "duration": 0.005899,
     "end_time": "2024-08-26T18:39:34.495312",
     "exception": false,
     "start_time": "2024-08-26T18:39:34.489413",
     "status": "completed"
    },
    "tags": []
   },
   "source": [
    "# Auto-Encoder"
   ]
  },
  {
   "cell_type": "code",
   "execution_count": 3,
   "id": "4da5bfab",
   "metadata": {
    "execution": {
     "iopub.execute_input": "2024-08-26T18:39:34.508198Z",
     "iopub.status.busy": "2024-08-26T18:39:34.507850Z",
     "iopub.status.idle": "2024-08-26T18:45:07.146840Z",
     "shell.execute_reply": "2024-08-26T18:45:07.145604Z"
    },
    "papermill": {
     "duration": 332.647671,
     "end_time": "2024-08-26T18:45:07.148859",
     "exception": false,
     "start_time": "2024-08-26T18:39:34.501188",
     "status": "completed"
    },
    "tags": []
   },
   "outputs": [
    {
     "name": "stdout",
     "output_type": "stream",
     "text": [
      "Epoch 1/100\n",
      "\u001b[1m371/371\u001b[0m \u001b[32m━━━━━━━━━━━━━━━━━━━━\u001b[0m\u001b[37m\u001b[0m \u001b[1m10s\u001b[0m 18ms/step - loss: 0.4349 - val_loss: 0.1943\n",
      "Epoch 2/100\n",
      "\u001b[1m371/371\u001b[0m \u001b[32m━━━━━━━━━━━━━━━━━━━━\u001b[0m\u001b[37m\u001b[0m \u001b[1m8s\u001b[0m 16ms/step - loss: 0.2390 - val_loss: 0.1493\n",
      "Epoch 3/100\n",
      "\u001b[1m371/371\u001b[0m \u001b[32m━━━━━━━━━━━━━━━━━━━━\u001b[0m\u001b[37m\u001b[0m \u001b[1m6s\u001b[0m 16ms/step - loss: 0.2116 - val_loss: 0.1301\n",
      "Epoch 4/100\n",
      "\u001b[1m371/371\u001b[0m \u001b[32m━━━━━━━━━━━━━━━━━━━━\u001b[0m\u001b[37m\u001b[0m \u001b[1m6s\u001b[0m 16ms/step - loss: 0.1973 - val_loss: 0.1228\n",
      "Epoch 5/100\n",
      "\u001b[1m371/371\u001b[0m \u001b[32m━━━━━━━━━━━━━━━━━━━━\u001b[0m\u001b[37m\u001b[0m \u001b[1m6s\u001b[0m 16ms/step - loss: 0.1880 - val_loss: 0.1152\n",
      "Epoch 6/100\n",
      "\u001b[1m371/371\u001b[0m \u001b[32m━━━━━━━━━━━━━━━━━━━━\u001b[0m\u001b[37m\u001b[0m \u001b[1m6s\u001b[0m 16ms/step - loss: 0.1802 - val_loss: 0.1047\n",
      "Epoch 7/100\n",
      "\u001b[1m371/371\u001b[0m \u001b[32m━━━━━━━━━━━━━━━━━━━━\u001b[0m\u001b[37m\u001b[0m \u001b[1m6s\u001b[0m 16ms/step - loss: 0.1736 - val_loss: 0.1043\n",
      "Epoch 8/100\n",
      "\u001b[1m371/371\u001b[0m \u001b[32m━━━━━━━━━━━━━━━━━━━━\u001b[0m\u001b[37m\u001b[0m \u001b[1m6s\u001b[0m 16ms/step - loss: 0.1663 - val_loss: 0.0926\n",
      "Epoch 9/100\n",
      "\u001b[1m371/371\u001b[0m \u001b[32m━━━━━━━━━━━━━━━━━━━━\u001b[0m\u001b[37m\u001b[0m \u001b[1m6s\u001b[0m 16ms/step - loss: 0.1597 - val_loss: 0.0883\n",
      "Epoch 10/100\n",
      "\u001b[1m371/371\u001b[0m \u001b[32m━━━━━━━━━━━━━━━━━━━━\u001b[0m\u001b[37m\u001b[0m \u001b[1m6s\u001b[0m 16ms/step - loss: 0.1534 - val_loss: 0.0828\n",
      "Epoch 11/100\n",
      "\u001b[1m371/371\u001b[0m \u001b[32m━━━━━━━━━━━━━━━━━━━━\u001b[0m\u001b[37m\u001b[0m \u001b[1m6s\u001b[0m 16ms/step - loss: 0.1488 - val_loss: 0.1062\n",
      "Epoch 12/100\n",
      "\u001b[1m371/371\u001b[0m \u001b[32m━━━━━━━━━━━━━━━━━━━━\u001b[0m\u001b[37m\u001b[0m \u001b[1m6s\u001b[0m 16ms/step - loss: 0.1461 - val_loss: 0.0789\n",
      "Epoch 13/100\n",
      "\u001b[1m371/371\u001b[0m \u001b[32m━━━━━━━━━━━━━━━━━━━━\u001b[0m\u001b[37m\u001b[0m \u001b[1m6s\u001b[0m 16ms/step - loss: 0.1442 - val_loss: 0.0903\n",
      "Epoch 14/100\n",
      "\u001b[1m371/371\u001b[0m \u001b[32m━━━━━━━━━━━━━━━━━━━━\u001b[0m\u001b[37m\u001b[0m \u001b[1m6s\u001b[0m 16ms/step - loss: 0.1422 - val_loss: 0.0762\n",
      "Epoch 15/100\n",
      "\u001b[1m371/371\u001b[0m \u001b[32m━━━━━━━━━━━━━━━━━━━━\u001b[0m\u001b[37m\u001b[0m \u001b[1m6s\u001b[0m 16ms/step - loss: 0.1415 - val_loss: 0.0904\n",
      "Epoch 16/100\n",
      "\u001b[1m371/371\u001b[0m \u001b[32m━━━━━━━━━━━━━━━━━━━━\u001b[0m\u001b[37m\u001b[0m \u001b[1m6s\u001b[0m 17ms/step - loss: 0.1407 - val_loss: 0.0897\n",
      "Epoch 17/100\n",
      "\u001b[1m371/371\u001b[0m \u001b[32m━━━━━━━━━━━━━━━━━━━━\u001b[0m\u001b[37m\u001b[0m \u001b[1m6s\u001b[0m 17ms/step - loss: 0.1394 - val_loss: 0.0819\n",
      "Epoch 18/100\n",
      "\u001b[1m371/371\u001b[0m \u001b[32m━━━━━━━━━━━━━━━━━━━━\u001b[0m\u001b[37m\u001b[0m \u001b[1m6s\u001b[0m 17ms/step - loss: 0.1384 - val_loss: 0.0711\n",
      "Epoch 19/100\n",
      "\u001b[1m371/371\u001b[0m \u001b[32m━━━━━━━━━━━━━━━━━━━━\u001b[0m\u001b[37m\u001b[0m \u001b[1m6s\u001b[0m 17ms/step - loss: 0.1373 - val_loss: 0.0824\n",
      "Epoch 20/100\n",
      "\u001b[1m371/371\u001b[0m \u001b[32m━━━━━━━━━━━━━━━━━━━━\u001b[0m\u001b[37m\u001b[0m \u001b[1m6s\u001b[0m 17ms/step - loss: 0.1360 - val_loss: 0.0798\n",
      "Epoch 21/100\n",
      "\u001b[1m371/371\u001b[0m \u001b[32m━━━━━━━━━━━━━━━━━━━━\u001b[0m\u001b[37m\u001b[0m \u001b[1m6s\u001b[0m 17ms/step - loss: 0.1354 - val_loss: 0.0698\n",
      "Epoch 22/100\n",
      "\u001b[1m371/371\u001b[0m \u001b[32m━━━━━━━━━━━━━━━━━━━━\u001b[0m\u001b[37m\u001b[0m \u001b[1m6s\u001b[0m 17ms/step - loss: 0.1357 - val_loss: 0.0755\n",
      "Epoch 23/100\n",
      "\u001b[1m371/371\u001b[0m \u001b[32m━━━━━━━━━━━━━━━━━━━━\u001b[0m\u001b[37m\u001b[0m \u001b[1m6s\u001b[0m 17ms/step - loss: 0.1343 - val_loss: 0.0787\n",
      "Epoch 24/100\n",
      "\u001b[1m371/371\u001b[0m \u001b[32m━━━━━━━━━━━━━━━━━━━━\u001b[0m\u001b[37m\u001b[0m \u001b[1m6s\u001b[0m 17ms/step - loss: 0.1335 - val_loss: 0.0782\n",
      "Epoch 25/100\n",
      "\u001b[1m371/371\u001b[0m \u001b[32m━━━━━━━━━━━━━━━━━━━━\u001b[0m\u001b[37m\u001b[0m \u001b[1m6s\u001b[0m 17ms/step - loss: 0.1334 - val_loss: 0.0807\n",
      "Epoch 26/100\n",
      "\u001b[1m371/371\u001b[0m \u001b[32m━━━━━━━━━━━━━━━━━━━━\u001b[0m\u001b[37m\u001b[0m \u001b[1m6s\u001b[0m 17ms/step - loss: 0.1335 - val_loss: 0.0772\n",
      "Epoch 27/100\n",
      "\u001b[1m371/371\u001b[0m \u001b[32m━━━━━━━━━━━━━━━━━━━━\u001b[0m\u001b[37m\u001b[0m \u001b[1m6s\u001b[0m 17ms/step - loss: 0.1324 - val_loss: 0.0665\n",
      "Epoch 28/100\n",
      "\u001b[1m371/371\u001b[0m \u001b[32m━━━━━━━━━━━━━━━━━━━━\u001b[0m\u001b[37m\u001b[0m \u001b[1m10s\u001b[0m 17ms/step - loss: 0.1314 - val_loss: 0.0755\n",
      "Epoch 29/100\n",
      "\u001b[1m371/371\u001b[0m \u001b[32m━━━━━━━━━━━━━━━━━━━━\u001b[0m\u001b[37m\u001b[0m \u001b[1m6s\u001b[0m 16ms/step - loss: 0.1314 - val_loss: 0.0706\n",
      "Epoch 30/100\n",
      "\u001b[1m371/371\u001b[0m \u001b[32m━━━━━━━━━━━━━━━━━━━━\u001b[0m\u001b[37m\u001b[0m \u001b[1m6s\u001b[0m 17ms/step - loss: 0.1323 - val_loss: 0.0662\n",
      "Epoch 31/100\n",
      "\u001b[1m371/371\u001b[0m \u001b[32m━━━━━━━━━━━━━━━━━━━━\u001b[0m\u001b[37m\u001b[0m \u001b[1m6s\u001b[0m 17ms/step - loss: 0.1315 - val_loss: 0.0660\n",
      "Epoch 32/100\n",
      "\u001b[1m371/371\u001b[0m \u001b[32m━━━━━━━━━━━━━━━━━━━━\u001b[0m\u001b[37m\u001b[0m \u001b[1m6s\u001b[0m 17ms/step - loss: 0.1308 - val_loss: 0.0756\n",
      "Epoch 33/100\n",
      "\u001b[1m371/371\u001b[0m \u001b[32m━━━━━━━━━━━━━━━━━━━━\u001b[0m\u001b[37m\u001b[0m \u001b[1m6s\u001b[0m 17ms/step - loss: 0.1305 - val_loss: 0.0689\n",
      "Epoch 34/100\n",
      "\u001b[1m371/371\u001b[0m \u001b[32m━━━━━━━━━━━━━━━━━━━━\u001b[0m\u001b[37m\u001b[0m \u001b[1m6s\u001b[0m 17ms/step - loss: 0.1306 - val_loss: 0.0793\n",
      "Epoch 35/100\n",
      "\u001b[1m371/371\u001b[0m \u001b[32m━━━━━━━━━━━━━━━━━━━━\u001b[0m\u001b[37m\u001b[0m \u001b[1m6s\u001b[0m 17ms/step - loss: 0.1298 - val_loss: 0.0698\n",
      "Epoch 36/100\n",
      "\u001b[1m371/371\u001b[0m \u001b[32m━━━━━━━━━━━━━━━━━━━━\u001b[0m\u001b[37m\u001b[0m \u001b[1m6s\u001b[0m 17ms/step - loss: 0.1295 - val_loss: 0.0699\n",
      "Epoch 37/100\n",
      "\u001b[1m371/371\u001b[0m \u001b[32m━━━━━━━━━━━━━━━━━━━━\u001b[0m\u001b[37m\u001b[0m \u001b[1m6s\u001b[0m 17ms/step - loss: 0.1290 - val_loss: 0.0678\n",
      "Epoch 38/100\n",
      "\u001b[1m371/371\u001b[0m \u001b[32m━━━━━━━━━━━━━━━━━━━━\u001b[0m\u001b[37m\u001b[0m \u001b[1m6s\u001b[0m 17ms/step - loss: 0.1294 - val_loss: 0.0744\n",
      "Epoch 39/100\n",
      "\u001b[1m371/371\u001b[0m \u001b[32m━━━━━━━━━━━━━━━━━━━━\u001b[0m\u001b[37m\u001b[0m \u001b[1m6s\u001b[0m 17ms/step - loss: 0.1284 - val_loss: 0.0656\n",
      "Epoch 40/100\n",
      "\u001b[1m371/371\u001b[0m \u001b[32m━━━━━━━━━━━━━━━━━━━━\u001b[0m\u001b[37m\u001b[0m \u001b[1m6s\u001b[0m 17ms/step - loss: 0.1281 - val_loss: 0.0615\n",
      "Epoch 41/100\n",
      "\u001b[1m371/371\u001b[0m \u001b[32m━━━━━━━━━━━━━━━━━━━━\u001b[0m\u001b[37m\u001b[0m \u001b[1m6s\u001b[0m 17ms/step - loss: 0.1289 - val_loss: 0.0724\n",
      "Epoch 42/100\n",
      "\u001b[1m371/371\u001b[0m \u001b[32m━━━━━━━━━━━━━━━━━━━━\u001b[0m\u001b[37m\u001b[0m \u001b[1m6s\u001b[0m 17ms/step - loss: 0.1276 - val_loss: 0.0655\n",
      "Epoch 43/100\n",
      "\u001b[1m371/371\u001b[0m \u001b[32m━━━━━━━━━━━━━━━━━━━━\u001b[0m\u001b[37m\u001b[0m \u001b[1m6s\u001b[0m 17ms/step - loss: 0.1285 - val_loss: 0.0665\n",
      "Epoch 44/100\n",
      "\u001b[1m371/371\u001b[0m \u001b[32m━━━━━━━━━━━━━━━━━━━━\u001b[0m\u001b[37m\u001b[0m \u001b[1m6s\u001b[0m 17ms/step - loss: 0.1280 - val_loss: 0.0696\n",
      "Epoch 45/100\n",
      "\u001b[1m371/371\u001b[0m \u001b[32m━━━━━━━━━━━━━━━━━━━━\u001b[0m\u001b[37m\u001b[0m \u001b[1m6s\u001b[0m 17ms/step - loss: 0.1274 - val_loss: 0.0708\n",
      "Epoch 46/100\n",
      "\u001b[1m371/371\u001b[0m \u001b[32m━━━━━━━━━━━━━━━━━━━━\u001b[0m\u001b[37m\u001b[0m \u001b[1m6s\u001b[0m 17ms/step - loss: 0.1279 - val_loss: 0.0709\n",
      "Epoch 47/100\n",
      "\u001b[1m371/371\u001b[0m \u001b[32m━━━━━━━━━━━━━━━━━━━━\u001b[0m\u001b[37m\u001b[0m \u001b[1m6s\u001b[0m 17ms/step - loss: 0.1274 - val_loss: 0.0663\n",
      "Epoch 48/100\n",
      "\u001b[1m371/371\u001b[0m \u001b[32m━━━━━━━━━━━━━━━━━━━━\u001b[0m\u001b[37m\u001b[0m \u001b[1m6s\u001b[0m 17ms/step - loss: 0.1272 - val_loss: 0.0660\n",
      "Epoch 49/100\n",
      "\u001b[1m371/371\u001b[0m \u001b[32m━━━━━━━━━━━━━━━━━━━━\u001b[0m\u001b[37m\u001b[0m \u001b[1m6s\u001b[0m 17ms/step - loss: 0.1272 - val_loss: 0.0653\n",
      "Epoch 50/100\n",
      "\u001b[1m371/371\u001b[0m \u001b[32m━━━━━━━━━━━━━━━━━━━━\u001b[0m\u001b[37m\u001b[0m \u001b[1m6s\u001b[0m 17ms/step - loss: 0.1266 - val_loss: 0.0642\n",
      "\u001b[1m1855/1855\u001b[0m \u001b[32m━━━━━━━━━━━━━━━━━━━━\u001b[0m\u001b[37m\u001b[0m \u001b[1m4s\u001b[0m 2ms/step\n",
      "\u001b[1m1855/1855\u001b[0m \u001b[32m━━━━━━━━━━━━━━━━━━━━\u001b[0m\u001b[37m\u001b[0m \u001b[1m7s\u001b[0m 4ms/step\n",
      "Mean Squared Error: 0.14473002367024193\n"
     ]
    }
   ],
   "source": [
    "# Encoder - Decoder\n",
    "dropout_rate = 0.2\n",
    "activation = \"tanh\"\n",
    "LSTM_units = 350\n",
    "learning_rate = 0.1\n",
    "\n",
    "input_layer = Input(shape=(X.shape[1], X.shape[2]))\n",
    "encoded = LSTM(LSTM_units, activation=activation, return_sequences=True)(input_layer)\n",
    "encoded = LSTM(2, activation=activation, return_sequences=True)(encoded)\n",
    "decoded = LSTM(LSTM_units, return_sequences=True, activation=activation)(encoded)\n",
    "decoded = Dropout(dropout_rate)(decoded)\n",
    "decoded = TimeDistributed(Dense(X.shape[2]))(decoded)\n",
    "\n",
    "autoencoder = Model(input_layer, decoded)\n",
    "autoencoder.compile(optimizer=SGD(learning_rate=learning_rate, momentum=0.5), loss=MAE)\n",
    "early_stopping = EarlyStopping(monitor='val_loss', patience=10, restore_best_weights=True)\n",
    "history = autoencoder.fit(X, X, epochs=100, batch_size=128, validation_split=0.2, callbacks = [early_stopping])\n",
    "\n",
    "encoder = Model(input_layer, encoded)\n",
    "encoded_data = encoder.predict(X)\n",
    "\n",
    "\n",
    "# Testing performance of encoder\n",
    "reconstructed_sequences = autoencoder.predict(X)\n",
    "mse = np.mean(np.power(X - reconstructed_sequences, 2), axis=(1, 2))\n",
    "print(f'Mean Squared Error: {np.mean(mse)}')"
   ]
  },
  {
   "cell_type": "markdown",
   "id": "85e203bb",
   "metadata": {
    "_cell_guid": "68e5ad46-82a8-4bba-9d8e-f31963d5925f",
    "_uuid": "2c0f22bf-8a86-4b93-996b-2f07cc9cb33e",
    "id": "xv7Y7zMuWNzt",
    "papermill": {
     "duration": 0.446162,
     "end_time": "2024-08-26T18:45:07.995896",
     "exception": false,
     "start_time": "2024-08-26T18:45:07.549734",
     "status": "completed"
    },
    "tags": []
   },
   "source": [
    "# LSTM Forecasting Model"
   ]
  },
  {
   "cell_type": "code",
   "execution_count": 4,
   "id": "090f1a1a",
   "metadata": {
    "_cell_guid": "709881cf-0613-46e5-9a99-b023eff610bf",
    "_uuid": "4fb2cc9d-f8d7-4d51-a68d-cdcab6325525",
    "execution": {
     "iopub.execute_input": "2024-08-26T18:45:08.793958Z",
     "iopub.status.busy": "2024-08-26T18:45:08.793060Z",
     "iopub.status.idle": "2024-08-26T18:47:48.539511Z",
     "shell.execute_reply": "2024-08-26T18:47:48.538719Z"
    },
    "id": "wdM3jU1faj8v",
    "papermill": {
     "duration": 160.148038,
     "end_time": "2024-08-26T18:47:48.541629",
     "exception": false,
     "start_time": "2024-08-26T18:45:08.393591",
     "status": "completed"
    },
    "tags": []
   },
   "outputs": [
    {
     "name": "stdout",
     "output_type": "stream",
     "text": [
      "Epoch 1/100\n",
      "\u001b[1m297/297\u001b[0m \u001b[32m━━━━━━━━━━━━━━━━━━━━\u001b[0m\u001b[37m\u001b[0m \u001b[1m7s\u001b[0m 12ms/step - loss: 1.1497 - val_loss: 1.4367\n",
      "Epoch 2/100\n",
      "\u001b[1m297/297\u001b[0m \u001b[32m━━━━━━━━━━━━━━━━━━━━\u001b[0m\u001b[37m\u001b[0m \u001b[1m3s\u001b[0m 10ms/step - loss: 0.7607 - val_loss: 0.9726\n",
      "Epoch 3/100\n",
      "\u001b[1m297/297\u001b[0m \u001b[32m━━━━━━━━━━━━━━━━━━━━\u001b[0m\u001b[37m\u001b[0m \u001b[1m3s\u001b[0m 10ms/step - loss: 0.6689 - val_loss: 0.5791\n",
      "Epoch 4/100\n",
      "\u001b[1m297/297\u001b[0m \u001b[32m━━━━━━━━━━━━━━━━━━━━\u001b[0m\u001b[37m\u001b[0m \u001b[1m3s\u001b[0m 10ms/step - loss: 0.6073 - val_loss: 0.5154\n",
      "Epoch 5/100\n",
      "\u001b[1m297/297\u001b[0m \u001b[32m━━━━━━━━━━━━━━━━━━━━\u001b[0m\u001b[37m\u001b[0m \u001b[1m3s\u001b[0m 10ms/step - loss: 0.5478 - val_loss: 0.4890\n",
      "Epoch 6/100\n",
      "\u001b[1m297/297\u001b[0m \u001b[32m━━━━━━━━━━━━━━━━━━━━\u001b[0m\u001b[37m\u001b[0m \u001b[1m3s\u001b[0m 10ms/step - loss: 0.4957 - val_loss: 0.4175\n",
      "Epoch 7/100\n",
      "\u001b[1m297/297\u001b[0m \u001b[32m━━━━━━━━━━━━━━━━━━━━\u001b[0m\u001b[37m\u001b[0m \u001b[1m3s\u001b[0m 10ms/step - loss: 0.4507 - val_loss: 0.3780\n",
      "Epoch 8/100\n",
      "\u001b[1m297/297\u001b[0m \u001b[32m━━━━━━━━━━━━━━━━━━━━\u001b[0m\u001b[37m\u001b[0m \u001b[1m3s\u001b[0m 10ms/step - loss: 0.4149 - val_loss: 0.3437\n",
      "Epoch 9/100\n",
      "\u001b[1m297/297\u001b[0m \u001b[32m━━━━━━━━━━━━━━━━━━━━\u001b[0m\u001b[37m\u001b[0m \u001b[1m3s\u001b[0m 10ms/step - loss: 0.3821 - val_loss: 0.3145\n",
      "Epoch 10/100\n",
      "\u001b[1m297/297\u001b[0m \u001b[32m━━━━━━━━━━━━━━━━━━━━\u001b[0m\u001b[37m\u001b[0m \u001b[1m3s\u001b[0m 10ms/step - loss: 0.3454 - val_loss: 0.2911\n",
      "Epoch 11/100\n",
      "\u001b[1m297/297\u001b[0m \u001b[32m━━━━━━━━━━━━━━━━━━━━\u001b[0m\u001b[37m\u001b[0m \u001b[1m3s\u001b[0m 10ms/step - loss: 0.3203 - val_loss: 0.2604\n",
      "Epoch 12/100\n",
      "\u001b[1m297/297\u001b[0m \u001b[32m━━━━━━━━━━━━━━━━━━━━\u001b[0m\u001b[37m\u001b[0m \u001b[1m3s\u001b[0m 10ms/step - loss: 0.2903 - val_loss: 0.2512\n",
      "Epoch 13/100\n",
      "\u001b[1m297/297\u001b[0m \u001b[32m━━━━━━━━━━━━━━━━━━━━\u001b[0m\u001b[37m\u001b[0m \u001b[1m3s\u001b[0m 10ms/step - loss: 0.2789 - val_loss: 0.2568\n",
      "Epoch 14/100\n",
      "\u001b[1m297/297\u001b[0m \u001b[32m━━━━━━━━━━━━━━━━━━━━\u001b[0m\u001b[37m\u001b[0m \u001b[1m3s\u001b[0m 10ms/step - loss: 0.2549 - val_loss: 0.2354\n",
      "Epoch 15/100\n",
      "\u001b[1m297/297\u001b[0m \u001b[32m━━━━━━━━━━━━━━━━━━━━\u001b[0m\u001b[37m\u001b[0m \u001b[1m3s\u001b[0m 10ms/step - loss: 0.2430 - val_loss: 0.1895\n",
      "Epoch 16/100\n",
      "\u001b[1m297/297\u001b[0m \u001b[32m━━━━━━━━━━━━━━━━━━━━\u001b[0m\u001b[37m\u001b[0m \u001b[1m3s\u001b[0m 10ms/step - loss: 0.2210 - val_loss: 0.1739\n",
      "Epoch 17/100\n",
      "\u001b[1m297/297\u001b[0m \u001b[32m━━━━━━━━━━━━━━━━━━━━\u001b[0m\u001b[37m\u001b[0m \u001b[1m3s\u001b[0m 11ms/step - loss: 0.2135 - val_loss: 0.1836\n",
      "Epoch 18/100\n",
      "\u001b[1m297/297\u001b[0m \u001b[32m━━━━━━━━━━━━━━━━━━━━\u001b[0m\u001b[37m\u001b[0m \u001b[1m3s\u001b[0m 10ms/step - loss: 0.2058 - val_loss: 0.1817\n",
      "Epoch 19/100\n",
      "\u001b[1m297/297\u001b[0m \u001b[32m━━━━━━━━━━━━━━━━━━━━\u001b[0m\u001b[37m\u001b[0m \u001b[1m3s\u001b[0m 10ms/step - loss: 0.1889 - val_loss: 0.1467\n",
      "Epoch 20/100\n",
      "\u001b[1m297/297\u001b[0m \u001b[32m━━━━━━━━━━━━━━━━━━━━\u001b[0m\u001b[37m\u001b[0m \u001b[1m5s\u001b[0m 10ms/step - loss: 0.1827 - val_loss: 0.1349\n",
      "Epoch 21/100\n",
      "\u001b[1m297/297\u001b[0m \u001b[32m━━━━━━━━━━━━━━━━━━━━\u001b[0m\u001b[37m\u001b[0m \u001b[1m3s\u001b[0m 10ms/step - loss: 0.1678 - val_loss: 0.1278\n",
      "Epoch 22/100\n",
      "\u001b[1m297/297\u001b[0m \u001b[32m━━━━━━━━━━━━━━━━━━━━\u001b[0m\u001b[37m\u001b[0m \u001b[1m3s\u001b[0m 10ms/step - loss: 0.1707 - val_loss: 0.1455\n",
      "Epoch 23/100\n",
      "\u001b[1m297/297\u001b[0m \u001b[32m━━━━━━━━━━━━━━━━━━━━\u001b[0m\u001b[37m\u001b[0m \u001b[1m3s\u001b[0m 10ms/step - loss: 0.1623 - val_loss: 0.1214\n",
      "Epoch 24/100\n",
      "\u001b[1m297/297\u001b[0m \u001b[32m━━━━━━━━━━━━━━━━━━━━\u001b[0m\u001b[37m\u001b[0m \u001b[1m3s\u001b[0m 10ms/step - loss: 0.1565 - val_loss: 0.1168\n",
      "Epoch 25/100\n",
      "\u001b[1m297/297\u001b[0m \u001b[32m━━━━━━━━━━━━━━━━━━━━\u001b[0m\u001b[37m\u001b[0m \u001b[1m3s\u001b[0m 10ms/step - loss: 0.1535 - val_loss: 0.1123\n",
      "Epoch 26/100\n",
      "\u001b[1m297/297\u001b[0m \u001b[32m━━━━━━━━━━━━━━━━━━━━\u001b[0m\u001b[37m\u001b[0m \u001b[1m3s\u001b[0m 10ms/step - loss: 0.1440 - val_loss: 0.0989\n",
      "Epoch 27/100\n",
      "\u001b[1m297/297\u001b[0m \u001b[32m━━━━━━━━━━━━━━━━━━━━\u001b[0m\u001b[37m\u001b[0m \u001b[1m3s\u001b[0m 11ms/step - loss: 0.1370 - val_loss: 0.1050\n",
      "Epoch 28/100\n",
      "\u001b[1m297/297\u001b[0m \u001b[32m━━━━━━━━━━━━━━━━━━━━\u001b[0m\u001b[37m\u001b[0m \u001b[1m3s\u001b[0m 10ms/step - loss: 0.1316 - val_loss: 0.1182\n",
      "Epoch 29/100\n",
      "\u001b[1m297/297\u001b[0m \u001b[32m━━━━━━━━━━━━━━━━━━━━\u001b[0m\u001b[37m\u001b[0m \u001b[1m3s\u001b[0m 10ms/step - loss: 0.1302 - val_loss: 0.1017\n",
      "Epoch 30/100\n",
      "\u001b[1m297/297\u001b[0m \u001b[32m━━━━━━━━━━━━━━━━━━━━\u001b[0m\u001b[37m\u001b[0m \u001b[1m3s\u001b[0m 10ms/step - loss: 0.1291 - val_loss: 0.1574\n",
      "Epoch 31/100\n",
      "\u001b[1m297/297\u001b[0m \u001b[32m━━━━━━━━━━━━━━━━━━━━\u001b[0m\u001b[37m\u001b[0m \u001b[1m3s\u001b[0m 10ms/step - loss: 0.1254 - val_loss: 0.1631\n",
      "Epoch 32/100\n",
      "\u001b[1m297/297\u001b[0m \u001b[32m━━━━━━━━━━━━━━━━━━━━\u001b[0m\u001b[37m\u001b[0m \u001b[1m3s\u001b[0m 10ms/step - loss: 0.1234 - val_loss: 0.0822\n",
      "Epoch 33/100\n",
      "\u001b[1m297/297\u001b[0m \u001b[32m━━━━━━━━━━━━━━━━━━━━\u001b[0m\u001b[37m\u001b[0m \u001b[1m3s\u001b[0m 10ms/step - loss: 0.1243 - val_loss: 0.1052\n",
      "Epoch 34/100\n",
      "\u001b[1m297/297\u001b[0m \u001b[32m━━━━━━━━━━━━━━━━━━━━\u001b[0m\u001b[37m\u001b[0m \u001b[1m3s\u001b[0m 10ms/step - loss: 0.1223 - val_loss: 0.0843\n",
      "Epoch 35/100\n",
      "\u001b[1m297/297\u001b[0m \u001b[32m━━━━━━━━━━━━━━━━━━━━\u001b[0m\u001b[37m\u001b[0m \u001b[1m3s\u001b[0m 10ms/step - loss: 0.1237 - val_loss: 0.0932\n",
      "Epoch 36/100\n",
      "\u001b[1m297/297\u001b[0m \u001b[32m━━━━━━━━━━━━━━━━━━━━\u001b[0m\u001b[37m\u001b[0m \u001b[1m3s\u001b[0m 10ms/step - loss: 0.1145 - val_loss: 0.0789\n",
      "Epoch 37/100\n",
      "\u001b[1m297/297\u001b[0m \u001b[32m━━━━━━━━━━━━━━━━━━━━\u001b[0m\u001b[37m\u001b[0m \u001b[1m3s\u001b[0m 10ms/step - loss: 0.1166 - val_loss: 0.0787\n",
      "Epoch 38/100\n",
      "\u001b[1m297/297\u001b[0m \u001b[32m━━━━━━━━━━━━━━━━━━━━\u001b[0m\u001b[37m\u001b[0m \u001b[1m3s\u001b[0m 10ms/step - loss: 0.1125 - val_loss: 0.0814\n",
      "Epoch 39/100\n",
      "\u001b[1m297/297\u001b[0m \u001b[32m━━━━━━━━━━━━━━━━━━━━\u001b[0m\u001b[37m\u001b[0m \u001b[1m3s\u001b[0m 10ms/step - loss: 0.1141 - val_loss: 0.0730\n",
      "Epoch 40/100\n",
      "\u001b[1m297/297\u001b[0m \u001b[32m━━━━━━━━━━━━━━━━━━━━\u001b[0m\u001b[37m\u001b[0m \u001b[1m3s\u001b[0m 10ms/step - loss: 0.1128 - val_loss: 0.0820\n",
      "Epoch 41/100\n",
      "\u001b[1m297/297\u001b[0m \u001b[32m━━━━━━━━━━━━━━━━━━━━\u001b[0m\u001b[37m\u001b[0m \u001b[1m3s\u001b[0m 10ms/step - loss: 0.1116 - val_loss: 0.0776\n",
      "Epoch 42/100\n",
      "\u001b[1m297/297\u001b[0m \u001b[32m━━━━━━━━━━━━━━━━━━━━\u001b[0m\u001b[37m\u001b[0m \u001b[1m3s\u001b[0m 10ms/step - loss: 0.1151 - val_loss: 0.1469\n",
      "Epoch 43/100\n",
      "\u001b[1m297/297\u001b[0m \u001b[32m━━━━━━━━━━━━━━━━━━━━\u001b[0m\u001b[37m\u001b[0m \u001b[1m3s\u001b[0m 10ms/step - loss: 0.1100 - val_loss: 0.0707\n",
      "Epoch 44/100\n",
      "\u001b[1m297/297\u001b[0m \u001b[32m━━━━━━━━━━━━━━━━━━━━\u001b[0m\u001b[37m\u001b[0m \u001b[1m3s\u001b[0m 10ms/step - loss: 0.1085 - val_loss: 0.0888\n",
      "Epoch 45/100\n",
      "\u001b[1m297/297\u001b[0m \u001b[32m━━━━━━━━━━━━━━━━━━━━\u001b[0m\u001b[37m\u001b[0m \u001b[1m3s\u001b[0m 10ms/step - loss: 0.1116 - val_loss: 0.0792\n",
      "Epoch 46/100\n",
      "\u001b[1m297/297\u001b[0m \u001b[32m━━━━━━━━━━━━━━━━━━━━\u001b[0m\u001b[37m\u001b[0m \u001b[1m3s\u001b[0m 10ms/step - loss: 0.1069 - val_loss: 0.1612\n",
      "Epoch 47/100\n",
      "\u001b[1m297/297\u001b[0m \u001b[32m━━━━━━━━━━━━━━━━━━━━\u001b[0m\u001b[37m\u001b[0m \u001b[1m3s\u001b[0m 10ms/step - loss: 0.1112 - val_loss: 0.0716\n",
      "Epoch 48/100\n",
      "\u001b[1m297/297\u001b[0m \u001b[32m━━━━━━━━━━━━━━━━━━━━\u001b[0m\u001b[37m\u001b[0m \u001b[1m3s\u001b[0m 10ms/step - loss: 0.1119 - val_loss: 0.0863\n",
      "Epoch 49/100\n",
      "\u001b[1m297/297\u001b[0m \u001b[32m━━━━━━━━━━━━━━━━━━━━\u001b[0m\u001b[37m\u001b[0m \u001b[1m3s\u001b[0m 10ms/step - loss: 0.1120 - val_loss: 0.1373\n",
      "Epoch 50/100\n",
      "\u001b[1m297/297\u001b[0m \u001b[32m━━━━━━━━━━━━━━━━━━━━\u001b[0m\u001b[37m\u001b[0m \u001b[1m3s\u001b[0m 10ms/step - loss: 0.1081 - val_loss: 0.0934\n",
      "Epoch 51/100\n",
      "\u001b[1m297/297\u001b[0m \u001b[32m━━━━━━━━━━━━━━━━━━━━\u001b[0m\u001b[37m\u001b[0m \u001b[1m3s\u001b[0m 10ms/step - loss: 0.1105 - val_loss: 0.0729\n"
     ]
    }
   ],
   "source": [
    "split = int(len(encoded_data) * 0.8)\n",
    "encoded_X_train, encoded_X_test = encoded_data[:split], encoded_data[split:]\n",
    "\n",
    "lstm_units = 12\n",
    "dropout_rate = 0.1\n",
    "dense_units = 128\n",
    "learning_rate = 0.001\n",
    "weight_decay = 0.01\n",
    "regularizer = 0.00001\n",
    "num_layers = 2\n",
    "activation = 'tanh'\n",
    "\n",
    "input_seq = Input(shape=(SEQ_LENGTH, encoded_X_train.shape[2]))\n",
    "for _ in range(num_layers):\n",
    "    x = Bidirectional(LSTM(lstm_units, return_sequences=True, kernel_regularizer=l2(weight_decay), recurrent_regularizer=l2(regularizer)))(input_seq)\n",
    "    x = Dropout(dropout_rate)(x)\n",
    "\n",
    "x = Bidirectional(LSTM(lstm_units, return_sequences=False, kernel_regularizer=l2(weight_decay), recurrent_regularizer=l2(regularizer)))(x)\n",
    "x = Dropout(dropout_rate)(x)\n",
    "x = BatchNormalization()(x) \n",
    "x = Dropout(dropout_rate)(x)\n",
    "output = Dense(1)(x)\n",
    "\n",
    "model = Model(inputs=input_seq, outputs=output)\n",
    "model.compile(optimizer=SGD(learning_rate=learning_rate, momentum=0.9), loss=MAE)\n",
    "\n",
    "\n",
    "early_stopping = EarlyStopping(monitor='val_loss', patience=8, restore_best_weights=True)\n",
    "history = model.fit(encoded_X_train, y_train, epochs=100, validation_split = 0.2, batch_size=128, callbacks = [early_stopping])\n",
    "#model.save('Predict_24hr_model2.h5')"
   ]
  },
  {
   "cell_type": "markdown",
   "id": "a3160e43",
   "metadata": {
    "_cell_guid": "8052459c-c662-4b46-a496-f425041b08c0",
    "_uuid": "0526d7ff-34d6-4d97-8951-03e5bdc07a0e",
    "papermill": {
     "duration": 0.655897,
     "end_time": "2024-08-26T18:47:49.815040",
     "exception": false,
     "start_time": "2024-08-26T18:47:49.159143",
     "status": "completed"
    },
    "tags": []
   },
   "source": [
    "# Evaluation of Predictions\n",
    "\n",
    "In this section we plot our predicted prices against the true prices and calculate the MSE, MAE and MAPE of these predictions. We plot the distribution of the predicted hourly percentage change in price against the true values and evaluate these predictions with MAE (We do not use MAPE as our calculations will include 0 values leading to infitinite or undefined outputs and we remove MSE as it is not a good metric when dealing with small values like our hourly percentage change values). Finally, we evaluate our models performance in prediciting the direction of price movements using accuracy, precision, recall and F1 scores."
   ]
  },
  {
   "cell_type": "code",
   "execution_count": 5,
   "id": "1f576fde",
   "metadata": {
    "_cell_guid": "1ab81bf6-c027-4fa7-ab13-b2d1eb69ccd4",
    "_uuid": "83d9413f-be5a-40aa-90a8-c9920c87e1b7",
    "execution": {
     "iopub.execute_input": "2024-08-26T18:47:51.035986Z",
     "iopub.status.busy": "2024-08-26T18:47:51.035611Z",
     "iopub.status.idle": "2024-08-26T18:47:53.576303Z",
     "shell.execute_reply": "2024-08-26T18:47:53.575246Z"
    },
    "papermill": {
     "duration": 3.151289,
     "end_time": "2024-08-26T18:47:53.578436",
     "exception": false,
     "start_time": "2024-08-26T18:47:50.427147",
     "status": "completed"
    },
    "tags": []
   },
   "outputs": [
    {
     "name": "stdout",
     "output_type": "stream",
     "text": [
      "\u001b[1m371/371\u001b[0m \u001b[32m━━━━━━━━━━━━━━━━━━━━\u001b[0m\u001b[37m\u001b[0m \u001b[1m2s\u001b[0m 4ms/step\n"
     ]
    },
    {
     "data": {
      "image/png": "[encoded data removed]",
      "text/plain": [
       "<Figure size 640x480 with 1 Axes>"
      ]
     },
     "metadata": {},
     "output_type": "display_data"
    },
    {
     "name": "stdout",
     "output_type": "stream",
     "text": [
      "MSE: 7228.769983787158\n",
      "MAE: 52.98519879234734\n",
      "MAPE: 2.217008010406089\n"
     ]
    }
   ],
   "source": [
    "#model = load_model(\"/kaggle/working/Predict_24hr.h5\")\n",
    "\n",
    "test_predictions = model.predict(encoded_X_test)\n",
    "\n",
    "# This code is here to reset the datasets when running code multple times in one session\n",
    "X, y = create_sequences(scaled_data, SEQ_LENGTH)\n",
    "split = int(0.8 * len(X))\n",
    "X_train, X_test = X[:split], X[split:]\n",
    "y_train, y_test = y[:split], y[split:]\n",
    "\n",
    "# Inverse Scale Values\n",
    "y_test_partial_reshaped = y_test.reshape(-1, 1)\n",
    "y_test_reshaped = np.repeat(y_test_partial_reshaped, X_train.shape[2], axis=1)\n",
    "preds_reshaped = np.repeat(test_predictions, X_train.shape[2], axis=1)\n",
    "y_pred = scaler.inverse_transform(preds_reshaped)[:,column_index]\n",
    "y_test = scaler.inverse_transform(y_test_reshaped)[:,column_index]\n",
    "\n",
    "\n",
    "# Plot Preds vs Targets\n",
    "plt.plot(y_test, label='Test Actual', color='orange')\n",
    "plt.plot(y_pred, label='Test Predicted', color='red')\n",
    "plt.xlabel('Time (Hours)')\n",
    "plt.ylabel('Price')\n",
    "plt.title('Actual vs Predicted Values')\n",
    "plt.legend()\n",
    "plt.show()\n",
    "\n",
    "\n",
    "# Metrics\n",
    "def MAPE(y_true, y_pred):\n",
    "    return np.mean(np.abs((y_true - y_pred) / y_true)) * 100\n",
    "mse = mean_squared_error(y_test, y_pred)\n",
    "mae = mean_absolute_error(y_test, y_pred)\n",
    "mape = MAPE(y_test, y_pred)\n",
    "print(f\"MSE: {mse}\")\n",
    "print(f\"MAE: {mae}\")\n",
    "print(f\"MAPE: {mape}\")"
   ]
  },
  {
   "cell_type": "code",
   "execution_count": 6,
   "id": "d6632b92",
   "metadata": {
    "_cell_guid": "fe76383b-31d1-4bda-97dc-61e4ff887825",
    "_uuid": "09220e81-7016-492e-b59a-e23e696a4bdd",
    "execution": {
     "iopub.execute_input": "2024-08-26T18:47:54.878652Z",
     "iopub.status.busy": "2024-08-26T18:47:54.878293Z",
     "iopub.status.idle": "2024-08-26T18:47:55.737999Z",
     "shell.execute_reply": "2024-08-26T18:47:55.737075Z"
    },
    "papermill": {
     "duration": 1.498353,
     "end_time": "2024-08-26T18:47:55.741358",
     "exception": false,
     "start_time": "2024-08-26T18:47:54.243005",
     "status": "completed"
    },
    "tags": []
   },
   "outputs": [
    {
     "data": {
      "image/png": "[encoded data removed]",
      "text/plain": [
       "<Figure size 800x400 with 2 Axes>"
      ]
     },
     "metadata": {},
     "output_type": "display_data"
    },
    {
     "name": "stdout",
     "output_type": "stream",
     "text": [
      "Test MAE: 0.022180613093549958\n"
     ]
    }
   ],
   "source": [
    "hours = 1\n",
    "\n",
    "predicted_change = (y_pred[hours:] / y_test[:-hours]) - 1\n",
    "actual_change = (y_test[hours:] / y_test[:-hours]) - 1\n",
    "\n",
    "fig, ax = plt.subplots(1, 2, figsize=(8, 4)) \n",
    "ax[0].hist(predicted_change, bins=50)\n",
    "ax[0].set_title(f\"Predicted Price Change in {hours} hour\")\n",
    "ax[0].set_xlabel(\"% change\")\n",
    "\n",
    "ax[1].hist(actual_change, bins=50)\n",
    "ax[1].set_title(f\"Actual Price Change in {hours} hour\")\n",
    "ax[1].set_xlabel(\"% change\")\n",
    "\n",
    "plt.tight_layout()\n",
    "plt.show()\n",
    "\n",
    "change_mae = mean_absolute_error(actual_change, predicted_change)\n",
    "print(f\"Test MAE: {change_mae}\")"
   ]
  },
  {
   "cell_type": "markdown",
   "id": "5f6bccc7",
   "metadata": {
    "papermill": {
     "duration": 0.610877,
     "end_time": "2024-08-26T18:47:57.021927",
     "exception": false,
     "start_time": "2024-08-26T18:47:56.411050",
     "status": "completed"
    },
    "tags": []
   },
   "source": [
    "**Identifying Performance in prediciting price direction**"
   ]
  },
  {
   "cell_type": "code",
   "execution_count": 7,
   "id": "d0c326e9",
   "metadata": {
    "_cell_guid": "89abcd73-2888-4d50-803f-d5c7ec7291a7",
    "_uuid": "798a0429-0fd6-4792-bec6-68bf57828e26",
    "execution": {
     "iopub.execute_input": "2024-08-26T18:47:58.252696Z",
     "iopub.status.busy": "2024-08-26T18:47:58.252000Z",
     "iopub.status.idle": "2024-08-26T18:47:58.567883Z",
     "shell.execute_reply": "2024-08-26T18:47:58.567001Z"
    },
    "papermill": {
     "duration": 0.93616,
     "end_time": "2024-08-26T18:47:58.570822",
     "exception": false,
     "start_time": "2024-08-26T18:47:57.634662",
     "status": "completed"
    },
    "tags": []
   },
   "outputs": [
    {
     "data": {
      "image/png": "[encoded data removed]",
      "text/plain": [
       "<Figure size 640x480 with 2 Axes>"
      ]
     },
     "metadata": {},
     "output_type": "display_data"
    },
    {
     "name": "stdout",
     "output_type": "stream",
     "text": [
      "Correctly predicted upward movements percentage (Recall): 0.3564569536423841\n",
      "Correctly predicted downard movements percentage (Specificity): 0.6886905783422002\n"
     ]
    }
   ],
   "source": [
    "# Transforming Preds and Targets to % difference\n",
    "predicted_direction = []\n",
    "actual_direction = []\n",
    "\n",
    "# Transforming preds and targets to 1 if upwards move and 0 if downwards move\n",
    "for i in range(0, len(y_pred) - 1):\n",
    "    if y_pred[i + 1] >= y_test[i]:\n",
    "        predicted_direction.append(1)\n",
    "    else:\n",
    "        predicted_direction.append(0)\n",
    "        \n",
    "for i in range(0, len(y_test) - 1):\n",
    "    if y_test[i + 1] >= y_test[i]:\n",
    "        actual_direction.append(1)\n",
    "    else:\n",
    "        actual_direction.append(0)\n",
    "\n",
    "# Plotting Confusion Matrix\n",
    "matrix = confusion_matrix(actual_direction, predicted_direction)\n",
    "cm_display = ConfusionMatrixDisplay(matrix)\n",
    "cm_display.plot()\n",
    "plt.title(\"Prediction of Upward and Downward Price Movements\")\n",
    "plt.show()\n",
    "\n",
    "\n",
    "recall = matrix[(1,1)] / (matrix[(1,1)] + matrix[(1,0)])\n",
    "specificity = matrix[(0,0)] / (matrix[(0,0)] + matrix[(0,1)])\n",
    "\n",
    "print(\"Correctly predicted upward movements percentage (Recall):\", recall)\n",
    "print(\"Correctly predicted downard movements percentage (Specificity):\", specificity)"
   ]
  },
  {
   "cell_type": "markdown",
   "id": "783bbde0",
   "metadata": {
    "papermill": {
     "duration": 0.617349,
     "end_time": "2024-08-26T18:47:59.850350",
     "exception": false,
     "start_time": "2024-08-26T18:47:59.233001",
     "status": "completed"
    },
    "tags": []
   },
   "source": [
    "# Trading Algorithm\n",
    "\n",
    "In this section we create an algorithm that buys and sells ETH-USD. A buy signal is produced when our predicted prices are above a certain threshold (a given percentage higher than current price). A sell signal is produced after a certain profit level is reached or if a position is held to a specified maximum holding period. Position size and our mentioned parameter values are informed by historical estimations of VaR at various confidence levels. "
   ]
  },
  {
   "cell_type": "markdown",
   "id": "32e23878",
   "metadata": {
    "papermill": {
     "duration": 0.661127,
     "end_time": "2024-08-26T18:48:01.130450",
     "exception": false,
     "start_time": "2024-08-26T18:48:00.469323",
     "status": "completed"
    },
    "tags": []
   },
   "source": [
    "**VaR (Historical Estimation)**"
   ]
  },
  {
   "cell_type": "code",
   "execution_count": 8,
   "id": "ba5703a2",
   "metadata": {
    "_cell_guid": "f710cb2c-6027-4d7c-bc26-bed3a0815bda",
    "_uuid": "8db677b0-83db-4618-847a-c14725240d1b",
    "execution": {
     "iopub.execute_input": "2024-08-26T18:48:02.357418Z",
     "iopub.status.busy": "2024-08-26T18:48:02.356812Z",
     "iopub.status.idle": "2024-08-26T18:48:02.368689Z",
     "shell.execute_reply": "2024-08-26T18:48:02.367654Z"
    },
    "papermill": {
     "duration": 0.630593,
     "end_time": "2024-08-26T18:48:02.370583",
     "exception": false,
     "start_time": "2024-08-26T18:48:01.739990",
     "status": "completed"
    },
    "tags": []
   },
   "outputs": [
    {
     "name": "stdout",
     "output_type": "stream",
     "text": [
      "97.5% confident price will not fall more than 5.34% in 24 hours\n",
      "97.5% confident price will not fall more than 7.17% in 48 hours\n",
      "97.5% confident price will not fall more than 8.41% in 72 hours\n",
      "97.5% confident price will not fall more than 9.57% in 96 hours\n",
      " \n",
      "95.0% confident price will not fall more than 4.04% in 24 hours\n",
      "95.0% confident price will not fall more than 5.33% in 48 hours\n",
      "95.0% confident price will not fall more than 6.38% in 72 hours\n",
      "95.0% confident price will not fall more than 7.47% in 96 hours\n"
     ]
    }
   ],
   "source": [
    "confidence_level = 0.975\n",
    "for x in range(24,97,24):\n",
    "    pct_change = y_test[x:] / y_test[:-x]\n",
    "    var_hist = 1 - np.percentile(pct_change, (1 - confidence_level) * 100)   \n",
    "    print(f\"{confidence_level * 100}% confident price will not fall more than {var_hist:.2%} in {x} hours\")\n",
    "print(\" \")\n",
    "confidence_level = 0.95\n",
    "for x in range(24,97,24):\n",
    "    pct_change = y_test[x:] / y_test[:-x]\n",
    "    var_hist = 1 - np.percentile(pct_change, (1 - confidence_level) * 100)   \n",
    "    print(f\"{confidence_level * 100}% confident price will not fall more than {var_hist:.2%} in {x} hours\")"
   ]
  },
  {
   "cell_type": "markdown",
   "id": "0f18cf8c",
   "metadata": {
    "_cell_guid": "d93c23a3-7bf8-47d4-8800-5a5054ba2347",
    "_uuid": "a53f0c14-fa06-4ff1-a5fc-e0868ee5a60e",
    "papermill": {
     "duration": 0.664229,
     "end_time": "2024-08-26T18:48:03.645389",
     "exception": false,
     "start_time": "2024-08-26T18:48:02.981160",
     "status": "completed"
    },
    "tags": []
   },
   "source": [
    "**Trading Algorithm**"
   ]
  },
  {
   "cell_type": "code",
   "execution_count": 9,
   "id": "2e06dd12",
   "metadata": {
    "execution": {
     "iopub.execute_input": "2024-08-26T18:48:04.899700Z",
     "iopub.status.busy": "2024-08-26T18:48:04.899024Z",
     "iopub.status.idle": "2024-08-26T18:48:05.337633Z",
     "shell.execute_reply": "2024-08-26T18:48:05.336658Z"
    },
    "papermill": {
     "duration": 1.078245,
     "end_time": "2024-08-26T18:48:05.340802",
     "exception": false,
     "start_time": "2024-08-26T18:48:04.262557",
     "status": "completed"
    },
    "tags": []
   },
   "outputs": [
    {
     "name": "stdout",
     "output_type": "stream",
     "text": [
      "Strategy Profit: 40.36%\n",
      "Buy and Hold Profit: 129.49%\n"
     ]
    },
    {
     "data": {
      "image/png": "[encoded data removed]",
      "text/plain": [
       "<Figure size 900x300 with 1 Axes>"
      ]
     },
     "metadata": {},
     "output_type": "display_data"
    },
    {
     "name": "stdout",
     "output_type": "stream",
     "text": [
      "HOLD           11808\n",
      "BUY               18\n",
      "TIME SELL         15\n",
      "PROFIT SELL        3\n",
      "Name: count, dtype: int64\n"
     ]
    }
   ],
   "source": [
    "prices = y_test[:-24]\n",
    "preds = y_pred[24:]\n",
    "actual = y_test[24:]\n",
    "\n",
    "initial_balance = 10000\n",
    "slippage = 0.0015  # binance trading fee (0.1%) + margin loss (0.05%)\n",
    "balance = initial_balance\n",
    "holdings = 0\n",
    "buy_price = 0\n",
    "profits = []\n",
    "portfolio_value = []\n",
    "actions = []\n",
    "\n",
    "position_size = 1\n",
    "take_profit = 1.09\n",
    "max_hold_time = 72\n",
    "signal_strength = 1.04\n",
    "\n",
    "for i in range(len(prices)):\n",
    "\n",
    "    current_price = prices[i]\n",
    "    predicted_price = preds[i]\n",
    "    signal = predicted_price / current_price\n",
    "    action = \"HOLD\"\n",
    "    \n",
    "    if signal > signal_strength and balance > 0:\n",
    "        amount_to_invest = balance*position_size\n",
    "        shares_to_buy = amount_to_invest / current_price\n",
    "        transaction_cost = shares_to_buy * current_price * slippage\n",
    "        actual_shares_bought = (amount_to_invest - transaction_cost) / current_price\n",
    "        holdings += actual_shares_bought\n",
    "        balance -= amount_to_invest\n",
    "        buy_price = current_price\n",
    "        action = 'BUY'   \n",
    "\n",
    "    elif current_price > buy_price*take_profit and holdings > 0:\n",
    "            transaction_cost = holdings * current_price * slippage\n",
    "            balance += (holdings * current_price) - transaction_cost\n",
    "            profits.append(holdings * (current_price - buy_price) - transaction_cost)\n",
    "            holdings = 0\n",
    "            action = \"PROFIT SELL\"\n",
    "        \n",
    "        \n",
    "    if i % max_hold_time == 0 :\n",
    "        if holdings > 0:\n",
    "            transaction_cost = holdings * current_price * slippage\n",
    "            balance += (holdings * current_price) - transaction_cost\n",
    "            profits.append(holdings * (current_price - buy_price) - transaction_cost)\n",
    "            holdings = 0\n",
    "            action = \"TIME SELL\"\n",
    "    \n",
    "\n",
    "    actions.append(action)  \n",
    "    portfolio_value.append(balance + (holdings * current_price))\n",
    "\n",
    "portfolio_value = np.array(portfolio_value)\n",
    "portfolio = (portfolio_value * 100 / portfolio_value[0]) - 100\n",
    "strategy_profit = ((portfolio_value[-1] / initial_balance) * 100) - 100\n",
    "\n",
    "buy_and_hold = (prices * (100 - slippage) / prices[0]) - 100\n",
    "buy_and_hold_profit = ((prices[-1] / prices[0]) * 100-slippage) - 100 \n",
    "\n",
    "\n",
    "print(f\"Strategy Profit: {strategy_profit:.2f}%\")\n",
    "print(f\"Buy and Hold Profit: {buy_and_hold_profit:.2f}%\")\n",
    "\n",
    "index = test.index[predict_value+10:]\n",
    "plt.figure(figsize=(9, 3))\n",
    "plt.plot(index, portfolio, label=\"Strategy\")\n",
    "plt.plot(index, buy_and_hold, label=\"Buy And Hold\") \n",
    "plt.xlabel('Time')\n",
    "plt.ylabel('Profit (%)')\n",
    "plt.title('Strategy vs Buy and Hold')\n",
    "plt.legend()\n",
    "plt.show()\n",
    "\n",
    "print(pd.Series(actions).value_counts())"
   ]
  },
  {
   "cell_type": "markdown",
   "id": "03098c6f",
   "metadata": {
    "_cell_guid": "4850a2b2-ed2f-4229-8f51-9b0dc159baf9",
    "_uuid": "4ca85fed-d7e2-4d94-a972-053502571e0c",
    "papermill": {
     "duration": 0.631423,
     "end_time": "2024-08-26T18:48:06.659672",
     "exception": false,
     "start_time": "2024-08-26T18:48:06.028249",
     "status": "completed"
    },
    "tags": []
   },
   "source": [
    "# Trading Algorithm Evaluation\n",
    "\n",
    "We evaluate our algorithm by comparing against a buy and hold strategy. We calculate the annual return, volatility, maximum drawdown and Sharpe ratio of both strategies. We estimate the risk free rate to be the average 1 year T-bill over the trading period. "
   ]
  },
  {
   "cell_type": "code",
   "execution_count": 10,
   "id": "50833d8e",
   "metadata": {
    "_cell_guid": "0648ea13-7a07-435c-bd18-f46b19fe8652",
    "_uuid": "925dcf3d-d1a8-4017-8dba-fd13f13c7c27",
    "execution": {
     "iopub.execute_input": "2024-08-26T18:48:07.884825Z",
     "iopub.status.busy": "2024-08-26T18:48:07.883960Z",
     "iopub.status.idle": "2024-08-26T18:48:21.588939Z",
     "shell.execute_reply": "2024-08-26T18:48:21.587770Z"
    },
    "papermill": {
     "duration": 14.320602,
     "end_time": "2024-08-26T18:48:21.591269",
     "exception": false,
     "start_time": "2024-08-26T18:48:07.270667",
     "status": "completed"
    },
    "tags": []
   },
   "outputs": [
    {
     "name": "stderr",
     "output_type": "stream",
     "text": [
      "/opt/conda/lib/python3.10/pty.py:89: RuntimeWarning: os.fork() was called. os.fork() is incompatible with multithreaded code, and JAX is multithreaded, so this will likely lead to a deadlock.\n",
      "  pid, fd = os.forkpty()\n"
     ]
    },
    {
     "name": "stdout",
     "output_type": "stream",
     "text": [
      "Risk Free Rate: 0.05081764705882353\n"
     ]
    }
   ],
   "source": [
    "!pip install -q pandas pandas_datareader\n",
    "import pandas_datareader.data as web\n",
    "from datetime import datetime\n",
    "\n",
    "df = web.DataReader('GS1', 'fred', datetime(2023, 1, 23),datetime(2024,6,2))\n",
    "rf_annual = np.mean(df)/100\n",
    "print(f\"Risk Free Rate: {rf_annual}\")"
   ]
  },
  {
   "cell_type": "code",
   "execution_count": 11,
   "id": "a9f22463",
   "metadata": {
    "_cell_guid": "c8a673af-dc78-4897-b77f-df21186ed49a",
    "_uuid": "b9a82ff6-0d76-4ba6-9180-679a223673c4",
    "execution": {
     "iopub.execute_input": "2024-08-26T18:48:22.892425Z",
     "iopub.status.busy": "2024-08-26T18:48:22.891622Z",
     "iopub.status.idle": "2024-08-26T18:48:22.905853Z",
     "shell.execute_reply": "2024-08-26T18:48:22.904862Z"
    },
    "papermill": {
     "duration": 0.625338,
     "end_time": "2024-08-26T18:48:22.907719",
     "exception": false,
     "start_time": "2024-08-26T18:48:22.282381",
     "status": "completed"
    },
    "tags": []
   },
   "outputs": [
    {
     "name": "stdout",
     "output_type": "stream",
     "text": [
      "Trading Strategy Metrics:\n",
      "Annual Return: 25.08%\n",
      "Volatility: 0.18\n",
      "Maximum Drawdown: 11.17%\n",
      "Sharpe Ratio: 1.11\n",
      "\n",
      "Buy and Hold Metrics:\n",
      "Annual Return: 61.54%\n",
      "Volatility: 0.52\n",
      "Maximum Drawdown: 29.63%\n",
      "Sharpe Ratio: 1.08\n"
     ]
    }
   ],
   "source": [
    "PL_returns = np.diff(np.log(np.array(portfolio_value)))\n",
    "market_returns = np.diff(np.log(np.array(y_test)))\n",
    "\n",
    "def calc_max_drawdown(values):\n",
    "    balances_series = pd.Series(values)\n",
    "    running_max = balances_series.cummax()\n",
    "    drawdown = (balances_series - running_max) / running_max\n",
    "    max_drawdown = drawdown.min()\n",
    "    return -max_drawdown*100\n",
    "\n",
    "def calculate_metrics(values, rf):\n",
    "    annual_return = np.mean(values)*365*24\n",
    "    volatility = np.std(values)*np.sqrt(365*24)\n",
    "    max_drawdown = np.max(np.maximum.accumulate(values) - values) / np.max(np.maximum.accumulate(values))\n",
    "    sharpe_ratio = (annual_return - rf) / volatility\n",
    "    return volatility, max_drawdown, sharpe_ratio, annual_return\n",
    "\n",
    "trading_metrics = calculate_metrics(PL_returns,rf_annual)\n",
    "buy_and_hold_metrics = calculate_metrics(market_returns,rf_annual)\n",
    "trading_drawdown = calc_max_drawdown(portfolio_value)\n",
    "buy_and_hold_drawdown = calc_max_drawdown(prices)\n",
    "\n",
    "# Print metrics\n",
    "print(\"Trading Strategy Metrics:\")\n",
    "print(f\"Annual Return: {trading_metrics[3]*100:.2f}%\")\n",
    "print(f\"Volatility: {trading_metrics[0]:.2f}\")\n",
    "print(f\"Maximum Drawdown: {trading_drawdown:.2f}%\")\n",
    "print(f\"Sharpe Ratio: {trading_metrics[2]:.2f}\")\n",
    "\n",
    "print(\"\\nBuy and Hold Metrics:\")\n",
    "print(f\"Annual Return: {buy_and_hold_metrics[3]*100:.2f}%\")\n",
    "print(f\"Volatility: {buy_and_hold_metrics[0]:.2f}\")\n",
    "print(f\"Maximum Drawdown: {buy_and_hold_drawdown:.2f}%\")\n",
    "print(f\"Sharpe Ratio: {buy_and_hold_metrics[2]:.2f}\")"
   ]
  }
 ],
 "metadata": {
  "accelerator": "TPU",
  "colab": {
   "collapsed_sections": [
    "nxXpPdVdWHv0",
    "iScbE9mVPg6W",
    "xv7Y7zMuWNzt",
    "zD_9w8mk59O-",
    "ANo9dXWwpNYb"
   ],
   "gpuType": "V28",
   "provenance": []
  },
  "kaggle": {
   "accelerator": "nvidiaTeslaT4",
   "dataSources": [
    {
     "datasetId": 5306016,
     "sourceId": 8819887,
     "sourceType": "datasetVersion"
    },
    {
     "modelId": 99632,
     "modelInstanceId": 74910,
     "sourceId": 89298,
     "sourceType": "modelInstanceVersion"
    }
   ],
   "dockerImageVersionId": 30747,
   "isGpuEnabled": true,
   "isInternetEnabled": true,
   "language": "python",
   "sourceType": "notebook"
  },
  "kernelspec": {
   "display_name": "Python 3",
   "language": "python",
   "name": "python3"
  },
  "language_info": {
   "codemirror_mode": {
    "name": "ipython",
    "version": 3
   },
   "file_extension": ".py",
   "mimetype": "text/x-python",
   "name": "python",
   "nbconvert_exporter": "python",
   "pygments_lexer": "ipython3",
   "version": "3.10.13"
  },
  "papermill": {
   "default_parameters": {},
   "duration": 548.744584,
   "end_time": "2024-08-26T18:48:26.134894",
   "environment_variables": {},
   "exception": null,
   "input_path": "__notebook__.ipynb",
   "output_path": "__notebook__.ipynb",
   "parameters": {},
   "start_time": "2024-08-26T18:39:17.390310",
   "version": "2.5.0"
  }
 },
 "nbformat": 4,
 "nbformat_minor": 5
}
