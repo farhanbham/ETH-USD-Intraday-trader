{
 "cells": [
  {
   "cell_type": "markdown",
   "id": "2387cfa1",
   "metadata": {
    "_cell_guid": "d11f685f-11a1-463a-b682-2aa058d74896",
    "_uuid": "56c1ac9b-1a41-477d-bd2d-e70f695f9dc6",
    "id": "nxXpPdVdWHv0",
    "papermill": {
     "duration": 0.006019,
     "end_time": "2024-08-26T19:06:15.099669",
     "exception": false,
     "start_time": "2024-08-26T19:06:15.093650",
     "status": "completed"
    },
    "tags": []
   },
   "source": [
    "# Data Preprocessing\n",
    "1. Import Libraries and download data\n",
    "2. Scale training and test data using training data parameters to ensure no data leakage\n",
    "3. Creates Sequences for training\n",
    "4. Utilise Encoder-Decoder Network to reduce dimensionality of data to reduce overfitting"
   ]
  },
  {
   "cell_type": "code",
   "execution_count": 1,
   "id": "53ac29bd",
   "metadata": {
    "execution": {
     "iopub.execute_input": "2024-08-26T19:06:15.112107Z",
     "iopub.status.busy": "2024-08-26T19:06:15.111843Z",
     "iopub.status.idle": "2024-08-26T19:06:27.429662Z",
     "shell.execute_reply": "2024-08-26T19:06:27.428743Z"
    },
    "papermill": {
     "duration": 12.326688,
     "end_time": "2024-08-26T19:06:27.432110",
     "exception": false,
     "start_time": "2024-08-26T19:06:15.105422",
     "status": "completed"
    },
    "tags": []
   },
   "outputs": [
    {
     "name": "stderr",
     "output_type": "stream",
     "text": [
      "2024-08-26 19:06:18.305337: E external/local_xla/xla/stream_executor/cuda/cuda_dnn.cc:9261] Unable to register cuDNN factory: Attempting to register factory for plugin cuDNN when one has already been registered\n",
      "2024-08-26 19:06:18.305437: E external/local_xla/xla/stream_executor/cuda/cuda_fft.cc:607] Unable to register cuFFT factory: Attempting to register factory for plugin cuFFT when one has already been registered\n",
      "2024-08-26 19:06:18.410199: E external/local_xla/xla/stream_executor/cuda/cuda_blas.cc:1515] Unable to register cuBLAS factory: Attempting to register factory for plugin cuBLAS when one has already been registered\n"
     ]
    }
   ],
   "source": [
    "random_state = 1\n",
    "import numpy as np\n",
    "import pandas as pd\n",
    "import matplotlib.pyplot as plt\n",
    "from sklearn.preprocessing import StandardScaler\n",
    "from sklearn.metrics import mean_squared_error, mean_absolute_error, confusion_matrix, ConfusionMatrixDisplay\n",
    "from tensorflow.keras.models import Model, load_model\n",
    "from tensorflow.keras.layers import Input, LSTM, Dense, Layer, Dropout, BatchNormalization, Bidirectional, TimeDistributed\n",
    "from tensorflow.keras.optimizers import AdamW, SGD\n",
    "from tensorflow.keras.regularizers import l2\n",
    "from tensorflow.keras.callbacks import EarlyStopping\n",
    "from tensorflow.keras.losses import MAE"
   ]
  },
  {
   "cell_type": "code",
   "execution_count": 2,
   "id": "4ec1f9ef",
   "metadata": {
    "_cell_guid": "702697a8-a1c4-436d-91a2-b39f9a227e3c",
    "_uuid": "7bfc2347-b063-4538-88e7-59ddaba6962d",
    "execution": {
     "iopub.execute_input": "2024-08-26T19:06:27.445191Z",
     "iopub.status.busy": "2024-08-26T19:06:27.444691Z",
     "iopub.status.idle": "2024-08-26T19:06:27.801090Z",
     "shell.execute_reply": "2024-08-26T19:06:27.800062Z"
    },
    "papermill": {
     "duration": 0.365426,
     "end_time": "2024-08-26T19:06:27.803569",
     "exception": false,
     "start_time": "2024-08-26T19:06:27.438143",
     "status": "completed"
    },
    "tags": []
   },
   "outputs": [],
   "source": [
    "# Read dataset and set index to datetime for plotting purposes\n",
    "data = pd.read_csv(\"/kaggle/input/eth-all/ETH_return2.csv\")\n",
    "data[\"timestamp\"] = pd.to_datetime(data[\"timestamp\"])\n",
    "data.set_index(\"timestamp\", inplace=True)\n",
    "\n",
    "\n",
    "# Scale data using train parameters to ensure no data leakage\n",
    "split = int(len(data) * 0.8)\n",
    "train, test = data[:split], data[split:]\n",
    "scaler = StandardScaler()\n",
    "train_scaled = scaler.fit_transform(train)\n",
    "test_scaled = scaler.transform(test)\n",
    "scaled_data = np.vstack((train_scaled, test_scaled))\n",
    "\n",
    "\n",
    "\n",
    "# Create Sequences\n",
    "column_index = data.columns.get_loc('close')\n",
    "predict_value = 24\n",
    "SEQ_LENGTH = 24\n",
    "def create_sequences(data, seq_length):\n",
    "    X, Y = [], []\n",
    "    for i in range(len(data) - seq_length - predict_value):  \n",
    "        x = data[i:i + seq_length]\n",
    "        y = data[i + seq_length + predict_value, column_index]  \n",
    "        X.append(x)\n",
    "        Y.append(y)\n",
    "    return np.array(X), np.array(Y)\n",
    "X, y = create_sequences(scaled_data, SEQ_LENGTH)\n",
    "\n",
    "\n",
    "split = int(0.8 * len(X))\n",
    "X_train, X_test = X[:split], X[split:]\n",
    "y_train, y_test = y[:split], y[split:]"
   ]
  },
  {
   "cell_type": "markdown",
   "id": "d0c5d573",
   "metadata": {
    "papermill": {
     "duration": 0.005418,
     "end_time": "2024-08-26T19:06:27.814877",
     "exception": false,
     "start_time": "2024-08-26T19:06:27.809459",
     "status": "completed"
    },
    "tags": []
   },
   "source": [
    "# Auto-Encoder"
   ]
  },
  {
   "cell_type": "code",
   "execution_count": 3,
   "id": "23c55cc9",
   "metadata": {
    "execution": {
     "iopub.execute_input": "2024-08-26T19:06:27.827371Z",
     "iopub.status.busy": "2024-08-26T19:06:27.827069Z",
     "iopub.status.idle": "2024-08-26T19:10:11.531823Z",
     "shell.execute_reply": "2024-08-26T19:10:11.530594Z"
    },
    "papermill": {
     "duration": 223.713484,
     "end_time": "2024-08-26T19:10:11.534047",
     "exception": false,
     "start_time": "2024-08-26T19:06:27.820563",
     "status": "completed"
    },
    "tags": []
   },
   "outputs": [
    {
     "name": "stdout",
     "output_type": "stream",
     "text": [
      "Epoch 1/100\n",
      "\u001b[1m371/371\u001b[0m \u001b[32m━━━━━━━━━━━━━━━━━━━━\u001b[0m\u001b[37m\u001b[0m \u001b[1m10s\u001b[0m 17ms/step - loss: 0.4622 - val_loss: 0.2465\n",
      "Epoch 2/100\n",
      "\u001b[1m371/371\u001b[0m \u001b[32m━━━━━━━━━━━━━━━━━━━━\u001b[0m\u001b[37m\u001b[0m \u001b[1m6s\u001b[0m 16ms/step - loss: 0.2553 - val_loss: 0.1652\n",
      "Epoch 3/100\n",
      "\u001b[1m371/371\u001b[0m \u001b[32m━━━━━━━━━━━━━━━━━━━━\u001b[0m\u001b[37m\u001b[0m \u001b[1m6s\u001b[0m 16ms/step - loss: 0.2154 - val_loss: 0.1341\n",
      "Epoch 4/100\n",
      "\u001b[1m371/371\u001b[0m \u001b[32m━━━━━━━━━━━━━━━━━━━━\u001b[0m\u001b[37m\u001b[0m \u001b[1m6s\u001b[0m 16ms/step - loss: 0.1987 - val_loss: 0.1191\n",
      "Epoch 5/100\n",
      "\u001b[1m371/371\u001b[0m \u001b[32m━━━━━━━━━━━━━━━━━━━━\u001b[0m\u001b[37m\u001b[0m \u001b[1m6s\u001b[0m 16ms/step - loss: 0.1882 - val_loss: 0.1103\n",
      "Epoch 6/100\n",
      "\u001b[1m371/371\u001b[0m \u001b[32m━━━━━━━━━━━━━━━━━━━━\u001b[0m\u001b[37m\u001b[0m \u001b[1m6s\u001b[0m 16ms/step - loss: 0.1791 - val_loss: 0.1030\n",
      "Epoch 7/100\n",
      "\u001b[1m371/371\u001b[0m \u001b[32m━━━━━━━━━━━━━━━━━━━━\u001b[0m\u001b[37m\u001b[0m \u001b[1m6s\u001b[0m 16ms/step - loss: 0.1708 - val_loss: 0.1075\n",
      "Epoch 8/100\n",
      "\u001b[1m371/371\u001b[0m \u001b[32m━━━━━━━━━━━━━━━━━━━━\u001b[0m\u001b[37m\u001b[0m \u001b[1m6s\u001b[0m 16ms/step - loss: 0.1612 - val_loss: 0.1009\n",
      "Epoch 9/100\n",
      "\u001b[1m371/371\u001b[0m \u001b[32m━━━━━━━━━━━━━━━━━━━━\u001b[0m\u001b[37m\u001b[0m \u001b[1m6s\u001b[0m 16ms/step - loss: 0.1545 - val_loss: 0.0940\n",
      "Epoch 10/100\n",
      "\u001b[1m371/371\u001b[0m \u001b[32m━━━━━━━━━━━━━━━━━━━━\u001b[0m\u001b[37m\u001b[0m \u001b[1m6s\u001b[0m 16ms/step - loss: 0.1489 - val_loss: 0.0863\n",
      "Epoch 11/100\n",
      "\u001b[1m371/371\u001b[0m \u001b[32m━━━━━━━━━━━━━━━━━━━━\u001b[0m\u001b[37m\u001b[0m \u001b[1m6s\u001b[0m 16ms/step - loss: 0.1468 - val_loss: 0.0853\n",
      "Epoch 12/100\n",
      "\u001b[1m371/371\u001b[0m \u001b[32m━━━━━━━━━━━━━━━━━━━━\u001b[0m\u001b[37m\u001b[0m \u001b[1m6s\u001b[0m 16ms/step - loss: 0.1434 - val_loss: 0.0861\n",
      "Epoch 13/100\n",
      "\u001b[1m371/371\u001b[0m \u001b[32m━━━━━━━━━━━━━━━━━━━━\u001b[0m\u001b[37m\u001b[0m \u001b[1m6s\u001b[0m 17ms/step - loss: 0.1425 - val_loss: 0.0718\n",
      "Epoch 14/100\n",
      "\u001b[1m371/371\u001b[0m \u001b[32m━━━━━━━━━━━━━━━━━━━━\u001b[0m\u001b[37m\u001b[0m \u001b[1m6s\u001b[0m 17ms/step - loss: 0.1408 - val_loss: 0.0979\n",
      "Epoch 15/100\n",
      "\u001b[1m371/371\u001b[0m \u001b[32m━━━━━━━━━━━━━━━━━━━━\u001b[0m\u001b[37m\u001b[0m \u001b[1m6s\u001b[0m 17ms/step - loss: 0.1392 - val_loss: 0.0681\n",
      "Epoch 16/100\n",
      "\u001b[1m371/371\u001b[0m \u001b[32m━━━━━━━━━━━━━━━━━━━━\u001b[0m\u001b[37m\u001b[0m \u001b[1m6s\u001b[0m 17ms/step - loss: 0.1381 - val_loss: 0.0769\n",
      "Epoch 17/100\n",
      "\u001b[1m371/371\u001b[0m \u001b[32m━━━━━━━━━━━━━━━━━━━━\u001b[0m\u001b[37m\u001b[0m \u001b[1m6s\u001b[0m 17ms/step - loss: 0.1382 - val_loss: 0.0741\n",
      "Epoch 18/100\n",
      "\u001b[1m371/371\u001b[0m \u001b[32m━━━━━━━━━━━━━━━━━━━━\u001b[0m\u001b[37m\u001b[0m \u001b[1m6s\u001b[0m 17ms/step - loss: 0.1369 - val_loss: 0.0848\n",
      "Epoch 19/100\n",
      "\u001b[1m371/371\u001b[0m \u001b[32m━━━━━━━━━━━━━━━━━━━━\u001b[0m\u001b[37m\u001b[0m \u001b[1m6s\u001b[0m 16ms/step - loss: 0.1362 - val_loss: 0.0681\n",
      "Epoch 20/100\n",
      "\u001b[1m371/371\u001b[0m \u001b[32m━━━━━━━━━━━━━━━━━━━━\u001b[0m\u001b[37m\u001b[0m \u001b[1m6s\u001b[0m 16ms/step - loss: 0.1352 - val_loss: 0.0879\n",
      "Epoch 21/100\n",
      "\u001b[1m371/371\u001b[0m \u001b[32m━━━━━━━━━━━━━━━━━━━━\u001b[0m\u001b[37m\u001b[0m \u001b[1m6s\u001b[0m 16ms/step - loss: 0.1348 - val_loss: 0.0817\n",
      "Epoch 22/100\n",
      "\u001b[1m371/371\u001b[0m \u001b[32m━━━━━━━━━━━━━━━━━━━━\u001b[0m\u001b[37m\u001b[0m \u001b[1m6s\u001b[0m 16ms/step - loss: 0.1338 - val_loss: 0.0726\n",
      "Epoch 23/100\n",
      "\u001b[1m371/371\u001b[0m \u001b[32m━━━━━━━━━━━━━━━━━━━━\u001b[0m\u001b[37m\u001b[0m \u001b[1m6s\u001b[0m 16ms/step - loss: 0.1336 - val_loss: 0.0651\n",
      "Epoch 24/100\n",
      "\u001b[1m371/371\u001b[0m \u001b[32m━━━━━━━━━━━━━━━━━━━━\u001b[0m\u001b[37m\u001b[0m \u001b[1m6s\u001b[0m 16ms/step - loss: 0.1331 - val_loss: 0.0748\n",
      "Epoch 25/100\n",
      "\u001b[1m371/371\u001b[0m \u001b[32m━━━━━━━━━━━━━━━━━━━━\u001b[0m\u001b[37m\u001b[0m \u001b[1m6s\u001b[0m 16ms/step - loss: 0.1326 - val_loss: 0.0687\n",
      "Epoch 26/100\n",
      "\u001b[1m371/371\u001b[0m \u001b[32m━━━━━━━━━━━━━━━━━━━━\u001b[0m\u001b[37m\u001b[0m \u001b[1m6s\u001b[0m 16ms/step - loss: 0.1328 - val_loss: 0.0670\n",
      "Epoch 27/100\n",
      "\u001b[1m371/371\u001b[0m \u001b[32m━━━━━━━━━━━━━━━━━━━━\u001b[0m\u001b[37m\u001b[0m \u001b[1m6s\u001b[0m 16ms/step - loss: 0.1322 - val_loss: 0.0696\n",
      "Epoch 28/100\n",
      "\u001b[1m371/371\u001b[0m \u001b[32m━━━━━━━━━━━━━━━━━━━━\u001b[0m\u001b[37m\u001b[0m \u001b[1m6s\u001b[0m 16ms/step - loss: 0.1317 - val_loss: 0.0713\n",
      "Epoch 29/100\n",
      "\u001b[1m371/371\u001b[0m \u001b[32m━━━━━━━━━━━━━━━━━━━━\u001b[0m\u001b[37m\u001b[0m \u001b[1m6s\u001b[0m 16ms/step - loss: 0.1312 - val_loss: 0.0656\n",
      "Epoch 30/100\n",
      "\u001b[1m371/371\u001b[0m \u001b[32m━━━━━━━━━━━━━━━━━━━━\u001b[0m\u001b[37m\u001b[0m \u001b[1m6s\u001b[0m 16ms/step - loss: 0.1310 - val_loss: 0.0711\n",
      "Epoch 31/100\n",
      "\u001b[1m371/371\u001b[0m \u001b[32m━━━━━━━━━━━━━━━━━━━━\u001b[0m\u001b[37m\u001b[0m \u001b[1m6s\u001b[0m 16ms/step - loss: 0.1305 - val_loss: 0.0671\n",
      "Epoch 32/100\n",
      "\u001b[1m371/371\u001b[0m \u001b[32m━━━━━━━━━━━━━━━━━━━━\u001b[0m\u001b[37m\u001b[0m \u001b[1m6s\u001b[0m 16ms/step - loss: 0.1299 - val_loss: 0.0717\n",
      "Epoch 33/100\n",
      "\u001b[1m371/371\u001b[0m \u001b[32m━━━━━━━━━━━━━━━━━━━━\u001b[0m\u001b[37m\u001b[0m \u001b[1m10s\u001b[0m 17ms/step - loss: 0.1297 - val_loss: 0.0699\n",
      "\u001b[1m1855/1855\u001b[0m \u001b[32m━━━━━━━━━━━━━━━━━━━━\u001b[0m\u001b[37m\u001b[0m \u001b[1m4s\u001b[0m 2ms/step\n",
      "\u001b[1m1855/1855\u001b[0m \u001b[32m━━━━━━━━━━━━━━━━━━━━\u001b[0m\u001b[37m\u001b[0m \u001b[1m6s\u001b[0m 3ms/step\n",
      "Mean Squared Error: 0.14806897018061707\n"
     ]
    }
   ],
   "source": [
    "# Encoder - Decoder\n",
    "dropout_rate = 0.2\n",
    "activation = \"tanh\"\n",
    "LSTM_units = 350\n",
    "learning_rate = 0.1\n",
    "\n",
    "input_layer = Input(shape=(X.shape[1], X.shape[2]))\n",
    "encoded = LSTM(LSTM_units, activation=activation, return_sequences=True)(input_layer)\n",
    "encoded = LSTM(2, activation=activation, return_sequences=True)(encoded)\n",
    "decoded = LSTM(LSTM_units, return_sequences=True, activation=activation)(encoded)\n",
    "decoded = Dropout(dropout_rate)(decoded)\n",
    "decoded = TimeDistributed(Dense(X.shape[2]))(decoded)\n",
    "\n",
    "autoencoder = Model(input_layer, decoded)\n",
    "autoencoder.compile(optimizer=SGD(learning_rate=learning_rate, momentum=0.5), loss=MAE)\n",
    "early_stopping = EarlyStopping(monitor='val_loss', patience=10, restore_best_weights=True)\n",
    "history = autoencoder.fit(X, X, epochs=100, batch_size=128, validation_split=0.2, callbacks = [early_stopping])\n",
    "\n",
    "encoder = Model(input_layer, encoded)\n",
    "encoded_data = encoder.predict(X)\n",
    "\n",
    "\n",
    "# Testing performance of encoder\n",
    "reconstructed_sequences = autoencoder.predict(X)\n",
    "mse = np.mean(np.power(X - reconstructed_sequences, 2), axis=(1, 2))\n",
    "print(f'Mean Squared Error: {np.mean(mse)}')"
   ]
  },
  {
   "cell_type": "markdown",
   "id": "cc1f218a",
   "metadata": {
    "_cell_guid": "68e5ad46-82a8-4bba-9d8e-f31963d5925f",
    "_uuid": "2c0f22bf-8a86-4b93-996b-2f07cc9cb33e",
    "id": "xv7Y7zMuWNzt",
    "papermill": {
     "duration": 0.26169,
     "end_time": "2024-08-26T19:10:12.060916",
     "exception": false,
     "start_time": "2024-08-26T19:10:11.799226",
     "status": "completed"
    },
    "tags": []
   },
   "source": [
    "# LSTM Forecasting Model"
   ]
  },
  {
   "cell_type": "code",
   "execution_count": 4,
   "id": "ea43d79f",
   "metadata": {
    "_cell_guid": "709881cf-0613-46e5-9a99-b023eff610bf",
    "_uuid": "4fb2cc9d-f8d7-4d51-a68d-cdcab6325525",
    "execution": {
     "iopub.execute_input": "2024-08-26T19:10:12.589096Z",
     "iopub.status.busy": "2024-08-26T19:10:12.588770Z",
     "iopub.status.idle": "2024-08-26T19:13:08.708794Z",
     "shell.execute_reply": "2024-08-26T19:13:08.707874Z"
    },
    "id": "wdM3jU1faj8v",
    "papermill": {
     "duration": 176.388131,
     "end_time": "2024-08-26T19:13:08.710869",
     "exception": false,
     "start_time": "2024-08-26T19:10:12.322738",
     "status": "completed"
    },
    "tags": []
   },
   "outputs": [
    {
     "name": "stdout",
     "output_type": "stream",
     "text": [
      "Epoch 1/100\n",
      "\u001b[1m297/297\u001b[0m \u001b[32m━━━━━━━━━━━━━━━━━━━━\u001b[0m\u001b[37m\u001b[0m \u001b[1m6s\u001b[0m 11ms/step - loss: 1.0435 - val_loss: 1.4927\n",
      "Epoch 2/100\n",
      "\u001b[1m297/297\u001b[0m \u001b[32m━━━━━━━━━━━━━━━━━━━━\u001b[0m\u001b[37m\u001b[0m \u001b[1m3s\u001b[0m 9ms/step - loss: 0.7693 - val_loss: 0.9947\n",
      "Epoch 3/100\n",
      "\u001b[1m297/297\u001b[0m \u001b[32m━━━━━━━━━━━━━━━━━━━━\u001b[0m\u001b[37m\u001b[0m \u001b[1m3s\u001b[0m 9ms/step - loss: 0.6790 - val_loss: 0.5818\n",
      "Epoch 4/100\n",
      "\u001b[1m297/297\u001b[0m \u001b[32m━━━━━━━━━━━━━━━━━━━━\u001b[0m\u001b[37m\u001b[0m \u001b[1m3s\u001b[0m 9ms/step - loss: 0.6119 - val_loss: 0.5294\n",
      "Epoch 5/100\n",
      "\u001b[1m297/297\u001b[0m \u001b[32m━━━━━━━━━━━━━━━━━━━━\u001b[0m\u001b[37m\u001b[0m \u001b[1m3s\u001b[0m 9ms/step - loss: 0.5576 - val_loss: 0.4797\n",
      "Epoch 6/100\n",
      "\u001b[1m297/297\u001b[0m \u001b[32m━━━━━━━━━━━━━━━━━━━━\u001b[0m\u001b[37m\u001b[0m \u001b[1m3s\u001b[0m 9ms/step - loss: 0.5013 - val_loss: 0.4243\n",
      "Epoch 7/100\n",
      "\u001b[1m297/297\u001b[0m \u001b[32m━━━━━━━━━━━━━━━━━━━━\u001b[0m\u001b[37m\u001b[0m \u001b[1m3s\u001b[0m 9ms/step - loss: 0.4541 - val_loss: 0.3874\n",
      "Epoch 8/100\n",
      "\u001b[1m297/297\u001b[0m \u001b[32m━━━━━━━━━━━━━━━━━━━━\u001b[0m\u001b[37m\u001b[0m \u001b[1m3s\u001b[0m 9ms/step - loss: 0.4168 - val_loss: 0.3511\n",
      "Epoch 9/100\n",
      "\u001b[1m297/297\u001b[0m \u001b[32m━━━━━━━━━━━━━━━━━━━━\u001b[0m\u001b[37m\u001b[0m \u001b[1m3s\u001b[0m 9ms/step - loss: 0.3808 - val_loss: 0.3211\n",
      "Epoch 10/100\n",
      "\u001b[1m297/297\u001b[0m \u001b[32m━━━━━━━━━━━━━━━━━━━━\u001b[0m\u001b[37m\u001b[0m \u001b[1m3s\u001b[0m 9ms/step - loss: 0.3510 - val_loss: 0.3669\n",
      "Epoch 11/100\n",
      "\u001b[1m297/297\u001b[0m \u001b[32m━━━━━━━━━━━━━━━━━━━━\u001b[0m\u001b[37m\u001b[0m \u001b[1m3s\u001b[0m 9ms/step - loss: 0.3271 - val_loss: 0.2833\n",
      "Epoch 12/100\n",
      "\u001b[1m297/297\u001b[0m \u001b[32m━━━━━━━━━━━━━━━━━━━━\u001b[0m\u001b[37m\u001b[0m \u001b[1m3s\u001b[0m 9ms/step - loss: 0.2963 - val_loss: 0.3135\n",
      "Epoch 13/100\n",
      "\u001b[1m297/297\u001b[0m \u001b[32m━━━━━━━━━━━━━━━━━━━━\u001b[0m\u001b[37m\u001b[0m \u001b[1m3s\u001b[0m 9ms/step - loss: 0.2795 - val_loss: 0.2282\n",
      "Epoch 14/100\n",
      "\u001b[1m297/297\u001b[0m \u001b[32m━━━━━━━━━━━━━━━━━━━━\u001b[0m\u001b[37m\u001b[0m \u001b[1m3s\u001b[0m 9ms/step - loss: 0.2610 - val_loss: 0.2088\n",
      "Epoch 15/100\n",
      "\u001b[1m297/297\u001b[0m \u001b[32m━━━━━━━━━━━━━━━━━━━━\u001b[0m\u001b[37m\u001b[0m \u001b[1m3s\u001b[0m 9ms/step - loss: 0.2415 - val_loss: 0.1949\n",
      "Epoch 16/100\n",
      "\u001b[1m297/297\u001b[0m \u001b[32m━━━━━━━━━━━━━━━━━━━━\u001b[0m\u001b[37m\u001b[0m \u001b[1m3s\u001b[0m 9ms/step - loss: 0.2291 - val_loss: 0.1892\n",
      "Epoch 17/100\n",
      "\u001b[1m297/297\u001b[0m \u001b[32m━━━━━━━━━━━━━━━━━━━━\u001b[0m\u001b[37m\u001b[0m \u001b[1m3s\u001b[0m 9ms/step - loss: 0.2109 - val_loss: 0.1655\n",
      "Epoch 18/100\n",
      "\u001b[1m297/297\u001b[0m \u001b[32m━━━━━━━━━━━━━━━━━━━━\u001b[0m\u001b[37m\u001b[0m \u001b[1m3s\u001b[0m 9ms/step - loss: 0.2022 - val_loss: 0.2315\n",
      "Epoch 19/100\n",
      "\u001b[1m297/297\u001b[0m \u001b[32m━━━━━━━━━━━━━━━━━━━━\u001b[0m\u001b[37m\u001b[0m \u001b[1m3s\u001b[0m 9ms/step - loss: 0.1913 - val_loss: 0.1886\n",
      "Epoch 20/100\n",
      "\u001b[1m297/297\u001b[0m \u001b[32m━━━━━━━━━━━━━━━━━━━━\u001b[0m\u001b[37m\u001b[0m \u001b[1m3s\u001b[0m 9ms/step - loss: 0.1833 - val_loss: 0.1401\n",
      "Epoch 21/100\n",
      "\u001b[1m297/297\u001b[0m \u001b[32m━━━━━━━━━━━━━━━━━━━━\u001b[0m\u001b[37m\u001b[0m \u001b[1m3s\u001b[0m 9ms/step - loss: 0.1725 - val_loss: 0.1262\n",
      "Epoch 22/100\n",
      "\u001b[1m297/297\u001b[0m \u001b[32m━━━━━━━━━━━━━━━━━━━━\u001b[0m\u001b[37m\u001b[0m \u001b[1m3s\u001b[0m 9ms/step - loss: 0.1621 - val_loss: 0.1221\n",
      "Epoch 23/100\n",
      "\u001b[1m297/297\u001b[0m \u001b[32m━━━━━━━━━━━━━━━━━━━━\u001b[0m\u001b[37m\u001b[0m \u001b[1m3s\u001b[0m 9ms/step - loss: 0.1612 - val_loss: 0.1315\n",
      "Epoch 24/100\n",
      "\u001b[1m297/297\u001b[0m \u001b[32m━━━━━━━━━━━━━━━━━━━━\u001b[0m\u001b[37m\u001b[0m \u001b[1m3s\u001b[0m 9ms/step - loss: 0.1520 - val_loss: 0.1097\n",
      "Epoch 25/100\n",
      "\u001b[1m297/297\u001b[0m \u001b[32m━━━━━━━━━━━━━━━━━━━━\u001b[0m\u001b[37m\u001b[0m \u001b[1m3s\u001b[0m 9ms/step - loss: 0.1475 - val_loss: 0.1187\n",
      "Epoch 26/100\n",
      "\u001b[1m297/297\u001b[0m \u001b[32m━━━━━━━━━━━━━━━━━━━━\u001b[0m\u001b[37m\u001b[0m \u001b[1m3s\u001b[0m 9ms/step - loss: 0.1440 - val_loss: 0.1130\n",
      "Epoch 27/100\n",
      "\u001b[1m297/297\u001b[0m \u001b[32m━━━━━━━━━━━━━━━━━━━━\u001b[0m\u001b[37m\u001b[0m \u001b[1m3s\u001b[0m 9ms/step - loss: 0.1347 - val_loss: 0.1257\n",
      "Epoch 28/100\n",
      "\u001b[1m297/297\u001b[0m \u001b[32m━━━━━━━━━━━━━━━━━━━━\u001b[0m\u001b[37m\u001b[0m \u001b[1m3s\u001b[0m 9ms/step - loss: 0.1398 - val_loss: 0.1210\n",
      "Epoch 29/100\n",
      "\u001b[1m297/297\u001b[0m \u001b[32m━━━━━━━━━━━━━━━━━━━━\u001b[0m\u001b[37m\u001b[0m \u001b[1m3s\u001b[0m 9ms/step - loss: 0.1323 - val_loss: 0.1152\n",
      "Epoch 30/100\n",
      "\u001b[1m297/297\u001b[0m \u001b[32m━━━━━━━━━━━━━━━━━━━━\u001b[0m\u001b[37m\u001b[0m \u001b[1m3s\u001b[0m 9ms/step - loss: 0.1281 - val_loss: 0.0877\n",
      "Epoch 31/100\n",
      "\u001b[1m297/297\u001b[0m \u001b[32m━━━━━━━━━━━━━━━━━━━━\u001b[0m\u001b[37m\u001b[0m \u001b[1m3s\u001b[0m 9ms/step - loss: 0.1255 - val_loss: 0.0842\n",
      "Epoch 32/100\n",
      "\u001b[1m297/297\u001b[0m \u001b[32m━━━━━━━━━━━━━━━━━━━━\u001b[0m\u001b[37m\u001b[0m \u001b[1m3s\u001b[0m 9ms/step - loss: 0.1341 - val_loss: 0.1063\n",
      "Epoch 33/100\n",
      "\u001b[1m297/297\u001b[0m \u001b[32m━━━━━━━━━━━━━━━━━━━━\u001b[0m\u001b[37m\u001b[0m \u001b[1m3s\u001b[0m 9ms/step - loss: 0.1200 - val_loss: 0.0915\n",
      "Epoch 34/100\n",
      "\u001b[1m297/297\u001b[0m \u001b[32m━━━━━━━━━━━━━━━━━━━━\u001b[0m\u001b[37m\u001b[0m \u001b[1m3s\u001b[0m 9ms/step - loss: 0.1215 - val_loss: 0.1555\n",
      "Epoch 35/100\n",
      "\u001b[1m297/297\u001b[0m \u001b[32m━━━━━━━━━━━━━━━━━━━━\u001b[0m\u001b[37m\u001b[0m \u001b[1m3s\u001b[0m 9ms/step - loss: 0.1181 - val_loss: 0.1710\n",
      "Epoch 36/100\n",
      "\u001b[1m297/297\u001b[0m \u001b[32m━━━━━━━━━━━━━━━━━━━━\u001b[0m\u001b[37m\u001b[0m \u001b[1m3s\u001b[0m 9ms/step - loss: 0.1172 - val_loss: 0.0835\n",
      "Epoch 37/100\n",
      "\u001b[1m297/297\u001b[0m \u001b[32m━━━━━━━━━━━━━━━━━━━━\u001b[0m\u001b[37m\u001b[0m \u001b[1m3s\u001b[0m 9ms/step - loss: 0.1193 - val_loss: 0.0926\n",
      "Epoch 38/100\n",
      "\u001b[1m297/297\u001b[0m \u001b[32m━━━━━━━━━━━━━━━━━━━━\u001b[0m\u001b[37m\u001b[0m \u001b[1m3s\u001b[0m 9ms/step - loss: 0.1189 - val_loss: 0.0742\n",
      "Epoch 39/100\n",
      "\u001b[1m297/297\u001b[0m \u001b[32m━━━━━━━━━━━━━━━━━━━━\u001b[0m\u001b[37m\u001b[0m \u001b[1m3s\u001b[0m 9ms/step - loss: 0.1104 - val_loss: 0.1053\n",
      "Epoch 40/100\n",
      "\u001b[1m297/297\u001b[0m \u001b[32m━━━━━━━━━━━━━━━━━━━━\u001b[0m\u001b[37m\u001b[0m \u001b[1m3s\u001b[0m 9ms/step - loss: 0.1148 - val_loss: 0.0929\n",
      "Epoch 41/100\n",
      "\u001b[1m297/297\u001b[0m \u001b[32m━━━━━━━━━━━━━━━━━━━━\u001b[0m\u001b[37m\u001b[0m \u001b[1m3s\u001b[0m 9ms/step - loss: 0.1193 - val_loss: 0.0729\n",
      "Epoch 42/100\n",
      "\u001b[1m297/297\u001b[0m \u001b[32m━━━━━━━━━━━━━━━━━━━━\u001b[0m\u001b[37m\u001b[0m \u001b[1m3s\u001b[0m 9ms/step - loss: 0.1119 - val_loss: 0.0755\n",
      "Epoch 43/100\n",
      "\u001b[1m297/297\u001b[0m \u001b[32m━━━━━━━━━━━━━━━━━━━━\u001b[0m\u001b[37m\u001b[0m \u001b[1m3s\u001b[0m 9ms/step - loss: 0.1072 - val_loss: 0.0912\n",
      "Epoch 44/100\n",
      "\u001b[1m297/297\u001b[0m \u001b[32m━━━━━━━━━━━━━━━━━━━━\u001b[0m\u001b[37m\u001b[0m \u001b[1m3s\u001b[0m 9ms/step - loss: 0.1134 - val_loss: 0.0703\n",
      "Epoch 45/100\n",
      "\u001b[1m297/297\u001b[0m \u001b[32m━━━━━━━━━━━━━━━━━━━━\u001b[0m\u001b[37m\u001b[0m \u001b[1m3s\u001b[0m 9ms/step - loss: 0.1103 - val_loss: 0.0705\n",
      "Epoch 46/100\n",
      "\u001b[1m297/297\u001b[0m \u001b[32m━━━━━━━━━━━━━━━━━━━━\u001b[0m\u001b[37m\u001b[0m \u001b[1m3s\u001b[0m 9ms/step - loss: 0.1075 - val_loss: 0.0908\n",
      "Epoch 47/100\n",
      "\u001b[1m297/297\u001b[0m \u001b[32m━━━━━━━━━━━━━━━━━━━━\u001b[0m\u001b[37m\u001b[0m \u001b[1m3s\u001b[0m 9ms/step - loss: 0.1022 - val_loss: 0.0979\n",
      "Epoch 48/100\n",
      "\u001b[1m297/297\u001b[0m \u001b[32m━━━━━━━━━━━━━━━━━━━━\u001b[0m\u001b[37m\u001b[0m \u001b[1m3s\u001b[0m 9ms/step - loss: 0.1079 - val_loss: 0.0701\n",
      "Epoch 49/100\n",
      "\u001b[1m297/297\u001b[0m \u001b[32m━━━━━━━━━━━━━━━━━━━━\u001b[0m\u001b[37m\u001b[0m \u001b[1m3s\u001b[0m 9ms/step - loss: 0.1078 - val_loss: 0.0737\n",
      "Epoch 50/100\n",
      "\u001b[1m297/297\u001b[0m \u001b[32m━━━━━━━━━━━━━━━━━━━━\u001b[0m\u001b[37m\u001b[0m \u001b[1m3s\u001b[0m 9ms/step - loss: 0.1077 - val_loss: 0.1290\n",
      "Epoch 51/100\n",
      "\u001b[1m297/297\u001b[0m \u001b[32m━━━━━━━━━━━━━━━━━━━━\u001b[0m\u001b[37m\u001b[0m \u001b[1m3s\u001b[0m 9ms/step - loss: 0.1098 - val_loss: 0.0760\n",
      "Epoch 52/100\n",
      "\u001b[1m297/297\u001b[0m \u001b[32m━━━━━━━━━━━━━━━━━━━━\u001b[0m\u001b[37m\u001b[0m \u001b[1m3s\u001b[0m 9ms/step - loss: 0.1108 - val_loss: 0.1385\n",
      "Epoch 53/100\n",
      "\u001b[1m297/297\u001b[0m \u001b[32m━━━━━━━━━━━━━━━━━━━━\u001b[0m\u001b[37m\u001b[0m \u001b[1m3s\u001b[0m 9ms/step - loss: 0.1071 - val_loss: 0.0835\n",
      "Epoch 54/100\n",
      "\u001b[1m297/297\u001b[0m \u001b[32m━━━━━━━━━━━━━━━━━━━━\u001b[0m\u001b[37m\u001b[0m \u001b[1m3s\u001b[0m 9ms/step - loss: 0.1037 - val_loss: 0.1406\n",
      "Epoch 55/100\n",
      "\u001b[1m297/297\u001b[0m \u001b[32m━━━━━━━━━━━━━━━━━━━━\u001b[0m\u001b[37m\u001b[0m \u001b[1m3s\u001b[0m 9ms/step - loss: 0.1061 - val_loss: 0.1076\n",
      "Epoch 56/100\n",
      "\u001b[1m297/297\u001b[0m \u001b[32m━━━━━━━━━━━━━━━━━━━━\u001b[0m\u001b[37m\u001b[0m \u001b[1m3s\u001b[0m 9ms/step - loss: 0.1036 - val_loss: 0.0656\n",
      "Epoch 57/100\n",
      "\u001b[1m297/297\u001b[0m \u001b[32m━━━━━━━━━━━━━━━━━━━━\u001b[0m\u001b[37m\u001b[0m \u001b[1m3s\u001b[0m 9ms/step - loss: 0.1066 - val_loss: 0.0941\n",
      "Epoch 58/100\n",
      "\u001b[1m297/297\u001b[0m \u001b[32m━━━━━━━━━━━━━━━━━━━━\u001b[0m\u001b[37m\u001b[0m \u001b[1m3s\u001b[0m 9ms/step - loss: 0.1067 - val_loss: 0.0755\n",
      "Epoch 59/100\n",
      "\u001b[1m297/297\u001b[0m \u001b[32m━━━━━━━━━━━━━━━━━━━━\u001b[0m\u001b[37m\u001b[0m \u001b[1m3s\u001b[0m 9ms/step - loss: 0.1020 - val_loss: 0.0939\n",
      "Epoch 60/100\n",
      "\u001b[1m297/297\u001b[0m \u001b[32m━━━━━━━━━━━━━━━━━━━━\u001b[0m\u001b[37m\u001b[0m \u001b[1m3s\u001b[0m 9ms/step - loss: 0.1003 - val_loss: 0.0686\n",
      "Epoch 61/100\n",
      "\u001b[1m297/297\u001b[0m \u001b[32m━━━━━━━━━━━━━━━━━━━━\u001b[0m\u001b[37m\u001b[0m \u001b[1m3s\u001b[0m 9ms/step - loss: 0.1021 - val_loss: 0.0935\n",
      "Epoch 62/100\n",
      "\u001b[1m297/297\u001b[0m \u001b[32m━━━━━━━━━━━━━━━━━━━━\u001b[0m\u001b[37m\u001b[0m \u001b[1m3s\u001b[0m 9ms/step - loss: 0.1026 - val_loss: 0.1120\n",
      "Epoch 63/100\n",
      "\u001b[1m297/297\u001b[0m \u001b[32m━━━━━━━━━━━━━━━━━━━━\u001b[0m\u001b[37m\u001b[0m \u001b[1m3s\u001b[0m 9ms/step - loss: 0.1073 - val_loss: 0.0685\n",
      "Epoch 64/100\n",
      "\u001b[1m297/297\u001b[0m \u001b[32m━━━━━━━━━━━━━━━━━━━━\u001b[0m\u001b[37m\u001b[0m \u001b[1m3s\u001b[0m 9ms/step - loss: 0.1044 - val_loss: 0.0667\n"
     ]
    }
   ],
   "source": [
    "split = int(len(encoded_data) * 0.8)\n",
    "encoded_X_train, encoded_X_test = encoded_data[:split], encoded_data[split:]\n",
    "\n",
    "lstm_units = 12\n",
    "dropout_rate = 0.1\n",
    "dense_units = 128\n",
    "learning_rate = 0.001\n",
    "weight_decay = 0.01\n",
    "regularizer = 0.00001\n",
    "num_layers = 2\n",
    "activation = 'tanh'\n",
    "\n",
    "input_seq = Input(shape=(SEQ_LENGTH, encoded_X_train.shape[2]))\n",
    "for _ in range(num_layers):\n",
    "    x = Bidirectional(LSTM(lstm_units, return_sequences=True, kernel_regularizer=l2(weight_decay), recurrent_regularizer=l2(regularizer)))(input_seq)\n",
    "    x = Dropout(dropout_rate)(x)\n",
    "\n",
    "x = Bidirectional(LSTM(lstm_units, return_sequences=False, kernel_regularizer=l2(weight_decay), recurrent_regularizer=l2(regularizer)))(x)\n",
    "x = Dropout(dropout_rate)(x)\n",
    "x = BatchNormalization()(x) \n",
    "x = Dropout(dropout_rate)(x)\n",
    "output = Dense(1)(x)\n",
    "\n",
    "model = Model(inputs=input_seq, outputs=output)\n",
    "model.compile(optimizer=SGD(learning_rate=learning_rate, momentum=0.9), loss=MAE)\n",
    "\n",
    "\n",
    "early_stopping = EarlyStopping(monitor='val_loss', patience=8, restore_best_weights=True)\n",
    "history = model.fit(encoded_X_train, y_train, epochs=100, validation_split = 0.2, batch_size=128, callbacks = [early_stopping])\n",
    "#model.save('Predict_24hr_model2.h5')"
   ]
  },
  {
   "cell_type": "markdown",
   "id": "3530647d",
   "metadata": {
    "_cell_guid": "8052459c-c662-4b46-a496-f425041b08c0",
    "_uuid": "0526d7ff-34d6-4d97-8951-03e5bdc07a0e",
    "papermill": {
     "duration": 0.508812,
     "end_time": "2024-08-26T19:13:09.718728",
     "exception": false,
     "start_time": "2024-08-26T19:13:09.209916",
     "status": "completed"
    },
    "tags": []
   },
   "source": [
    "# Evaluation of Predictions\n",
    "\n",
    "In this section we plot our predicted prices against the true prices and calculate the MSE, MAE and MAPE of these predictions. We plot the distribution of the predicted hourly percentage change in price against the true values and evaluate these predictions with MAE (We do not use MAPE as our calculations will include 0 values leading to infitinite or undefined outputs and we remove MSE as it is not a good metric when dealing with small values like our hourly percentage change values). Finally, we evaluate our models performance in prediciting the direction of price movements using accuracy, precision, recall and F1 scores."
   ]
  },
  {
   "cell_type": "code",
   "execution_count": 5,
   "id": "3ff4739c",
   "metadata": {
    "_cell_guid": "1ab81bf6-c027-4fa7-ab13-b2d1eb69ccd4",
    "_uuid": "83d9413f-be5a-40aa-90a8-c9920c87e1b7",
    "execution": {
     "iopub.execute_input": "2024-08-26T19:13:10.769529Z",
     "iopub.status.busy": "2024-08-26T19:13:10.769200Z",
     "iopub.status.idle": "2024-08-26T19:13:13.174471Z",
     "shell.execute_reply": "2024-08-26T19:13:13.173440Z"
    },
    "papermill": {
     "duration": 2.900712,
     "end_time": "2024-08-26T19:13:13.176545",
     "exception": false,
     "start_time": "2024-08-26T19:13:10.275833",
     "status": "completed"
    },
    "tags": []
   },
   "outputs": [
    {
     "name": "stdout",
     "output_type": "stream",
     "text": [
      "\u001b[1m371/371\u001b[0m \u001b[32m━━━━━━━━━━━━━━━━━━━━\u001b[0m\u001b[37m\u001b[0m \u001b[1m2s\u001b[0m 4ms/step\n"
     ]
    },
    {
     "data": {
      "image/png": "[encoded data removed]",
      "text/plain": [
       "<Figure size 640x480 with 1 Axes>"
      ]
     },
     "metadata": {},
     "output_type": "display_data"
    },
    {
     "name": "stdout",
     "output_type": "stream",
     "text": [
      "MSE: 6470.297171782452\n",
      "MAE: 50.48615833947182\n",
      "MAPE: 2.149206232864274\n"
     ]
    }
   ],
   "source": [
    "#model = load_model(\"/kaggle/working/Predict_24hr.h5\")\n",
    "\n",
    "test_predictions = model.predict(encoded_X_test)\n",
    "\n",
    "# This code is here to reset the datasets when running code multple times in one session\n",
    "X, y = create_sequences(scaled_data, SEQ_LENGTH)\n",
    "split = int(0.8 * len(X))\n",
    "X_train, X_test = X[:split], X[split:]\n",
    "y_train, y_test = y[:split], y[split:]\n",
    "\n",
    "# Inverse Scale Values\n",
    "y_test_partial_reshaped = y_test.reshape(-1, 1)\n",
    "y_test_reshaped = np.repeat(y_test_partial_reshaped, X_train.shape[2], axis=1)\n",
    "preds_reshaped = np.repeat(test_predictions, X_train.shape[2], axis=1)\n",
    "y_pred = scaler.inverse_transform(preds_reshaped)[:,column_index]\n",
    "y_test = scaler.inverse_transform(y_test_reshaped)[:,column_index]\n",
    "\n",
    "\n",
    "# Plot Preds vs Targets\n",
    "plt.plot(y_test, label='Test Actual', color='orange')\n",
    "plt.plot(y_pred, label='Test Predicted', color='red')\n",
    "plt.xlabel('Time (Hours)')\n",
    "plt.ylabel('Price')\n",
    "plt.title('Actual vs Predicted Values')\n",
    "plt.legend()\n",
    "plt.show()\n",
    "\n",
    "\n",
    "# Metrics\n",
    "def MAPE(y_true, y_pred):\n",
    "    return np.mean(np.abs((y_true - y_pred) / y_true)) * 100\n",
    "mse = mean_squared_error(y_test, y_pred)\n",
    "mae = mean_absolute_error(y_test, y_pred)\n",
    "mape = MAPE(y_test, y_pred)\n",
    "print(f\"MSE: {mse}\")\n",
    "print(f\"MAE: {mae}\")\n",
    "print(f\"MAPE: {mape}\")"
   ]
  },
  {
   "cell_type": "code",
   "execution_count": 6,
   "id": "81e9461f",
   "metadata": {
    "_cell_guid": "fe76383b-31d1-4bda-97dc-61e4ff887825",
    "_uuid": "09220e81-7016-492e-b59a-e23e696a4bdd",
    "execution": {
     "iopub.execute_input": "2024-08-26T19:13:14.172463Z",
     "iopub.status.busy": "2024-08-26T19:13:14.171677Z",
     "iopub.status.idle": "2024-08-26T19:13:14.909961Z",
     "shell.execute_reply": "2024-08-26T19:13:14.909076Z"
    },
    "papermill": {
     "duration": 1.236292,
     "end_time": "2024-08-26T19:13:14.912400",
     "exception": false,
     "start_time": "2024-08-26T19:13:13.676108",
     "status": "completed"
    },
    "tags": []
   },
   "outputs": [
    {
     "data": {
      "image/png": "[encoded data removed]",
      "text/plain": [
       "<Figure size 800x400 with 2 Axes>"
      ]
     },
     "metadata": {},
     "output_type": "display_data"
    },
    {
     "name": "stdout",
     "output_type": "stream",
     "text": [
      "Test MAE: 0.021496550002918204\n"
     ]
    }
   ],
   "source": [
    "hours = 1\n",
    "\n",
    "predicted_change = (y_pred[hours:] / y_test[:-hours]) - 1\n",
    "actual_change = (y_test[hours:] / y_test[:-hours]) - 1\n",
    "\n",
    "fig, ax = plt.subplots(1, 2, figsize=(8, 4)) \n",
    "ax[0].hist(predicted_change, bins=50)\n",
    "ax[0].set_title(f\"Predicted Price Change in {hours} hour\")\n",
    "ax[0].set_xlabel(\"% change\")\n",
    "\n",
    "ax[1].hist(actual_change, bins=50)\n",
    "ax[1].set_title(f\"Actual Price Change in {hours} hour\")\n",
    "ax[1].set_xlabel(\"% change\")\n",
    "\n",
    "plt.tight_layout()\n",
    "plt.show()\n",
    "\n",
    "change_mae = mean_absolute_error(actual_change, predicted_change)\n",
    "print(f\"Test MAE: {change_mae}\")"
   ]
  },
  {
   "cell_type": "markdown",
   "id": "67e7ae50",
   "metadata": {
    "papermill": {
     "duration": 0.495063,
     "end_time": "2024-08-26T19:13:15.916018",
     "exception": false,
     "start_time": "2024-08-26T19:13:15.420955",
     "status": "completed"
    },
    "tags": []
   },
   "source": [
    "**Identifying Performance in prediciting price direction**"
   ]
  },
  {
   "cell_type": "code",
   "execution_count": 7,
   "id": "3d8976d5",
   "metadata": {
    "_cell_guid": "89abcd73-2888-4d50-803f-d5c7ec7291a7",
    "_uuid": "798a0429-0fd6-4792-bec6-68bf57828e26",
    "execution": {
     "iopub.execute_input": "2024-08-26T19:13:16.954409Z",
     "iopub.status.busy": "2024-08-26T19:13:16.954061Z",
     "iopub.status.idle": "2024-08-26T19:13:17.237260Z",
     "shell.execute_reply": "2024-08-26T19:13:17.236302Z"
    },
    "papermill": {
     "duration": 0.78247,
     "end_time": "2024-08-26T19:13:17.239236",
     "exception": false,
     "start_time": "2024-08-26T19:13:16.456766",
     "status": "completed"
    },
    "tags": []
   },
   "outputs": [
    {
     "data": {
      "image/png": "[encoded data removed]",
      "text/plain": [
       "<Figure size 640x480 with 2 Axes>"
      ]
     },
     "metadata": {},
     "output_type": "display_data"
    },
    {
     "name": "stdout",
     "output_type": "stream",
     "text": [
      "Correctly predicted upward movements percentage (Recall): 0.5771523178807947\n",
      "Correctly predicted downard movements percentage (Specificity): 0.45014587266174705\n"
     ]
    }
   ],
   "source": [
    "# Transforming Preds and Targets to % difference\n",
    "predicted_direction = []\n",
    "actual_direction = []\n",
    "\n",
    "# Transforming preds and targets to 1 if upwards move and 0 if downwards move\n",
    "for i in range(0, len(y_pred) - 1):\n",
    "    if y_pred[i + 1] >= y_test[i]:\n",
    "        predicted_direction.append(1)\n",
    "    else:\n",
    "        predicted_direction.append(0)\n",
    "        \n",
    "for i in range(0, len(y_test) - 1):\n",
    "    if y_test[i + 1] >= y_test[i]:\n",
    "        actual_direction.append(1)\n",
    "    else:\n",
    "        actual_direction.append(0)\n",
    "\n",
    "# Plotting Confusion Matrix\n",
    "matrix = confusion_matrix(actual_direction, predicted_direction)\n",
    "cm_display = ConfusionMatrixDisplay(matrix)\n",
    "cm_display.plot()\n",
    "plt.title(\"Prediction of Upward and Downward Price Movements\")\n",
    "plt.show()\n",
    "\n",
    "\n",
    "recall = matrix[(1,1)] / (matrix[(1,1)] + matrix[(1,0)])\n",
    "specificity = matrix[(0,0)] / (matrix[(0,0)] + matrix[(0,1)])\n",
    "\n",
    "print(\"Correctly predicted upward movements percentage (Recall):\", recall)\n",
    "print(\"Correctly predicted downard movements percentage (Specificity):\", specificity)"
   ]
  },
  {
   "cell_type": "markdown",
   "id": "442d6eba",
   "metadata": {
    "papermill": {
     "duration": 0.493244,
     "end_time": "2024-08-26T19:13:18.228362",
     "exception": false,
     "start_time": "2024-08-26T19:13:17.735118",
     "status": "completed"
    },
    "tags": []
   },
   "source": [
    "# Trading Algorithm\n",
    "\n",
    "In this section we create an algorithm that buys and sells ETH-USD. A buy signal is produced when our predicted prices are above a certain threshold (a given percentage higher than current price). A sell signal is produced after a certain profit level is reached or if a position is held to a specified maximum holding period. Position size and our mentioned parameter values are informed by historical estimations of VaR at various confidence levels. "
   ]
  },
  {
   "cell_type": "markdown",
   "id": "3538a751",
   "metadata": {
    "papermill": {
     "duration": 0.494379,
     "end_time": "2024-08-26T19:13:19.216993",
     "exception": false,
     "start_time": "2024-08-26T19:13:18.722614",
     "status": "completed"
    },
    "tags": []
   },
   "source": [
    "**VaR (Historical Estimation)**"
   ]
  },
  {
   "cell_type": "code",
   "execution_count": 8,
   "id": "06d3aa99",
   "metadata": {
    "_cell_guid": "f710cb2c-6027-4d7c-bc26-bed3a0815bda",
    "_uuid": "8db677b0-83db-4618-847a-c14725240d1b",
    "execution": {
     "iopub.execute_input": "2024-08-26T19:13:20.274065Z",
     "iopub.status.busy": "2024-08-26T19:13:20.273693Z",
     "iopub.status.idle": "2024-08-26T19:13:20.286042Z",
     "shell.execute_reply": "2024-08-26T19:13:20.284912Z"
    },
    "papermill": {
     "duration": 0.530168,
     "end_time": "2024-08-26T19:13:20.288055",
     "exception": false,
     "start_time": "2024-08-26T19:13:19.757887",
     "status": "completed"
    },
    "tags": []
   },
   "outputs": [
    {
     "name": "stdout",
     "output_type": "stream",
     "text": [
      "97.5% confident price will not fall more than 5.34% in 24 hours\n",
      "97.5% confident price will not fall more than 7.17% in 48 hours\n",
      "97.5% confident price will not fall more than 8.41% in 72 hours\n",
      "97.5% confident price will not fall more than 9.57% in 96 hours\n",
      " \n",
      "95.0% confident price will not fall more than 4.04% in 24 hours\n",
      "95.0% confident price will not fall more than 5.33% in 48 hours\n",
      "95.0% confident price will not fall more than 6.38% in 72 hours\n",
      "95.0% confident price will not fall more than 7.47% in 96 hours\n"
     ]
    }
   ],
   "source": [
    "confidence_level = 0.975\n",
    "for x in range(24,97,24):\n",
    "    pct_change = y_test[x:] / y_test[:-x]\n",
    "    var_hist = 1 - np.percentile(pct_change, (1 - confidence_level) * 100)   \n",
    "    print(f\"{confidence_level * 100}% confident price will not fall more than {var_hist:.2%} in {x} hours\")\n",
    "print(\" \")\n",
    "confidence_level = 0.95\n",
    "for x in range(24,97,24):\n",
    "    pct_change = y_test[x:] / y_test[:-x]\n",
    "    var_hist = 1 - np.percentile(pct_change, (1 - confidence_level) * 100)   \n",
    "    print(f\"{confidence_level * 100}% confident price will not fall more than {var_hist:.2%} in {x} hours\")"
   ]
  },
  {
   "cell_type": "markdown",
   "id": "f4e9d8ac",
   "metadata": {
    "_cell_guid": "d93c23a3-7bf8-47d4-8800-5a5054ba2347",
    "_uuid": "a53f0c14-fa06-4ff1-a5fc-e0868ee5a60e",
    "papermill": {
     "duration": 0.497509,
     "end_time": "2024-08-26T19:13:21.293002",
     "exception": false,
     "start_time": "2024-08-26T19:13:20.795493",
     "status": "completed"
    },
    "tags": []
   },
   "source": [
    "**Trading Algorithm**"
   ]
  },
  {
   "cell_type": "code",
   "execution_count": 9,
   "id": "55932385",
   "metadata": {
    "execution": {
     "iopub.execute_input": "2024-08-26T19:13:22.326741Z",
     "iopub.status.busy": "2024-08-26T19:13:22.326369Z",
     "iopub.status.idle": "2024-08-26T19:13:22.751021Z",
     "shell.execute_reply": "2024-08-26T19:13:22.750110Z"
    },
    "papermill": {
     "duration": 0.924884,
     "end_time": "2024-08-26T19:13:22.754147",
     "exception": false,
     "start_time": "2024-08-26T19:13:21.829263",
     "status": "completed"
    },
    "tags": []
   },
   "outputs": [
    {
     "name": "stdout",
     "output_type": "stream",
     "text": [
      "Strategy Profit: 57.24%\n",
      "Buy and Hold Profit: 129.49%\n"
     ]
    },
    {
     "data": {
      "image/png": "[encoded data removed]",
      "text/plain": [
       "<Figure size 900x300 with 1 Axes>"
      ]
     },
     "metadata": {},
     "output_type": "display_data"
    },
    {
     "name": "stdout",
     "output_type": "stream",
     "text": [
      "HOLD           11790\n",
      "BUY               27\n",
      "TIME SELL         24\n",
      "PROFIT SELL        3\n",
      "Name: count, dtype: int64\n"
     ]
    }
   ],
   "source": [
    "prices = y_test[:-24]\n",
    "preds = y_pred[24:]\n",
    "actual = y_test[24:]\n",
    "\n",
    "initial_balance = 10000\n",
    "slippage = 0.0015  # binance trading fee (0.1%) + margin loss (0.05%)\n",
    "balance = initial_balance\n",
    "holdings = 0\n",
    "buy_price = 0\n",
    "profits = []\n",
    "portfolio_value = []\n",
    "actions = []\n",
    "\n",
    "position_size = 1\n",
    "take_profit = 1.09\n",
    "max_hold_time = 72\n",
    "signal_strength = 1.04\n",
    "\n",
    "for i in range(len(prices)):\n",
    "\n",
    "    current_price = prices[i]\n",
    "    predicted_price = preds[i]\n",
    "    signal = predicted_price / current_price\n",
    "    action = \"HOLD\"\n",
    "    \n",
    "    if signal > signal_strength and balance > 0:\n",
    "        amount_to_invest = balance*position_size\n",
    "        shares_to_buy = amount_to_invest / current_price\n",
    "        transaction_cost = shares_to_buy * current_price * slippage\n",
    "        actual_shares_bought = (amount_to_invest - transaction_cost) / current_price\n",
    "        holdings += actual_shares_bought\n",
    "        balance -= amount_to_invest\n",
    "        buy_price = current_price\n",
    "        action = 'BUY'   \n",
    "\n",
    "    elif current_price > buy_price*take_profit and holdings > 0:\n",
    "            transaction_cost = holdings * current_price * slippage\n",
    "            balance += (holdings * current_price) - transaction_cost\n",
    "            profits.append(holdings * (current_price - buy_price) - transaction_cost)\n",
    "            holdings = 0\n",
    "            action = \"PROFIT SELL\"\n",
    "        \n",
    "        \n",
    "    if i % max_hold_time == 0 :\n",
    "        if holdings > 0:\n",
    "            transaction_cost = holdings * current_price * slippage\n",
    "            balance += (holdings * current_price) - transaction_cost\n",
    "            profits.append(holdings * (current_price - buy_price) - transaction_cost)\n",
    "            holdings = 0\n",
    "            action = \"TIME SELL\"\n",
    "    \n",
    "\n",
    "    actions.append(action)  \n",
    "    portfolio_value.append(balance + (holdings * current_price))\n",
    "\n",
    "portfolio_value = np.array(portfolio_value)\n",
    "portfolio = (portfolio_value * 100 / portfolio_value[0]) - 100\n",
    "strategy_profit = ((portfolio_value[-1] / initial_balance) * 100) - 100\n",
    "\n",
    "buy_and_hold = (prices * (100 - slippage) / prices[0]) - 100\n",
    "buy_and_hold_profit = ((prices[-1] / prices[0]) * 100-slippage) - 100 \n",
    "\n",
    "\n",
    "print(f\"Strategy Profit: {strategy_profit:.2f}%\")\n",
    "print(f\"Buy and Hold Profit: {buy_and_hold_profit:.2f}%\")\n",
    "\n",
    "index = test.index[predict_value+10:]\n",
    "plt.figure(figsize=(9, 3))\n",
    "plt.plot(index, portfolio, label=\"Strategy\")\n",
    "plt.plot(index, buy_and_hold, label=\"Buy And Hold\") \n",
    "plt.xlabel('Time')\n",
    "plt.ylabel('Profit (%)')\n",
    "plt.title('Strategy vs Buy and Hold')\n",
    "plt.legend()\n",
    "plt.show()\n",
    "\n",
    "print(pd.Series(actions).value_counts())"
   ]
  },
  {
   "cell_type": "markdown",
   "id": "2c61ff21",
   "metadata": {
    "_cell_guid": "4850a2b2-ed2f-4229-8f51-9b0dc159baf9",
    "_uuid": "4ca85fed-d7e2-4d94-a972-053502571e0c",
    "papermill": {
     "duration": 0.538258,
     "end_time": "2024-08-26T19:13:23.797326",
     "exception": false,
     "start_time": "2024-08-26T19:13:23.259068",
     "status": "completed"
    },
    "tags": []
   },
   "source": [
    "# Trading Algorithm Evaluation\n",
    "\n",
    "We evaluate our algorithm by comparing against a buy and hold strategy. We calculate the annual return, volatility, maximum drawdown and Sharpe ratio of both strategies. We estimate the risk free rate to be the average 1 year T-bill over the trading period. "
   ]
  },
  {
   "cell_type": "code",
   "execution_count": 10,
   "id": "4a7d3b04",
   "metadata": {
    "_cell_guid": "0648ea13-7a07-435c-bd18-f46b19fe8652",
    "_uuid": "925dcf3d-d1a8-4017-8dba-fd13f13c7c27",
    "execution": {
     "iopub.execute_input": "2024-08-26T19:13:24.786648Z",
     "iopub.status.busy": "2024-08-26T19:13:24.786300Z",
     "iopub.status.idle": "2024-08-26T19:13:38.300063Z",
     "shell.execute_reply": "2024-08-26T19:13:38.298922Z"
    },
    "papermill": {
     "duration": 14.011303,
     "end_time": "2024-08-26T19:13:38.302165",
     "exception": false,
     "start_time": "2024-08-26T19:13:24.290862",
     "status": "completed"
    },
    "tags": []
   },
   "outputs": [
    {
     "name": "stderr",
     "output_type": "stream",
     "text": [
      "/opt/conda/lib/python3.10/pty.py:89: RuntimeWarning: os.fork() was called. os.fork() is incompatible with multithreaded code, and JAX is multithreaded, so this will likely lead to a deadlock.\n",
      "  pid, fd = os.forkpty()\n"
     ]
    },
    {
     "name": "stdout",
     "output_type": "stream",
     "text": [
      "Risk Free Rate: 0.05081764705882353\n"
     ]
    }
   ],
   "source": [
    "!pip install -q pandas pandas_datareader\n",
    "import pandas_datareader.data as web\n",
    "from datetime import datetime\n",
    "\n",
    "df = web.DataReader('GS1', 'fred', datetime(2023, 1, 23),datetime(2024,6,2))\n",
    "rf_annual = np.mean(df)/100\n",
    "print(f\"Risk Free Rate: {rf_annual}\")"
   ]
  },
  {
   "cell_type": "code",
   "execution_count": 11,
   "id": "2e5cff91",
   "metadata": {
    "_cell_guid": "c8a673af-dc78-4897-b77f-df21186ed49a",
    "_uuid": "b9a82ff6-0d76-4ba6-9180-679a223673c4",
    "execution": {
     "iopub.execute_input": "2024-08-26T19:13:39.342883Z",
     "iopub.status.busy": "2024-08-26T19:13:39.342522Z",
     "iopub.status.idle": "2024-08-26T19:13:39.357106Z",
     "shell.execute_reply": "2024-08-26T19:13:39.355961Z"
    },
    "papermill": {
     "duration": 0.556078,
     "end_time": "2024-08-26T19:13:39.359035",
     "exception": false,
     "start_time": "2024-08-26T19:13:38.802957",
     "status": "completed"
    },
    "tags": []
   },
   "outputs": [
    {
     "name": "stdout",
     "output_type": "stream",
     "text": [
      "Trading Strategy Metrics:\n",
      "Annual Return: 33.48%\n",
      "Volatility: 0.21\n",
      "Maximum Drawdown: 14.41%\n",
      "Sharpe Ratio: 1.37\n",
      "\n",
      "Buy and Hold Metrics:\n",
      "Annual Return: 61.54%\n",
      "Volatility: 0.52\n",
      "Maximum Drawdown: 29.63%\n",
      "Sharpe Ratio: 1.08\n"
     ]
    }
   ],
   "source": [
    "PL_returns = np.diff(np.log(np.array(portfolio_value)))\n",
    "market_returns = np.diff(np.log(np.array(y_test)))\n",
    "\n",
    "def calc_max_drawdown(values):\n",
    "    balances_series = pd.Series(values)\n",
    "    running_max = balances_series.cummax()\n",
    "    drawdown = (balances_series - running_max) / running_max\n",
    "    max_drawdown = drawdown.min()\n",
    "    return -max_drawdown*100\n",
    "\n",
    "def calculate_metrics(values, rf):\n",
    "    annual_return = np.mean(values)*365*24\n",
    "    volatility = np.std(values)*np.sqrt(365*24)\n",
    "    max_drawdown = np.max(np.maximum.accumulate(values) - values) / np.max(np.maximum.accumulate(values))\n",
    "    sharpe_ratio = (annual_return - rf) / volatility\n",
    "    return volatility, max_drawdown, sharpe_ratio, annual_return\n",
    "\n",
    "trading_metrics = calculate_metrics(PL_returns,rf_annual)\n",
    "buy_and_hold_metrics = calculate_metrics(market_returns,rf_annual)\n",
    "trading_drawdown = calc_max_drawdown(portfolio_value)\n",
    "buy_and_hold_drawdown = calc_max_drawdown(prices)\n",
    "\n",
    "# Print metrics\n",
    "print(\"Trading Strategy Metrics:\")\n",
    "print(f\"Annual Return: {trading_metrics[3]*100:.2f}%\")\n",
    "print(f\"Volatility: {trading_metrics[0]:.2f}\")\n",
    "print(f\"Maximum Drawdown: {trading_drawdown:.2f}%\")\n",
    "print(f\"Sharpe Ratio: {trading_metrics[2]:.2f}\")\n",
    "\n",
    "print(\"\\nBuy and Hold Metrics:\")\n",
    "print(f\"Annual Return: {buy_and_hold_metrics[3]*100:.2f}%\")\n",
    "print(f\"Volatility: {buy_and_hold_metrics[0]:.2f}\")\n",
    "print(f\"Maximum Drawdown: {buy_and_hold_drawdown:.2f}%\")\n",
    "print(f\"Sharpe Ratio: {buy_and_hold_metrics[2]:.2f}\")"
   ]
  }
 ],
 "metadata": {
  "accelerator": "TPU",
  "colab": {
   "collapsed_sections": [
    "nxXpPdVdWHv0",
    "iScbE9mVPg6W",
    "xv7Y7zMuWNzt",
    "zD_9w8mk59O-",
    "ANo9dXWwpNYb"
   ],
   "gpuType": "V28",
   "provenance": []
  },
  "kaggle": {
   "accelerator": "nvidiaTeslaT4",
   "dataSources": [
    {
     "datasetId": 5306016,
     "sourceId": 8819887,
     "sourceType": "datasetVersion"
    },
    {
     "modelId": 99632,
     "modelInstanceId": 74910,
     "sourceId": 89298,
     "sourceType": "modelInstanceVersion"
    }
   ],
   "dockerImageVersionId": 30747,
   "isGpuEnabled": true,
   "isInternetEnabled": true,
   "language": "python",
   "sourceType": "notebook"
  },
  "kernelspec": {
   "display_name": "Python 3",
   "language": "python",
   "name": "python3"
  },
  "language_info": {
   "codemirror_mode": {
    "name": "ipython",
    "version": 3
   },
   "file_extension": ".py",
   "mimetype": "text/x-python",
   "name": "python",
   "nbconvert_exporter": "python",
   "pygments_lexer": "ipython3",
   "version": "3.10.13"
  },
  "papermill": {
   "default_parameters": {},
   "duration": 450.515009,
   "end_time": "2024-08-26T19:13:42.959661",
   "environment_variables": {},
   "exception": null,
   "input_path": "__notebook__.ipynb",
   "output_path": "__notebook__.ipynb",
   "parameters": {},
   "start_time": "2024-08-26T19:06:12.444652",
   "version": "2.5.0"
  }
 },
 "nbformat": 4,
 "nbformat_minor": 5
}
