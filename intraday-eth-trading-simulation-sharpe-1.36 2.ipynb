{
 "cells": [
  {
   "cell_type": "markdown",
   "id": "56e8095c",
   "metadata": {
    "_cell_guid": "d11f685f-11a1-463a-b682-2aa058d74896",
    "_uuid": "56c1ac9b-1a41-477d-bd2d-e70f695f9dc6",
    "id": "nxXpPdVdWHv0",
    "papermill": {
     "duration": 0.006938,
     "end_time": "2024-08-04T17:10:22.432536",
     "exception": false,
     "start_time": "2024-08-04T17:10:22.425598",
     "status": "completed"
    },
    "tags": []
   },
   "source": [
    "# Data Preprocessing\n",
    "1. Import Libraries and download data\n",
    "2. Scale training and test data using training data parameters to ensure no data leakage\n",
    "3. Creates Sequences for training\n",
    "4. Utilise Encoder-Decoder Network to reduce dimensionality of data to reduce overfitting"
   ]
  },
  {
   "cell_type": "code",
   "execution_count": 1,
   "id": "83e96f93",
   "metadata": {
    "execution": {
     "iopub.execute_input": "2024-08-04T17:10:22.446337Z",
     "iopub.status.busy": "2024-08-04T17:10:22.446050Z",
     "iopub.status.idle": "2024-08-04T17:10:35.190006Z",
     "shell.execute_reply": "2024-08-04T17:10:35.189045Z"
    },
    "papermill": {
     "duration": 12.753537,
     "end_time": "2024-08-04T17:10:35.192452",
     "exception": false,
     "start_time": "2024-08-04T17:10:22.438915",
     "status": "completed"
    },
    "tags": []
   },
   "outputs": [
    {
     "name": "stderr",
     "output_type": "stream",
     "text": [
      "2024-08-04 17:10:24.718606: E external/local_xla/xla/stream_executor/cuda/cuda_dnn.cc:9261] Unable to register cuDNN factory: Attempting to register factory for plugin cuDNN when one has already been registered\n",
      "2024-08-04 17:10:24.718714: E external/local_xla/xla/stream_executor/cuda/cuda_fft.cc:607] Unable to register cuFFT factory: Attempting to register factory for plugin cuFFT when one has already been registered\n",
      "2024-08-04 17:10:24.841372: E external/local_xla/xla/stream_executor/cuda/cuda_blas.cc:1515] Unable to register cuBLAS factory: Attempting to register factory for plugin cuBLAS when one has already been registered\n"
     ]
    }
   ],
   "source": [
    "random_state = 1\n",
    "import numpy as np\n",
    "import pandas as pd\n",
    "import matplotlib.pyplot as plt\n",
    "from sklearn.preprocessing import StandardScaler\n",
    "from sklearn.metrics import mean_squared_error, mean_absolute_error\n",
    "from tensorflow.keras.models import Model, load_model\n",
    "from tensorflow.keras.layers import Input, LSTM, Dense, Layer, Dropout, BatchNormalization, Bidirectional, TimeDistributed\n",
    "from tensorflow.keras.regularizers import l2\n",
    "from tensorflow.keras.callbacks import EarlyStopping\n",
    "from tensorflow.keras.losses import MAE"
   ]
  },
  {
   "cell_type": "code",
   "execution_count": 2,
   "id": "76ef3b04",
   "metadata": {
    "_cell_guid": "702697a8-a1c4-436d-91a2-b39f9a227e3c",
    "_uuid": "7bfc2347-b063-4538-88e7-59ddaba6962d",
    "execution": {
     "iopub.execute_input": "2024-08-04T17:10:35.207285Z",
     "iopub.status.busy": "2024-08-04T17:10:35.206380Z",
     "iopub.status.idle": "2024-08-04T17:10:35.565281Z",
     "shell.execute_reply": "2024-08-04T17:10:35.564254Z"
    },
    "papermill": {
     "duration": 0.368498,
     "end_time": "2024-08-04T17:10:35.567665",
     "exception": false,
     "start_time": "2024-08-04T17:10:35.199167",
     "status": "completed"
    },
    "tags": []
   },
   "outputs": [],
   "source": [
    "# Read dataset and set index to datetime for plotting purposes\n",
    "data = pd.read_csv(\"/kaggle/input/eth-all/ETH_return2.csv\")\n",
    "data[\"timestamp\"] = pd.to_datetime(data[\"timestamp\"])\n",
    "data.set_index(\"timestamp\", inplace=True)\n",
    "\n",
    "\n",
    "# Scale data using train parameters to ensure no data leakage\n",
    "split = int(len(data) * 0.8)\n",
    "train, test = data[:split], data[split:]\n",
    "scaler = StandardScaler()\n",
    "train_scaled = scaler.fit_transform(train)\n",
    "test_scaled = scaler.transform(test)\n",
    "scaled_data = np.vstack((train_scaled, test_scaled))\n",
    "\n",
    "\n",
    "\n",
    "# Create Sequences\n",
    "column_index = data.columns.get_loc('close')\n",
    "predict_value = 24\n",
    "SEQ_LENGTH = 24\n",
    "def create_sequences(data, seq_length):\n",
    "    X, Y = [], []\n",
    "    for i in range(len(data) - seq_length - predict_value):  \n",
    "        x = data[i:i + seq_length]\n",
    "        y = data[i + seq_length + predict_value, column_index]  \n",
    "        X.append(x)\n",
    "        Y.append(y)\n",
    "    return np.array(X), np.array(Y)\n",
    "X, y = create_sequences(scaled_data, SEQ_LENGTH)\n",
    "\n",
    "\n",
    "split = int(0.8 * len(X))\n",
    "X_train, X_test = X[:split], X[split:]\n",
    "y_train, y_test = y[:split], y[split:]"
   ]
  },
  {
   "cell_type": "markdown",
   "id": "1c46b2b2",
   "metadata": {
    "papermill": {
     "duration": 0.006112,
     "end_time": "2024-08-04T17:10:35.580384",
     "exception": false,
     "start_time": "2024-08-04T17:10:35.574272",
     "status": "completed"
    },
    "tags": []
   },
   "source": [
    "# Auto-Encoder"
   ]
  },
  {
   "cell_type": "code",
   "execution_count": 3,
   "id": "2806f36b",
   "metadata": {
    "execution": {
     "iopub.execute_input": "2024-08-04T17:10:35.593922Z",
     "iopub.status.busy": "2024-08-04T17:10:35.593602Z",
     "iopub.status.idle": "2024-08-04T17:14:16.965721Z",
     "shell.execute_reply": "2024-08-04T17:14:16.964609Z"
    },
    "papermill": {
     "duration": 221.381259,
     "end_time": "2024-08-04T17:14:16.967750",
     "exception": false,
     "start_time": "2024-08-04T17:10:35.586491",
     "status": "completed"
    },
    "tags": []
   },
   "outputs": [
    {
     "name": "stdout",
     "output_type": "stream",
     "text": [
      "Epoch 1/100\n",
      "\u001b[1m371/371\u001b[0m \u001b[32m━━━━━━━━━━━━━━━━━━━━\u001b[0m\u001b[37m\u001b[0m \u001b[1m10s\u001b[0m 18ms/step - loss: 0.4273 - val_loss: 0.1889\n",
      "Epoch 2/100\n",
      "\u001b[1m371/371\u001b[0m \u001b[32m━━━━━━━━━━━━━━━━━━━━\u001b[0m\u001b[37m\u001b[0m \u001b[1m6s\u001b[0m 16ms/step - loss: 0.2350 - val_loss: 0.1703\n",
      "Epoch 3/100\n",
      "\u001b[1m371/371\u001b[0m \u001b[32m━━━━━━━━━━━━━━━━━━━━\u001b[0m\u001b[37m\u001b[0m \u001b[1m6s\u001b[0m 16ms/step - loss: 0.2115 - val_loss: 0.1325\n",
      "Epoch 4/100\n",
      "\u001b[1m371/371\u001b[0m \u001b[32m━━━━━━━━━━━━━━━━━━━━\u001b[0m\u001b[37m\u001b[0m \u001b[1m6s\u001b[0m 16ms/step - loss: 0.1990 - val_loss: 0.1426\n",
      "Epoch 5/100\n",
      "\u001b[1m371/371\u001b[0m \u001b[32m━━━━━━━━━━━━━━━━━━━━\u001b[0m\u001b[37m\u001b[0m \u001b[1m6s\u001b[0m 16ms/step - loss: 0.1897 - val_loss: 0.1150\n",
      "Epoch 6/100\n",
      "\u001b[1m371/371\u001b[0m \u001b[32m━━━━━━━━━━━━━━━━━━━━\u001b[0m\u001b[37m\u001b[0m \u001b[1m6s\u001b[0m 16ms/step - loss: 0.1798 - val_loss: 0.1115\n",
      "Epoch 7/100\n",
      "\u001b[1m371/371\u001b[0m \u001b[32m━━━━━━━━━━━━━━━━━━━━\u001b[0m\u001b[37m\u001b[0m \u001b[1m6s\u001b[0m 16ms/step - loss: 0.1680 - val_loss: 0.0918\n",
      "Epoch 8/100\n",
      "\u001b[1m371/371\u001b[0m \u001b[32m━━━━━━━━━━━━━━━━━━━━\u001b[0m\u001b[37m\u001b[0m \u001b[1m6s\u001b[0m 16ms/step - loss: 0.1553 - val_loss: 0.0876\n",
      "Epoch 9/100\n",
      "\u001b[1m371/371\u001b[0m \u001b[32m━━━━━━━━━━━━━━━━━━━━\u001b[0m\u001b[37m\u001b[0m \u001b[1m6s\u001b[0m 16ms/step - loss: 0.1469 - val_loss: 0.0891\n",
      "Epoch 10/100\n",
      "\u001b[1m371/371\u001b[0m \u001b[32m━━━━━━━━━━━━━━━━━━━━\u001b[0m\u001b[37m\u001b[0m \u001b[1m6s\u001b[0m 16ms/step - loss: 0.1431 - val_loss: 0.0755\n",
      "Epoch 11/100\n",
      "\u001b[1m371/371\u001b[0m \u001b[32m━━━━━━━━━━━━━━━━━━━━\u001b[0m\u001b[37m\u001b[0m \u001b[1m6s\u001b[0m 17ms/step - loss: 0.1408 - val_loss: 0.0836\n",
      "Epoch 12/100\n",
      "\u001b[1m371/371\u001b[0m \u001b[32m━━━━━━━━━━━━━━━━━━━━\u001b[0m\u001b[37m\u001b[0m \u001b[1m6s\u001b[0m 17ms/step - loss: 0.1386 - val_loss: 0.0743\n",
      "Epoch 13/100\n",
      "\u001b[1m371/371\u001b[0m \u001b[32m━━━━━━━━━━━━━━━━━━━━\u001b[0m\u001b[37m\u001b[0m \u001b[1m6s\u001b[0m 17ms/step - loss: 0.1363 - val_loss: 0.0722\n",
      "Epoch 14/100\n",
      "\u001b[1m371/371\u001b[0m \u001b[32m━━━━━━━━━━━━━━━━━━━━\u001b[0m\u001b[37m\u001b[0m \u001b[1m6s\u001b[0m 17ms/step - loss: 0.1358 - val_loss: 0.0804\n",
      "Epoch 15/100\n",
      "\u001b[1m371/371\u001b[0m \u001b[32m━━━━━━━━━━━━━━━━━━━━\u001b[0m\u001b[37m\u001b[0m \u001b[1m6s\u001b[0m 17ms/step - loss: 0.1340 - val_loss: 0.0734\n",
      "Epoch 16/100\n",
      "\u001b[1m371/371\u001b[0m \u001b[32m━━━━━━━━━━━━━━━━━━━━\u001b[0m\u001b[37m\u001b[0m \u001b[1m6s\u001b[0m 17ms/step - loss: 0.1333 - val_loss: 0.0702\n",
      "Epoch 17/100\n",
      "\u001b[1m371/371\u001b[0m \u001b[32m━━━━━━━━━━━━━━━━━━━━\u001b[0m\u001b[37m\u001b[0m \u001b[1m6s\u001b[0m 17ms/step - loss: 0.1333 - val_loss: 0.0679\n",
      "Epoch 18/100\n",
      "\u001b[1m371/371\u001b[0m \u001b[32m━━━━━━━━━━━━━━━━━━━━\u001b[0m\u001b[37m\u001b[0m \u001b[1m6s\u001b[0m 17ms/step - loss: 0.1326 - val_loss: 0.0653\n",
      "Epoch 19/100\n",
      "\u001b[1m371/371\u001b[0m \u001b[32m━━━━━━━━━━━━━━━━━━━━\u001b[0m\u001b[37m\u001b[0m \u001b[1m6s\u001b[0m 17ms/step - loss: 0.1324 - val_loss: 0.0731\n",
      "Epoch 20/100\n",
      "\u001b[1m371/371\u001b[0m \u001b[32m━━━━━━━━━━━━━━━━━━━━\u001b[0m\u001b[37m\u001b[0m \u001b[1m6s\u001b[0m 17ms/step - loss: 0.1313 - val_loss: 0.0697\n",
      "Epoch 21/100\n",
      "\u001b[1m371/371\u001b[0m \u001b[32m━━━━━━━━━━━━━━━━━━━━\u001b[0m\u001b[37m\u001b[0m \u001b[1m6s\u001b[0m 16ms/step - loss: 0.1309 - val_loss: 0.0746\n",
      "Epoch 22/100\n",
      "\u001b[1m371/371\u001b[0m \u001b[32m━━━━━━━━━━━━━━━━━━━━\u001b[0m\u001b[37m\u001b[0m \u001b[1m6s\u001b[0m 17ms/step - loss: 0.1304 - val_loss: 0.0650\n",
      "Epoch 23/100\n",
      "\u001b[1m371/371\u001b[0m \u001b[32m━━━━━━━━━━━━━━━━━━━━\u001b[0m\u001b[37m\u001b[0m \u001b[1m6s\u001b[0m 17ms/step - loss: 0.1298 - val_loss: 0.0627\n",
      "Epoch 24/100\n",
      "\u001b[1m371/371\u001b[0m \u001b[32m━━━━━━━━━━━━━━━━━━━━\u001b[0m\u001b[37m\u001b[0m \u001b[1m6s\u001b[0m 17ms/step - loss: 0.1306 - val_loss: 0.0714\n",
      "Epoch 25/100\n",
      "\u001b[1m371/371\u001b[0m \u001b[32m━━━━━━━━━━━━━━━━━━━━\u001b[0m\u001b[37m\u001b[0m \u001b[1m6s\u001b[0m 17ms/step - loss: 0.1291 - val_loss: 0.0762\n",
      "Epoch 26/100\n",
      "\u001b[1m371/371\u001b[0m \u001b[32m━━━━━━━━━━━━━━━━━━━━\u001b[0m\u001b[37m\u001b[0m \u001b[1m6s\u001b[0m 17ms/step - loss: 0.1288 - val_loss: 0.0633\n",
      "Epoch 27/100\n",
      "\u001b[1m371/371\u001b[0m \u001b[32m━━━━━━━━━━━━━━━━━━━━\u001b[0m\u001b[37m\u001b[0m \u001b[1m6s\u001b[0m 17ms/step - loss: 0.1285 - val_loss: 0.0765\n",
      "Epoch 28/100\n",
      "\u001b[1m371/371\u001b[0m \u001b[32m━━━━━━━━━━━━━━━━━━━━\u001b[0m\u001b[37m\u001b[0m \u001b[1m6s\u001b[0m 17ms/step - loss: 0.1285 - val_loss: 0.0654\n",
      "Epoch 29/100\n",
      "\u001b[1m371/371\u001b[0m \u001b[32m━━━━━━━━━━━━━━━━━━━━\u001b[0m\u001b[37m\u001b[0m \u001b[1m6s\u001b[0m 17ms/step - loss: 0.1281 - val_loss: 0.0645\n",
      "Epoch 30/100\n",
      "\u001b[1m371/371\u001b[0m \u001b[32m━━━━━━━━━━━━━━━━━━━━\u001b[0m\u001b[37m\u001b[0m \u001b[1m6s\u001b[0m 17ms/step - loss: 0.1280 - val_loss: 0.0647\n",
      "Epoch 31/100\n",
      "\u001b[1m371/371\u001b[0m \u001b[32m━━━━━━━━━━━━━━━━━━━━\u001b[0m\u001b[37m\u001b[0m \u001b[1m6s\u001b[0m 17ms/step - loss: 0.1271 - val_loss: 0.0667\n",
      "Epoch 32/100\n",
      "\u001b[1m371/371\u001b[0m \u001b[32m━━━━━━━━━━━━━━━━━━━━\u001b[0m\u001b[37m\u001b[0m \u001b[1m6s\u001b[0m 17ms/step - loss: 0.1273 - val_loss: 0.0767\n",
      "Epoch 33/100\n",
      "\u001b[1m371/371\u001b[0m \u001b[32m━━━━━━━━━━━━━━━━━━━━\u001b[0m\u001b[37m\u001b[0m \u001b[1m6s\u001b[0m 17ms/step - loss: 0.1276 - val_loss: 0.0651\n",
      "\u001b[1m1855/1855\u001b[0m \u001b[32m━━━━━━━━━━━━━━━━━━━━\u001b[0m\u001b[37m\u001b[0m \u001b[1m4s\u001b[0m 2ms/step\n",
      "\u001b[1m1855/1855\u001b[0m \u001b[32m━━━━━━━━━━━━━━━━━━━━\u001b[0m\u001b[37m\u001b[0m \u001b[1m6s\u001b[0m 3ms/step\n",
      "Mean Squared Error: 0.14924695699014073\n"
     ]
    }
   ],
   "source": [
    "# Encoder - Decoder\n",
    "dropout_rate = 0.2\n",
    "activation = \"tanh\"\n",
    "LSTM_units = 350\n",
    "learning_rate = 0.1\n",
    "\n",
    "input_layer = Input(shape=(X.shape[1], X.shape[2]))\n",
    "encoded = LSTM(LSTM_units, activation=activation, return_sequences=True)(input_layer)\n",
    "encoded = LSTM(4, activation=activation, return_sequences=True)(encoded)\n",
    "decoded = LSTM(LSTM_units, return_sequences=True, activation=activation)(encoded)\n",
    "decoded = Dropout(dropout_rate)(decoded)\n",
    "decoded = TimeDistributed(Dense(X.shape[2]))(decoded)\n",
    "\n",
    "autoencoder = Model(input_layer, decoded)\n",
    "autoencoder.compile(optimizer=SGD(learning_rate=learning_rate, momentum=0.5), loss=MAE)\n",
    "early_stopping = EarlyStopping(monitor='val_loss', patience=10, restore_best_weights=True)\n",
    "history = autoencoder.fit(X, X, epochs=100, batch_size=128, validation_split=0.2, callbacks=[early_stopping])\n",
    "\n",
    "encoder = Model(input_layer, encoded)\n",
    "encoded_data = encoder.predict(X)\n",
    "\n",
    "\n",
    "# Testing performance of encoder\n",
    "reconstructed_sequences = autoencoder.predict(X)\n",
    "mse = np.mean(np.power(X - reconstructed_sequences, 2), axis=(1, 2))\n",
    "print(f'Mean Squared Error: {np.mean(mse)}')"
   ]
  },
  {
   "cell_type": "markdown",
   "id": "accb0ead",
   "metadata": {
    "_cell_guid": "68e5ad46-82a8-4bba-9d8e-f31963d5925f",
    "_uuid": "2c0f22bf-8a86-4b93-996b-2f07cc9cb33e",
    "id": "xv7Y7zMuWNzt",
    "papermill": {
     "duration": 0.285703,
     "end_time": "2024-08-04T17:14:17.540649",
     "exception": false,
     "start_time": "2024-08-04T17:14:17.254946",
     "status": "completed"
    },
    "tags": []
   },
   "source": [
    "# Forecasting Model"
   ]
  },
  {
   "cell_type": "code",
   "execution_count": 4,
   "id": "ffbdf3e8",
   "metadata": {
    "_cell_guid": "709881cf-0613-46e5-9a99-b023eff610bf",
    "_uuid": "4fb2cc9d-f8d7-4d51-a68d-cdcab6325525",
    "execution": {
     "iopub.execute_input": "2024-08-04T17:14:18.068914Z",
     "iopub.status.busy": "2024-08-04T17:14:18.068089Z",
     "iopub.status.idle": "2024-08-04T17:17:30.174110Z",
     "shell.execute_reply": "2024-08-04T17:17:30.173309Z"
    },
    "id": "wdM3jU1faj8v",
    "papermill": {
     "duration": 192.37358,
     "end_time": "2024-08-04T17:17:30.176283",
     "exception": false,
     "start_time": "2024-08-04T17:14:17.802703",
     "status": "completed"
    },
    "tags": []
   },
   "outputs": [
    {
     "name": "stdout",
     "output_type": "stream",
     "text": [
      "Epoch 1/100\n",
      "\u001b[1m297/297\u001b[0m \u001b[32m━━━━━━━━━━━━━━━━━━━━\u001b[0m\u001b[37m\u001b[0m \u001b[1m6s\u001b[0m 11ms/step - loss: 1.0878 - val_loss: 1.4590\n",
      "Epoch 2/100\n",
      "\u001b[1m297/297\u001b[0m \u001b[32m━━━━━━━━━━━━━━━━━━━━\u001b[0m\u001b[37m\u001b[0m \u001b[1m3s\u001b[0m 9ms/step - loss: 0.8207 - val_loss: 0.9837\n",
      "Epoch 3/100\n",
      "\u001b[1m297/297\u001b[0m \u001b[32m━━━━━━━━━━━━━━━━━━━━\u001b[0m\u001b[37m\u001b[0m \u001b[1m3s\u001b[0m 9ms/step - loss: 0.7166 - val_loss: 0.6618\n",
      "Epoch 4/100\n",
      "\u001b[1m297/297\u001b[0m \u001b[32m━━━━━━━━━━━━━━━━━━━━\u001b[0m\u001b[37m\u001b[0m \u001b[1m3s\u001b[0m 9ms/step - loss: 0.6422 - val_loss: 0.5633\n",
      "Epoch 5/100\n",
      "\u001b[1m297/297\u001b[0m \u001b[32m━━━━━━━━━━━━━━━━━━━━\u001b[0m\u001b[37m\u001b[0m \u001b[1m3s\u001b[0m 9ms/step - loss: 0.5831 - val_loss: 0.4965\n",
      "Epoch 6/100\n",
      "\u001b[1m297/297\u001b[0m \u001b[32m━━━━━━━━━━━━━━━━━━━━\u001b[0m\u001b[37m\u001b[0m \u001b[1m3s\u001b[0m 10ms/step - loss: 0.5308 - val_loss: 0.4496\n",
      "Epoch 7/100\n",
      "\u001b[1m297/297\u001b[0m \u001b[32m━━━━━━━━━━━━━━━━━━━━\u001b[0m\u001b[37m\u001b[0m \u001b[1m3s\u001b[0m 9ms/step - loss: 0.4794 - val_loss: 0.4162\n",
      "Epoch 8/100\n",
      "\u001b[1m297/297\u001b[0m \u001b[32m━━━━━━━━━━━━━━━━━━━━\u001b[0m\u001b[37m\u001b[0m \u001b[1m3s\u001b[0m 9ms/step - loss: 0.4368 - val_loss: 0.3771\n",
      "Epoch 9/100\n",
      "\u001b[1m297/297\u001b[0m \u001b[32m━━━━━━━━━━━━━━━━━━━━\u001b[0m\u001b[37m\u001b[0m \u001b[1m3s\u001b[0m 9ms/step - loss: 0.4007 - val_loss: 0.3385\n",
      "Epoch 10/100\n",
      "\u001b[1m297/297\u001b[0m \u001b[32m━━━━━━━━━━━━━━━━━━━━\u001b[0m\u001b[37m\u001b[0m \u001b[1m3s\u001b[0m 9ms/step - loss: 0.3685 - val_loss: 0.3110\n",
      "Epoch 11/100\n",
      "\u001b[1m297/297\u001b[0m \u001b[32m━━━━━━━━━━━━━━━━━━━━\u001b[0m\u001b[37m\u001b[0m \u001b[1m3s\u001b[0m 9ms/step - loss: 0.3326 - val_loss: 0.2763\n",
      "Epoch 12/100\n",
      "\u001b[1m297/297\u001b[0m \u001b[32m━━━━━━━━━━━━━━━━━━━━\u001b[0m\u001b[37m\u001b[0m \u001b[1m3s\u001b[0m 9ms/step - loss: 0.3077 - val_loss: 0.2585\n",
      "Epoch 13/100\n",
      "\u001b[1m297/297\u001b[0m \u001b[32m━━━━━━━━━━━━━━━━━━━━\u001b[0m\u001b[37m\u001b[0m \u001b[1m3s\u001b[0m 9ms/step - loss: 0.2811 - val_loss: 0.2369\n",
      "Epoch 14/100\n",
      "\u001b[1m297/297\u001b[0m \u001b[32m━━━━━━━━━━━━━━━━━━━━\u001b[0m\u001b[37m\u001b[0m \u001b[1m3s\u001b[0m 9ms/step - loss: 0.2742 - val_loss: 0.2232\n",
      "Epoch 15/100\n",
      "\u001b[1m297/297\u001b[0m \u001b[32m━━━━━━━━━━━━━━━━━━━━\u001b[0m\u001b[37m\u001b[0m \u001b[1m3s\u001b[0m 9ms/step - loss: 0.2434 - val_loss: 0.1999\n",
      "Epoch 16/100\n",
      "\u001b[1m297/297\u001b[0m \u001b[32m━━━━━━━━━━━━━━━━━━━━\u001b[0m\u001b[37m\u001b[0m \u001b[1m3s\u001b[0m 9ms/step - loss: 0.2314 - val_loss: 0.1829\n",
      "Epoch 17/100\n",
      "\u001b[1m297/297\u001b[0m \u001b[32m━━━━━━━━━━━━━━━━━━━━\u001b[0m\u001b[37m\u001b[0m \u001b[1m3s\u001b[0m 9ms/step - loss: 0.2106 - val_loss: 0.1845\n",
      "Epoch 18/100\n",
      "\u001b[1m297/297\u001b[0m \u001b[32m━━━━━━━━━━━━━━━━━━━━\u001b[0m\u001b[37m\u001b[0m \u001b[1m3s\u001b[0m 10ms/step - loss: 0.2025 - val_loss: 0.1575\n",
      "Epoch 19/100\n",
      "\u001b[1m297/297\u001b[0m \u001b[32m━━━━━━━━━━━━━━━━━━━━\u001b[0m\u001b[37m\u001b[0m \u001b[1m5s\u001b[0m 9ms/step - loss: 0.1897 - val_loss: 0.1522\n",
      "Epoch 20/100\n",
      "\u001b[1m297/297\u001b[0m \u001b[32m━━━━━━━━━━━━━━━━━━━━\u001b[0m\u001b[37m\u001b[0m \u001b[1m3s\u001b[0m 9ms/step - loss: 0.1866 - val_loss: 0.1368\n",
      "Epoch 21/100\n",
      "\u001b[1m297/297\u001b[0m \u001b[32m━━━━━━━━━━━━━━━━━━━━\u001b[0m\u001b[37m\u001b[0m \u001b[1m3s\u001b[0m 9ms/step - loss: 0.1779 - val_loss: 0.1299\n",
      "Epoch 22/100\n",
      "\u001b[1m297/297\u001b[0m \u001b[32m━━━━━━━━━━━━━━━━━━━━\u001b[0m\u001b[37m\u001b[0m \u001b[1m3s\u001b[0m 9ms/step - loss: 0.1741 - val_loss: 0.1264\n",
      "Epoch 23/100\n",
      "\u001b[1m297/297\u001b[0m \u001b[32m━━━━━━━━━━━━━━━━━━━━\u001b[0m\u001b[37m\u001b[0m \u001b[1m3s\u001b[0m 9ms/step - loss: 0.1551 - val_loss: 0.1443\n",
      "Epoch 24/100\n",
      "\u001b[1m297/297\u001b[0m \u001b[32m━━━━━━━━━━━━━━━━━━━━\u001b[0m\u001b[37m\u001b[0m \u001b[1m3s\u001b[0m 9ms/step - loss: 0.1581 - val_loss: 0.1195\n",
      "Epoch 25/100\n",
      "\u001b[1m297/297\u001b[0m \u001b[32m━━━━━━━━━━━━━━━━━━━━\u001b[0m\u001b[37m\u001b[0m \u001b[1m3s\u001b[0m 9ms/step - loss: 0.1534 - val_loss: 0.1082\n",
      "Epoch 26/100\n",
      "\u001b[1m297/297\u001b[0m \u001b[32m━━━━━━━━━━━━━━━━━━━━\u001b[0m\u001b[37m\u001b[0m \u001b[1m3s\u001b[0m 9ms/step - loss: 0.1393 - val_loss: 0.1005\n",
      "Epoch 27/100\n",
      "\u001b[1m297/297\u001b[0m \u001b[32m━━━━━━━━━━━━━━━━━━━━\u001b[0m\u001b[37m\u001b[0m \u001b[1m3s\u001b[0m 9ms/step - loss: 0.1381 - val_loss: 0.1088\n",
      "Epoch 28/100\n",
      "\u001b[1m297/297\u001b[0m \u001b[32m━━━━━━━━━━━━━━━━━━━━\u001b[0m\u001b[37m\u001b[0m \u001b[1m3s\u001b[0m 10ms/step - loss: 0.1332 - val_loss: 0.0958\n",
      "Epoch 29/100\n",
      "\u001b[1m297/297\u001b[0m \u001b[32m━━━━━━━━━━━━━━━━━━━━\u001b[0m\u001b[37m\u001b[0m \u001b[1m3s\u001b[0m 9ms/step - loss: 0.1321 - val_loss: 0.0952\n",
      "Epoch 30/100\n",
      "\u001b[1m297/297\u001b[0m \u001b[32m━━━━━━━━━━━━━━━━━━━━\u001b[0m\u001b[37m\u001b[0m \u001b[1m3s\u001b[0m 9ms/step - loss: 0.1264 - val_loss: 0.1198\n",
      "Epoch 31/100\n",
      "\u001b[1m297/297\u001b[0m \u001b[32m━━━━━━━━━━━━━━━━━━━━\u001b[0m\u001b[37m\u001b[0m \u001b[1m3s\u001b[0m 9ms/step - loss: 0.1302 - val_loss: 0.0863\n",
      "Epoch 32/100\n",
      "\u001b[1m297/297\u001b[0m \u001b[32m━━━━━━━━━━━━━━━━━━━━\u001b[0m\u001b[37m\u001b[0m \u001b[1m3s\u001b[0m 9ms/step - loss: 0.1255 - val_loss: 0.0866\n",
      "Epoch 33/100\n",
      "\u001b[1m297/297\u001b[0m \u001b[32m━━━━━━━━━━━━━━━━━━━━\u001b[0m\u001b[37m\u001b[0m \u001b[1m3s\u001b[0m 9ms/step - loss: 0.1235 - val_loss: 0.0840\n",
      "Epoch 34/100\n",
      "\u001b[1m297/297\u001b[0m \u001b[32m━━━━━━━━━━━━━━━━━━━━\u001b[0m\u001b[37m\u001b[0m \u001b[1m3s\u001b[0m 9ms/step - loss: 0.1232 - val_loss: 0.0881\n",
      "Epoch 35/100\n",
      "\u001b[1m297/297\u001b[0m \u001b[32m━━━━━━━━━━━━━━━━━━━━\u001b[0m\u001b[37m\u001b[0m \u001b[1m3s\u001b[0m 9ms/step - loss: 0.1146 - val_loss: 0.0775\n",
      "Epoch 36/100\n",
      "\u001b[1m297/297\u001b[0m \u001b[32m━━━━━━━━━━━━━━━━━━━━\u001b[0m\u001b[37m\u001b[0m \u001b[1m3s\u001b[0m 9ms/step - loss: 0.1218 - val_loss: 0.0759\n",
      "Epoch 37/100\n",
      "\u001b[1m297/297\u001b[0m \u001b[32m━━━━━━━━━━━━━━━━━━━━\u001b[0m\u001b[37m\u001b[0m \u001b[1m3s\u001b[0m 9ms/step - loss: 0.1165 - val_loss: 0.0778\n",
      "Epoch 38/100\n",
      "\u001b[1m297/297\u001b[0m \u001b[32m━━━━━━━━━━━━━━━━━━━━\u001b[0m\u001b[37m\u001b[0m \u001b[1m3s\u001b[0m 9ms/step - loss: 0.1148 - val_loss: 0.0758\n",
      "Epoch 39/100\n",
      "\u001b[1m297/297\u001b[0m \u001b[32m━━━━━━━━━━━━━━━━━━━━\u001b[0m\u001b[37m\u001b[0m \u001b[1m3s\u001b[0m 9ms/step - loss: 0.1100 - val_loss: 0.0736\n",
      "Epoch 40/100\n",
      "\u001b[1m297/297\u001b[0m \u001b[32m━━━━━━━━━━━━━━━━━━━━\u001b[0m\u001b[37m\u001b[0m \u001b[1m3s\u001b[0m 10ms/step - loss: 0.1058 - val_loss: 0.0781\n",
      "Epoch 41/100\n",
      "\u001b[1m297/297\u001b[0m \u001b[32m━━━━━━━━━━━━━━━━━━━━\u001b[0m\u001b[37m\u001b[0m \u001b[1m3s\u001b[0m 9ms/step - loss: 0.1153 - val_loss: 0.0761\n",
      "Epoch 42/100\n",
      "\u001b[1m297/297\u001b[0m \u001b[32m━━━━━━━━━━━━━━━━━━━━\u001b[0m\u001b[37m\u001b[0m \u001b[1m3s\u001b[0m 9ms/step - loss: 0.1125 - val_loss: 0.1303\n",
      "Epoch 43/100\n",
      "\u001b[1m297/297\u001b[0m \u001b[32m━━━━━━━━━━━━━━━━━━━━\u001b[0m\u001b[37m\u001b[0m \u001b[1m3s\u001b[0m 9ms/step - loss: 0.1155 - val_loss: 0.0868\n",
      "Epoch 44/100\n",
      "\u001b[1m297/297\u001b[0m \u001b[32m━━━━━━━━━━━━━━━━━━━━\u001b[0m\u001b[37m\u001b[0m \u001b[1m3s\u001b[0m 9ms/step - loss: 0.1097 - val_loss: 0.0703\n",
      "Epoch 45/100\n",
      "\u001b[1m297/297\u001b[0m \u001b[32m━━━━━━━━━━━━━━━━━━━━\u001b[0m\u001b[37m\u001b[0m \u001b[1m3s\u001b[0m 9ms/step - loss: 0.1106 - val_loss: 0.0925\n",
      "Epoch 46/100\n",
      "\u001b[1m297/297\u001b[0m \u001b[32m━━━━━━━━━━━━━━━━━━━━\u001b[0m\u001b[37m\u001b[0m \u001b[1m3s\u001b[0m 9ms/step - loss: 0.1132 - val_loss: 0.1012\n",
      "Epoch 47/100\n",
      "\u001b[1m297/297\u001b[0m \u001b[32m━━━━━━━━━━━━━━━━━━━━\u001b[0m\u001b[37m\u001b[0m \u001b[1m3s\u001b[0m 9ms/step - loss: 0.1054 - val_loss: 0.0824\n",
      "Epoch 48/100\n",
      "\u001b[1m297/297\u001b[0m \u001b[32m━━━━━━━━━━━━━━━━━━━━\u001b[0m\u001b[37m\u001b[0m \u001b[1m3s\u001b[0m 9ms/step - loss: 0.1060 - val_loss: 0.1064\n",
      "Epoch 49/100\n",
      "\u001b[1m297/297\u001b[0m \u001b[32m━━━━━━━━━━━━━━━━━━━━\u001b[0m\u001b[37m\u001b[0m \u001b[1m3s\u001b[0m 9ms/step - loss: 0.1066 - val_loss: 0.0825\n",
      "Epoch 50/100\n",
      "\u001b[1m297/297\u001b[0m \u001b[32m━━━━━━━━━━━━━━━━━━━━\u001b[0m\u001b[37m\u001b[0m \u001b[1m3s\u001b[0m 9ms/step - loss: 0.1040 - val_loss: 0.0696\n",
      "Epoch 51/100\n",
      "\u001b[1m297/297\u001b[0m \u001b[32m━━━━━━━━━━━━━━━━━━━━\u001b[0m\u001b[37m\u001b[0m \u001b[1m3s\u001b[0m 10ms/step - loss: 0.1039 - val_loss: 0.0672\n",
      "Epoch 52/100\n",
      "\u001b[1m297/297\u001b[0m \u001b[32m━━━━━━━━━━━━━━━━━━━━\u001b[0m\u001b[37m\u001b[0m \u001b[1m3s\u001b[0m 9ms/step - loss: 0.1048 - val_loss: 0.0683\n",
      "Epoch 53/100\n",
      "\u001b[1m297/297\u001b[0m \u001b[32m━━━━━━━━━━━━━━━━━━━━\u001b[0m\u001b[37m\u001b[0m \u001b[1m3s\u001b[0m 9ms/step - loss: 0.1094 - val_loss: 0.0707\n",
      "Epoch 54/100\n",
      "\u001b[1m297/297\u001b[0m \u001b[32m━━━━━━━━━━━━━━━━━━━━\u001b[0m\u001b[37m\u001b[0m \u001b[1m5s\u001b[0m 9ms/step - loss: 0.1102 - val_loss: 0.0687\n",
      "Epoch 55/100\n",
      "\u001b[1m297/297\u001b[0m \u001b[32m━━━━━━━━━━━━━━━━━━━━\u001b[0m\u001b[37m\u001b[0m \u001b[1m3s\u001b[0m 9ms/step - loss: 0.1034 - val_loss: 0.0733\n",
      "Epoch 56/100\n",
      "\u001b[1m297/297\u001b[0m \u001b[32m━━━━━━━━━━━━━━━━━━━━\u001b[0m\u001b[37m\u001b[0m \u001b[1m3s\u001b[0m 9ms/step - loss: 0.1084 - val_loss: 0.0953\n",
      "Epoch 57/100\n",
      "\u001b[1m297/297\u001b[0m \u001b[32m━━━━━━━━━━━━━━━━━━━━\u001b[0m\u001b[37m\u001b[0m \u001b[1m3s\u001b[0m 9ms/step - loss: 0.1025 - val_loss: 0.0655\n",
      "Epoch 58/100\n",
      "\u001b[1m297/297\u001b[0m \u001b[32m━━━━━━━━━━━━━━━━━━━━\u001b[0m\u001b[37m\u001b[0m \u001b[1m3s\u001b[0m 9ms/step - loss: 0.1033 - val_loss: 0.0778\n",
      "Epoch 59/100\n",
      "\u001b[1m297/297\u001b[0m \u001b[32m━━━━━━━━━━━━━━━━━━━━\u001b[0m\u001b[37m\u001b[0m \u001b[1m3s\u001b[0m 9ms/step - loss: 0.0977 - val_loss: 0.0652\n",
      "Epoch 60/100\n",
      "\u001b[1m297/297\u001b[0m \u001b[32m━━━━━━━━━━━━━━━━━━━━\u001b[0m\u001b[37m\u001b[0m \u001b[1m3s\u001b[0m 9ms/step - loss: 0.1043 - val_loss: 0.0771\n",
      "Epoch 61/100\n",
      "\u001b[1m297/297\u001b[0m \u001b[32m━━━━━━━━━━━━━━━━━━━━\u001b[0m\u001b[37m\u001b[0m \u001b[1m3s\u001b[0m 9ms/step - loss: 0.1071 - val_loss: 0.0675\n",
      "Epoch 62/100\n",
      "\u001b[1m297/297\u001b[0m \u001b[32m━━━━━━━━━━━━━━━━━━━━\u001b[0m\u001b[37m\u001b[0m \u001b[1m3s\u001b[0m 9ms/step - loss: 0.1059 - val_loss: 0.0749\n",
      "Epoch 63/100\n",
      "\u001b[1m297/297\u001b[0m \u001b[32m━━━━━━━━━━━━━━━━━━━━\u001b[0m\u001b[37m\u001b[0m \u001b[1m3s\u001b[0m 9ms/step - loss: 0.1067 - val_loss: 0.0825\n",
      "Epoch 64/100\n",
      "\u001b[1m297/297\u001b[0m \u001b[32m━━━━━━━━━━━━━━━━━━━━\u001b[0m\u001b[37m\u001b[0m \u001b[1m3s\u001b[0m 9ms/step - loss: 0.1055 - val_loss: 0.0748\n",
      "Epoch 65/100\n",
      "\u001b[1m297/297\u001b[0m \u001b[32m━━━━━━━━━━━━━━━━━━━━\u001b[0m\u001b[37m\u001b[0m \u001b[1m3s\u001b[0m 9ms/step - loss: 0.1016 - val_loss: 0.0669\n",
      "Epoch 66/100\n",
      "\u001b[1m297/297\u001b[0m \u001b[32m━━━━━━━━━━━━━━━━━━━━\u001b[0m\u001b[37m\u001b[0m \u001b[1m3s\u001b[0m 9ms/step - loss: 0.1073 - val_loss: 0.0725\n",
      "Epoch 67/100\n",
      "\u001b[1m297/297\u001b[0m \u001b[32m━━━━━━━━━━━━━━━━━━━━\u001b[0m\u001b[37m\u001b[0m \u001b[1m3s\u001b[0m 9ms/step - loss: 0.1025 - val_loss: 0.0761\n"
     ]
    }
   ],
   "source": [
    "split = int(len(encoded_data) * 0.8)\n",
    "encoded_X_train, encoded_X_test = encoded_data[:split], encoded_data[split:]\n",
    "\n",
    "lstm_units = 12\n",
    "dropout_rate = 0.1\n",
    "dense_units = 128\n",
    "learning_rate = 0.001\n",
    "weight_decay = 0.01\n",
    "regularizer = 0.00001\n",
    "num_layers = 2\n",
    "activation ='tanh'\n",
    "\n",
    "input_seq = Input(shape=(SEQ_LENGTH, encoded_X_train.shape[2]))\n",
    "for _ in range(num_layers):\n",
    "    x = Bidirectional(LSTM(lstm_units, return_sequences=True, kernel_regularizer=l2(weight_decay), recurrent_regularizer=l2(regularizer)))(input_seq)\n",
    "    x = Dropout(dropout_rate)(x)\n",
    " #   x = BatchNormalization()(x)\n",
    "\n",
    "x = Bidirectional(LSTM(lstm_units, return_sequences=False, kernel_regularizer=l2(weight_decay), recurrent_regularizer=l2(regularizer)))(x)\n",
    "x = Dropout(dropout_rate)(x)\n",
    "x = BatchNormalization()(x) \n",
    "x = Dropout(dropout_rate)(x)\n",
    "#x = Dense(dense_units, activation=activation)(x)\n",
    "output = Dense(1)(x)\n",
    "\n",
    "model = Model(inputs=input_seq, outputs=output)\n",
    "model.compile(optimizer=SGD(learning_rate=learning_rate, momentum = 0.9), loss=MAE)\n",
    "\n",
    "\n",
    "early_stopping = EarlyStopping(monitor='val_loss', patience=8, restore_best_weights=True)\n",
    "history = model.fit(encoded_X_train, y_train, epochs=100, validation_split = 0.2, batch_size=128, callbacks = [early_stopping])\n",
    "#model.save('Predict_24hr.h5')"
   ]
  },
  {
   "cell_type": "markdown",
   "id": "68947229",
   "metadata": {
    "_cell_guid": "8052459c-c662-4b46-a496-f425041b08c0",
    "_uuid": "0526d7ff-34d6-4d97-8951-03e5bdc07a0e",
    "papermill": {
     "duration": 0.507601,
     "end_time": "2024-08-04T17:17:31.194058",
     "exception": false,
     "start_time": "2024-08-04T17:17:30.686457",
     "status": "completed"
    },
    "tags": []
   },
   "source": [
    "# Evaluation of Predictions"
   ]
  },
  {
   "cell_type": "code",
   "execution_count": 5,
   "id": "8b9f719a",
   "metadata": {
    "_cell_guid": "1ab81bf6-c027-4fa7-ab13-b2d1eb69ccd4",
    "_uuid": "83d9413f-be5a-40aa-90a8-c9920c87e1b7",
    "execution": {
     "iopub.execute_input": "2024-08-04T17:17:32.255722Z",
     "iopub.status.busy": "2024-08-04T17:17:32.255353Z",
     "iopub.status.idle": "2024-08-04T17:17:34.813494Z",
     "shell.execute_reply": "2024-08-04T17:17:34.812398Z"
    },
    "papermill": {
     "duration": 3.070043,
     "end_time": "2024-08-04T17:17:34.815871",
     "exception": false,
     "start_time": "2024-08-04T17:17:31.745828",
     "status": "completed"
    },
    "tags": []
   },
   "outputs": [
    {
     "name": "stdout",
     "output_type": "stream",
     "text": [
      "\u001b[1m371/371\u001b[0m \u001b[32m━━━━━━━━━━━━━━━━━━━━\u001b[0m\u001b[37m\u001b[0m \u001b[1m2s\u001b[0m 4ms/step\n"
     ]
    },
    {
     "data": {
      "image/png": "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",
      "text/plain": [
       "<Figure size 640x480 with 1 Axes>"
      ]
     },
     "metadata": {},
     "output_type": "display_data"
    },
    {
     "name": "stdout",
     "output_type": "stream",
     "text": [
      "Test MSE: 6269.28935924987\n",
      "Test MAE: 49.02226046858873\n",
      "Test MAPE: 2.08684390745594\n"
     ]
    }
   ],
   "source": [
    "#model = load_model(\"/kaggle/working/Predict_24hr.h5\")\n",
    "\n",
    "test_predictions = model.predict(encoded_X_test)\n",
    "\n",
    "# This code is here to reset the datasets when running code multple times in one session\n",
    "X, y = create_sequences(scaled_data, SEQ_LENGTH)\n",
    "split = int(0.8 * len(X))\n",
    "X_train, X_test = X[:split], X[split:]\n",
    "y_train, y_test = y[:split], y[split:]\n",
    "\n",
    "# Inverse Scale Values\n",
    "y_test_partial_reshaped = y_test.reshape(-1, 1)\n",
    "y_test_reshaped = np.repeat(y_test_partial_reshaped, X_train.shape[2], axis=1)\n",
    "preds_reshaped = np.repeat(test_predictions, X_train.shape[2], axis=1)\n",
    "y_pred = scaler.inverse_transform(preds_reshaped)[:,column_index]\n",
    "y_test = scaler.inverse_transform(y_test_reshaped)[:,column_index]\n",
    "\n",
    "\n",
    "# Plot Preds vs Targets\n",
    "plt.plot(y_test, label='Test Actual', color='orange')\n",
    "plt.plot(y_pred, label='Test Predicted', color='red')\n",
    "plt.xlabel('Time')\n",
    "plt.ylabel('Value')\n",
    "plt.title('Actual vs Predicted Values')\n",
    "plt.legend()\n",
    "plt.show()\n",
    "\n",
    "\n",
    "# Metrics\n",
    "def MAPE(y_true, y_pred):\n",
    "    return np.mean(np.abs((y_true - y_pred) / y_true)) * 100\n",
    "test_mse = mean_squared_error(y_test, y_pred)\n",
    "test_mae = mean_absolute_error(y_test, y_pred)\n",
    "test_mape = MAPE(y_test, y_pred)\n",
    "print(f\"Test MSE: {test_mse}\")\n",
    "print(f\"Test MAE: {test_mae}\")\n",
    "print(f\"Test MAPE: {test_mape}\")"
   ]
  },
  {
   "cell_type": "markdown",
   "id": "3a6ca1e1",
   "metadata": {
    "papermill": {
     "duration": 0.553951,
     "end_time": "2024-08-04T17:17:35.893855",
     "exception": false,
     "start_time": "2024-08-04T17:17:35.339904",
     "status": "completed"
    },
    "tags": []
   },
   "source": [
    "**Comparing predicted price change to actual price change in 24 hours**"
   ]
  },
  {
   "cell_type": "code",
   "execution_count": 6,
   "id": "d93a4034",
   "metadata": {
    "_cell_guid": "fe76383b-31d1-4bda-97dc-61e4ff887825",
    "_uuid": "09220e81-7016-492e-b59a-e23e696a4bdd",
    "execution": {
     "iopub.execute_input": "2024-08-04T17:17:36.912363Z",
     "iopub.status.busy": "2024-08-04T17:17:36.912020Z",
     "iopub.status.idle": "2024-08-04T17:17:37.580118Z",
     "shell.execute_reply": "2024-08-04T17:17:37.579260Z"
    },
    "papermill": {
     "duration": 1.17984,
     "end_time": "2024-08-04T17:17:37.582350",
     "exception": false,
     "start_time": "2024-08-04T17:17:36.402510",
     "status": "completed"
    },
    "tags": []
   },
   "outputs": [
    {
     "data": {
      "image/png": "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",
      "text/plain": [
       "<Figure size 800x400 with 2 Axes>"
      ]
     },
     "metadata": {},
     "output_type": "display_data"
    }
   ],
   "source": [
    "hours = 72\n",
    "\n",
    "predicted_change = (y_pred[hours:] / y_test[:-hours]) - 1\n",
    "actual_change = (y_test[hours:] / y_test[:-hours]) - 1\n",
    "\n",
    "fig, ax = plt.subplots(1, 2, figsize=(8,4)) \n",
    "ax[0].hist(predicted_change, bins=50)\n",
    "ax[0].set_title(f\"Predicted Price Change in {hours} hours (%)\")\n",
    "ax[0].set_xlabel(\"% change\")\n",
    "\n",
    "ax[1].hist(actual_change, bins=50)\n",
    "ax[1].set_title(f\"Actual Price Change in {hours} hours (%)\")\n",
    "ax[1].set_xlabel(\"% change\")\n",
    "\n",
    "plt.tight_layout()\n",
    "plt.show()"
   ]
  },
  {
   "cell_type": "markdown",
   "id": "cae06122",
   "metadata": {
    "papermill": {
     "duration": 0.509208,
     "end_time": "2024-08-04T17:17:38.601526",
     "exception": false,
     "start_time": "2024-08-04T17:17:38.092318",
     "status": "completed"
    },
    "tags": []
   },
   "source": [
    "**Identifying Performance in prediciting price direction**"
   ]
  },
  {
   "cell_type": "code",
   "execution_count": 7,
   "id": "06dd8086",
   "metadata": {
    "_cell_guid": "89abcd73-2888-4d50-803f-d5c7ec7291a7",
    "_uuid": "798a0429-0fd6-4792-bec6-68bf57828e26",
    "execution": {
     "iopub.execute_input": "2024-08-04T17:17:39.662639Z",
     "iopub.status.busy": "2024-08-04T17:17:39.662275Z",
     "iopub.status.idle": "2024-08-04T17:17:39.932384Z",
     "shell.execute_reply": "2024-08-04T17:17:39.931472Z"
    },
    "papermill": {
     "duration": 0.826198,
     "end_time": "2024-08-04T17:17:39.934257",
     "exception": false,
     "start_time": "2024-08-04T17:17:39.108059",
     "status": "completed"
    },
    "tags": []
   },
   "outputs": [
    {
     "data": {
      "image/png": "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",
      "text/plain": [
       "<Figure size 640x480 with 2 Axes>"
      ]
     },
     "metadata": {},
     "output_type": "display_data"
    }
   ],
   "source": [
    "# Transforming Preds and Targets to % difference\n",
    "predicted_direction = []\n",
    "actual_direction = []\n",
    "\n",
    "# Transforming preds and targets to 1 if upwards move and 0 if downwards move\n",
    "for i in range(0,len(y_test)-predict_value,predict_value):\n",
    "    if y_test[i+predict_value] >= y_test[i]:\n",
    "        predicted_direction.append(1)\n",
    "    else:\n",
    "        predicted_direction.append(0)\n",
    "        \n",
    "for i in range(0,len(y_pred)-predict_value,predict_value):\n",
    "    if y_pred[i+predict_value] >= y_test[i]:\n",
    "        actual_direction.append(1)\n",
    "    else:\n",
    "        actual_direction.append(0)\n",
    "\n",
    "# Plotting Confusion Matrix\n",
    "matrix = metrics.confusion_matrix(actual_direction, predicted_direction)\n",
    "cm_display = metrics.ConfusionMatrixDisplay(matrix, display_labels = [\"down\", \"up\"])\n",
    "cm_display.plot()\n",
    "plt.title(\"Prediction of Upward and Downward Price Movements\")\n",
    "plt.show()"
   ]
  },
  {
   "cell_type": "markdown",
   "id": "ece71f4c",
   "metadata": {
    "papermill": {
     "duration": 0.512403,
     "end_time": "2024-08-04T17:17:40.956964",
     "exception": false,
     "start_time": "2024-08-04T17:17:40.444561",
     "status": "completed"
    },
    "tags": []
   },
   "source": [
    "**VaR of Returns (Historical Estimation)**"
   ]
  },
  {
   "cell_type": "code",
   "execution_count": 8,
   "id": "f03b5db7",
   "metadata": {
    "_cell_guid": "f710cb2c-6027-4d7c-bc26-bed3a0815bda",
    "_uuid": "8db677b0-83db-4618-847a-c14725240d1b",
    "execution": {
     "iopub.execute_input": "2024-08-04T17:17:42.021436Z",
     "iopub.status.busy": "2024-08-04T17:17:42.020762Z",
     "iopub.status.idle": "2024-08-04T17:17:42.033037Z",
     "shell.execute_reply": "2024-08-04T17:17:42.032034Z"
    },
    "papermill": {
     "duration": 0.527182,
     "end_time": "2024-08-04T17:17:42.034979",
     "exception": false,
     "start_time": "2024-08-04T17:17:41.507797",
     "status": "completed"
    },
    "tags": []
   },
   "outputs": [
    {
     "name": "stdout",
     "output_type": "stream",
     "text": [
      "97.5% confident price will not fall more than 5.34% in 24 hours\n",
      "97.5% confident price will not fall more than 7.17% in 48 hours\n",
      "97.5% confident price will not fall more than 8.41% in 72 hours\n",
      "97.5% confident price will not fall more than 9.57% in 96 hours\n",
      " \n",
      "95.0% confident price will not fall more than 4.04% in 24 hours\n",
      "95.0% confident price will not fall more than 5.33% in 48 hours\n",
      "95.0% confident price will not fall more than 6.38% in 72 hours\n",
      "95.0% confident price will not fall more than 7.47% in 96 hours\n"
     ]
    }
   ],
   "source": [
    "confidence_level = 0.975\n",
    "for x in range(24,97,24):\n",
    "    pct_change = y_test[x:] / y_test[:-x]\n",
    "    var_hist = 1 - np.percentile(pct_change, (1 - confidence_level) * 100)   \n",
    "    print(f\"{confidence_level * 100}% confident price will not fall more than {var_hist:.2%} in {x} hours\")\n",
    "print(\" \")\n",
    "confidence_level = 0.95\n",
    "for x in range(24,97,24):\n",
    "    pct_change = y_test[x:] / y_test[:-x]\n",
    "    var_hist = 1 - np.percentile(pct_change, (1 - confidence_level) * 100)   \n",
    "    print(f\"{confidence_level * 100}% confident price will not fall more than {var_hist:.2%} in {x} hours\")"
   ]
  },
  {
   "cell_type": "markdown",
   "id": "ed15a347",
   "metadata": {
    "_cell_guid": "d93c23a3-7bf8-47d4-8800-5a5054ba2347",
    "_uuid": "a53f0c14-fa06-4ff1-a5fc-e0868ee5a60e",
    "papermill": {
     "duration": 0.507718,
     "end_time": "2024-08-04T17:17:43.052559",
     "exception": false,
     "start_time": "2024-08-04T17:17:42.544841",
     "status": "completed"
    },
    "tags": []
   },
   "source": [
    "# Trading Simulation"
   ]
  },
  {
   "cell_type": "code",
   "execution_count": 9,
   "id": "d1449a89",
   "metadata": {
    "execution": {
     "iopub.execute_input": "2024-08-04T17:17:44.075638Z",
     "iopub.status.busy": "2024-08-04T17:17:44.074787Z",
     "iopub.status.idle": "2024-08-04T17:17:44.667717Z",
     "shell.execute_reply": "2024-08-04T17:17:44.666691Z"
    },
    "papermill": {
     "duration": 1.105176,
     "end_time": "2024-08-04T17:17:44.669799",
     "exception": false,
     "start_time": "2024-08-04T17:17:43.564623",
     "status": "completed"
    },
    "tags": []
   },
   "outputs": [
    {
     "name": "stdout",
     "output_type": "stream",
     "text": [
      "Strategy Profit: 33.95%\n",
      "Buy and Hold Profit: 129.49%\n"
     ]
    },
    {
     "data": {
      "image/png": "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",
      "text/plain": [
       "<Figure size 900x300 with 1 Axes>"
      ]
     },
     "metadata": {},
     "output_type": "display_data"
    },
    {
     "name": "stdout",
     "output_type": "stream",
     "text": [
      "HOLD           11826\n",
      "BUY                9\n",
      "TIME SELL          7\n",
      "PROFIT SELL        2\n",
      "Name: count, dtype: int64\n"
     ]
    }
   ],
   "source": [
    "prices = y_test[:-24]\n",
    "preds = y_pred[24:]\n",
    "actual = y_test[24:]\n",
    "\n",
    "initial_balance = 10000\n",
    "slippage = 0.0015  # binance trading fee (0.1%) + margin loss (0.05%)\n",
    "balance = initial_balance\n",
    "holdings = 0\n",
    "buy_price = 0\n",
    "profits = []\n",
    "portfolio_value = []\n",
    "actions = []\n",
    "\n",
    "\n",
    "\n",
    "position_size = 1\n",
    "take_profit = 1.1\n",
    "max_hold_time = 48\n",
    "signal_strength = 1.06\n",
    "\n",
    "for i in range(len(prices)):\n",
    "\n",
    "    current_price = prices[i]\n",
    "    predicted_price = preds[i]\n",
    "    signal = predicted_price / current_price\n",
    "    action = \"HOLD\"\n",
    "    \n",
    "    if signal > signal_strength and balance > 0:\n",
    "        amount_to_invest = balance*position_size\n",
    "        shares_to_buy = amount_to_invest / current_price\n",
    "        transaction_cost = shares_to_buy * current_price * slippage\n",
    "        actual_shares_bought = (amount_to_invest - transaction_cost) / current_price\n",
    "        holdings += actual_shares_bought\n",
    "        balance -= amount_to_invest\n",
    "        buy_price = current_price\n",
    "        action = 'BUY'   \n",
    "\n",
    "    elif current_price > buy_price*take_profit and holdings > 0:\n",
    "            transaction_cost = holdings * current_price * slippage\n",
    "            balance += (holdings * current_price) - transaction_cost\n",
    "            profits.append(holdings * (current_price - buy_price) - transaction_cost)\n",
    "            holdings = 0\n",
    "            action = \"PROFIT SELL\"\n",
    "        \n",
    "        \n",
    "    if i % max_hold_time == 0 :\n",
    "        if holdings > 0:\n",
    "            transaction_cost = holdings * current_price * slippage\n",
    "            balance += (holdings * current_price) - transaction_cost\n",
    "            profits.append(holdings * (current_price - buy_price) - transaction_cost)\n",
    "            holdings = 0\n",
    "            action = \"TIME SELL\"\n",
    "    \n",
    "\n",
    "    actions.append(action)  \n",
    "    portfolio_value.append(balance + (holdings * current_price))\n",
    "\n",
    "portfolio_value = np.array(portfolio_value)\n",
    "portfolio = (portfolio_value * 100 / portfolio_value[0]) - 100\n",
    "strategy_profit = ((portfolio_value[-1] / initial_balance) * 100) - 100\n",
    "\n",
    "buy_and_hold = (prices * (100 - slippage) / prices[0]) - 100\n",
    "buy_and_hold_profit = ((prices[-1] / prices[0]) * 100-slippage) - 100 \n",
    "\n",
    "\n",
    "print(f\"Strategy Profit: {strategy_profit:.2f}%\")\n",
    "print(f\"Buy and Hold Profit: {buy_and_hold_profit:.2f}%\")\n",
    "\n",
    "index = test.index[predict_value+10:]\n",
    "plt.figure(figsize=(9, 3))\n",
    "plt.plot(index, portfolio, label=\"Strategy\")\n",
    "plt.plot(index, buy_and_hold, label=\"Buy And Hold\") \n",
    "plt.xlabel('Time')\n",
    "plt.ylabel('Profit (%)')\n",
    "plt.title('Strategy vs Buy and Hold')\n",
    "plt.legend()\n",
    "plt.show()\n",
    "\n",
    "print(pd.Series(actions).value_counts())"
   ]
  },
  {
   "cell_type": "markdown",
   "id": "8063782b",
   "metadata": {
    "_cell_guid": "4850a2b2-ed2f-4229-8f51-9b0dc159baf9",
    "_uuid": "4ca85fed-d7e2-4d94-a972-053502571e0c",
    "papermill": {
     "duration": 0.528249,
     "end_time": "2024-08-04T17:17:45.815367",
     "exception": false,
     "start_time": "2024-08-04T17:17:45.287118",
     "status": "completed"
    },
    "tags": []
   },
   "source": [
    "# Strategy Evaluation"
   ]
  },
  {
   "cell_type": "code",
   "execution_count": 10,
   "id": "78546e20",
   "metadata": {
    "_cell_guid": "0648ea13-7a07-435c-bd18-f46b19fe8652",
    "_uuid": "925dcf3d-d1a8-4017-8dba-fd13f13c7c27",
    "execution": {
     "iopub.execute_input": "2024-08-04T17:17:46.880026Z",
     "iopub.status.busy": "2024-08-04T17:17:46.879637Z",
     "iopub.status.idle": "2024-08-04T17:18:00.427099Z",
     "shell.execute_reply": "2024-08-04T17:18:00.425962Z"
    },
    "papermill": {
     "duration": 14.10446,
     "end_time": "2024-08-04T17:18:00.429127",
     "exception": false,
     "start_time": "2024-08-04T17:17:46.324667",
     "status": "completed"
    },
    "tags": []
   },
   "outputs": [
    {
     "name": "stderr",
     "output_type": "stream",
     "text": [
      "/opt/conda/lib/python3.10/pty.py:89: RuntimeWarning: os.fork() was called. os.fork() is incompatible with multithreaded code, and JAX is multithreaded, so this will likely lead to a deadlock.\n",
      "  pid, fd = os.forkpty()\n"
     ]
    },
    {
     "name": "stdout",
     "output_type": "stream",
     "text": [
      "Risk Free Rate: 0.05081764705882353\n"
     ]
    }
   ],
   "source": [
    "!pip install -q pandas pandas_datareader\n",
    "import pandas_datareader.data as web\n",
    "from datetime import datetime\n",
    "\n",
    "df = web.DataReader('GS1', 'fred', datetime(2023, 1, 23),datetime(2024,6,2))\n",
    "rf_annual = np.mean(df)/100\n",
    "print(f\"Risk Free Rate: {rf_annual}\")"
   ]
  },
  {
   "cell_type": "code",
   "execution_count": 11,
   "id": "4c986f8b",
   "metadata": {
    "_cell_guid": "c8a673af-dc78-4897-b77f-df21186ed49a",
    "_uuid": "b9a82ff6-0d76-4ba6-9180-679a223673c4",
    "execution": {
     "iopub.execute_input": "2024-08-04T17:18:01.480109Z",
     "iopub.status.busy": "2024-08-04T17:18:01.479315Z",
     "iopub.status.idle": "2024-08-04T17:18:01.496086Z",
     "shell.execute_reply": "2024-08-04T17:18:01.494665Z"
    },
    "papermill": {
     "duration": 0.531187,
     "end_time": "2024-08-04T17:18:01.498029",
     "exception": false,
     "start_time": "2024-08-04T17:18:00.966842",
     "status": "completed"
    },
    "tags": []
   },
   "outputs": [
    {
     "name": "stdout",
     "output_type": "stream",
     "text": [
      "Trading Strategy Metrics:\n",
      "Annual Return: 21.62%\n",
      "Volatility: 0.12\n",
      "Maximum Drawdown: 6.70%\n",
      "Sharpe Ratio: 1.36\n",
      "\n",
      "Buy and Hold Metrics:\n",
      "Annual Return: 61.54%\n",
      "Volatility: 0.52\n",
      "Maximum Drawdown: 29.63%\n",
      "Sharpe Ratio: 1.08\n"
     ]
    }
   ],
   "source": [
    "\n",
    "PL_returns = np.diff(np.log(np.array(portfolio_value)))\n",
    "\n",
    "market_returns = np.diff(np.log(np.array(y_test)))\n",
    "\n",
    "def calc_max_drawdown(values):\n",
    "    balances_series = pd.Series(values)\n",
    "    running_max = balances_series.cummax()\n",
    "    drawdown = (balances_series - running_max) / running_max\n",
    "    max_drawdown = drawdown.min()\n",
    "    return -max_drawdown*100\n",
    "\n",
    "def calculate_metrics(values, rf):\n",
    "    annual_return = np.mean(values)*365*24\n",
    "    volatility = np.std(values)*np.sqrt(365*24)\n",
    "    max_drawdown = np.max(np.maximum.accumulate(values) - values) / np.max(np.maximum.accumulate(values))\n",
    "    sharpe_ratio = (annual_return - rf) / volatility\n",
    "    return volatility, max_drawdown, sharpe_ratio, annual_return\n",
    "\n",
    "trading_metrics = calculate_metrics(PL_returns,rf_annual)\n",
    "buy_and_hold_metrics = calculate_metrics(market_returns,rf_annual)\n",
    "trading_drawdown = calc_max_drawdown(portfolio_value)\n",
    "buy_and_hold_drawdown = calc_max_drawdown(prices)\n",
    "\n",
    "# Print metrics\n",
    "print(\"Trading Strategy Metrics:\")\n",
    "print(f\"Annual Return: {trading_metrics[3]*100:.2f}%\")\n",
    "print(f\"Volatility: {trading_metrics[0]:.2f}\")\n",
    "print(f\"Maximum Drawdown: {trading_drawdown:.2f}%\")\n",
    "print(f\"Sharpe Ratio: {trading_metrics[2]:.2f}\")\n",
    "\n",
    "print(\"\\nBuy and Hold Metrics:\")\n",
    "print(f\"Annual Return: {buy_and_hold_metrics[3]*100:.2f}%\")\n",
    "print(f\"Volatility: {buy_and_hold_metrics[0]:.2f}\")\n",
    "print(f\"Maximum Drawdown: {buy_and_hold_drawdown:.2f}%\")\n",
    "print(f\"Sharpe Ratio: {buy_and_hold_metrics[2]:.2f}\")"
   ]
  },
{
   "cell_type": "markdown",
   "id": "6c5a1064",
   "metadata": {
    "papermill": {
     "duration": 0.509961,
     "end_time": "2024-08-04T17:18:02.519828",
     "exception": false,
     "start_time": "2024-08-04T17:18:02.009867",
     "status": "completed"
    },
    "tags": []
   },
   "source": [
    "# Modelling Prices in various market dynamics"
   ]
}
