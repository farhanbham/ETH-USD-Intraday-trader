{
 "cells": [
  {
   "cell_type": "markdown",
   "id": "08605c53",
   "metadata": {
    "_cell_guid": "d11f685f-11a1-463a-b682-2aa058d74896",
    "_uuid": "56c1ac9b-1a41-477d-bd2d-e70f695f9dc6",
    "id": "nxXpPdVdWHv0",
    "papermill": {
     "duration": 0.00599,
     "end_time": "2024-08-26T16:04:05.861004",
     "exception": false,
     "start_time": "2024-08-26T16:04:05.855014",
     "status": "completed"
    },
    "tags": []
   },
   "source": [
    "# Data Preprocessing\n",
    "1. Import Libraries and download data\n",
    "2. Scale training and test data using training data parameters to ensure no data leakage\n",
    "3. Creates Sequences for training\n",
    "4. Utilise Encoder-Decoder Network to reduce dimensionality of data to reduce overfitting"
   ]
  },
  {
   "cell_type": "code",
   "execution_count": 1,
   "id": "d156f5f0",
   "metadata": {
    "execution": {
     "iopub.execute_input": "2024-08-26T16:04:05.873274Z",
     "iopub.status.busy": "2024-08-26T16:04:05.872980Z",
     "iopub.status.idle": "2024-08-26T16:04:18.937070Z",
     "shell.execute_reply": "2024-08-26T16:04:18.936060Z"
    },
    "papermill": {
     "duration": 13.072602,
     "end_time": "2024-08-26T16:04:18.939318",
     "exception": false,
     "start_time": "2024-08-26T16:04:05.866716",
     "status": "completed"
    },
    "tags": []
   },
   "outputs": [
    {
     "name": "stderr",
     "output_type": "stream",
     "text": [
      "2024-08-26 16:04:09.339528: E external/local_xla/xla/stream_executor/cuda/cuda_dnn.cc:9261] Unable to register cuDNN factory: Attempting to register factory for plugin cuDNN when one has already been registered\n",
      "2024-08-26 16:04:09.339624: E external/local_xla/xla/stream_executor/cuda/cuda_fft.cc:607] Unable to register cuFFT factory: Attempting to register factory for plugin cuFFT when one has already been registered\n",
      "2024-08-26 16:04:09.464101: E external/local_xla/xla/stream_executor/cuda/cuda_blas.cc:1515] Unable to register cuBLAS factory: Attempting to register factory for plugin cuBLAS when one has already been registered\n"
     ]
    }
   ],
   "source": [
    "random_state = 1\n",
    "import numpy as np\n",
    "import pandas as pd\n",
    "import matplotlib.pyplot as plt\n",
    "from sklearn.preprocessing import StandardScaler\n",
    "from sklearn.metrics import mean_squared_error, mean_absolute_error, confusion_matrix, ConfusionMatrixDisplay\n",
    "from tensorflow.keras.models import Model, load_model\n",
    "from tensorflow.keras.layers import Input, LSTM, Dense, Layer, Dropout, BatchNormalization, Bidirectional, TimeDistributed\n",
    "from tensorflow.keras.optimizers import AdamW, SGD\n",
    "from tensorflow.keras.regularizers import l2\n",
    "from tensorflow.keras.callbacks import EarlyStopping\n",
    "from tensorflow.keras.losses import MAE"
   ]
  },
  {
   "cell_type": "code",
   "execution_count": 2,
   "id": "1a9e70a0",
   "metadata": {
    "_cell_guid": "702697a8-a1c4-436d-91a2-b39f9a227e3c",
    "_uuid": "7bfc2347-b063-4538-88e7-59ddaba6962d",
    "execution": {
     "iopub.execute_input": "2024-08-26T16:04:18.952443Z",
     "iopub.status.busy": "2024-08-26T16:04:18.951876Z",
     "iopub.status.idle": "2024-08-26T16:04:19.329886Z",
     "shell.execute_reply": "2024-08-26T16:04:19.328872Z"
    },
    "papermill": {
     "duration": 0.386937,
     "end_time": "2024-08-26T16:04:19.332250",
     "exception": false,
     "start_time": "2024-08-26T16:04:18.945313",
     "status": "completed"
    },
    "tags": []
   },
   "outputs": [],
   "source": [
    "# Read dataset and set index to datetime for plotting purposes\n",
    "data = pd.read_csv(\"/kaggle/input/eth-all/ETH_return2.csv\")\n",
    "data[\"timestamp\"] = pd.to_datetime(data[\"timestamp\"])\n",
    "data.set_index(\"timestamp\", inplace=True)\n",
    "\n",
    "\n",
    "# Scale data using train parameters to ensure no data leakage\n",
    "split = int(len(data) * 0.8)\n",
    "train, test = data[:split], data[split:]\n",
    "scaler = StandardScaler()\n",
    "train_scaled = scaler.fit_transform(train)\n",
    "test_scaled = scaler.transform(test)\n",
    "scaled_data = np.vstack((train_scaled, test_scaled))\n",
    "\n",
    "\n",
    "\n",
    "# Create Sequences\n",
    "column_index = data.columns.get_loc('close')\n",
    "predict_value = 24\n",
    "SEQ_LENGTH = 24\n",
    "def create_sequences(data, seq_length):\n",
    "    X, Y = [], []\n",
    "    for i in range(len(data) - seq_length - predict_value):  \n",
    "        x = data[i:i + seq_length]\n",
    "        y = data[i + seq_length + predict_value, column_index]  \n",
    "        X.append(x)\n",
    "        Y.append(y)\n",
    "    return np.array(X), np.array(Y)\n",
    "X, y = create_sequences(scaled_data, SEQ_LENGTH)\n",
    "\n",
    "\n",
    "split = int(0.8 * len(X))\n",
    "X_train, X_test = X[:split], X[split:]\n",
    "y_train, y_test = y[:split], y[split:]"
   ]
  },
  {
   "cell_type": "markdown",
   "id": "e6185810",
   "metadata": {
    "papermill": {
     "duration": 0.005619,
     "end_time": "2024-08-26T16:04:19.343844",
     "exception": false,
     "start_time": "2024-08-26T16:04:19.338225",
     "status": "completed"
    },
    "tags": []
   },
   "source": [
    "# Auto-Encoder"
   ]
  },
  {
   "cell_type": "code",
   "execution_count": 3,
   "id": "219e3ba9",
   "metadata": {
    "execution": {
     "iopub.execute_input": "2024-08-26T16:04:19.356340Z",
     "iopub.status.busy": "2024-08-26T16:04:19.356026Z",
     "iopub.status.idle": "2024-08-26T16:09:47.573587Z",
     "shell.execute_reply": "2024-08-26T16:09:47.572521Z"
    },
    "papermill": {
     "duration": 328.226078,
     "end_time": "2024-08-26T16:09:47.575628",
     "exception": false,
     "start_time": "2024-08-26T16:04:19.349550",
     "status": "completed"
    },
    "tags": []
   },
   "outputs": [
    {
     "name": "stdout",
     "output_type": "stream",
     "text": [
      "Epoch 1/100\n",
      "\u001b[1m371/371\u001b[0m \u001b[32m━━━━━━━━━━━━━━━━━━━━\u001b[0m\u001b[37m\u001b[0m \u001b[1m11s\u001b[0m 18ms/step - loss: 0.4217 - val_loss: 0.1938\n",
      "Epoch 2/100\n",
      "\u001b[1m371/371\u001b[0m \u001b[32m━━━━━━━━━━━━━━━━━━━━\u001b[0m\u001b[37m\u001b[0m \u001b[1m6s\u001b[0m 17ms/step - loss: 0.2321 - val_loss: 0.1470\n",
      "Epoch 3/100\n",
      "\u001b[1m371/371\u001b[0m \u001b[32m━━━━━━━━━━━━━━━━━━━━\u001b[0m\u001b[37m\u001b[0m \u001b[1m6s\u001b[0m 17ms/step - loss: 0.2103 - val_loss: 0.1367\n",
      "Epoch 4/100\n",
      "\u001b[1m371/371\u001b[0m \u001b[32m━━━━━━━━━━━━━━━━━━━━\u001b[0m\u001b[37m\u001b[0m \u001b[1m6s\u001b[0m 17ms/step - loss: 0.1974 - val_loss: 0.1354\n",
      "Epoch 5/100\n",
      "\u001b[1m371/371\u001b[0m \u001b[32m━━━━━━━━━━━━━━━━━━━━\u001b[0m\u001b[37m\u001b[0m \u001b[1m6s\u001b[0m 17ms/step - loss: 0.1874 - val_loss: 0.1327\n",
      "Epoch 6/100\n",
      "\u001b[1m371/371\u001b[0m \u001b[32m━━━━━━━━━━━━━━━━━━━━\u001b[0m\u001b[37m\u001b[0m \u001b[1m6s\u001b[0m 17ms/step - loss: 0.1767 - val_loss: 0.1049\n",
      "Epoch 7/100\n",
      "\u001b[1m371/371\u001b[0m \u001b[32m━━━━━━━━━━━━━━━━━━━━\u001b[0m\u001b[37m\u001b[0m \u001b[1m6s\u001b[0m 17ms/step - loss: 0.1649 - val_loss: 0.0877\n",
      "Epoch 8/100\n",
      "\u001b[1m371/371\u001b[0m \u001b[32m━━━━━━━━━━━━━━━━━━━━\u001b[0m\u001b[37m\u001b[0m \u001b[1m6s\u001b[0m 17ms/step - loss: 0.1537 - val_loss: 0.0842\n",
      "Epoch 9/100\n",
      "\u001b[1m371/371\u001b[0m \u001b[32m━━━━━━━━━━━━━━━━━━━━\u001b[0m\u001b[37m\u001b[0m \u001b[1m10s\u001b[0m 17ms/step - loss: 0.1459 - val_loss: 0.0850\n",
      "Epoch 10/100\n",
      "\u001b[1m371/371\u001b[0m \u001b[32m━━━━━━━━━━━━━━━━━━━━\u001b[0m\u001b[37m\u001b[0m \u001b[1m6s\u001b[0m 17ms/step - loss: 0.1423 - val_loss: 0.0732\n",
      "Epoch 11/100\n",
      "\u001b[1m371/371\u001b[0m \u001b[32m━━━━━━━━━━━━━━━━━━━━\u001b[0m\u001b[37m\u001b[0m \u001b[1m6s\u001b[0m 17ms/step - loss: 0.1401 - val_loss: 0.0735\n",
      "Epoch 12/100\n",
      "\u001b[1m371/371\u001b[0m \u001b[32m━━━━━━━━━━━━━━━━━━━━\u001b[0m\u001b[37m\u001b[0m \u001b[1m6s\u001b[0m 17ms/step - loss: 0.1386 - val_loss: 0.0967\n",
      "Epoch 13/100\n",
      "\u001b[1m371/371\u001b[0m \u001b[32m━━━━━━━━━━━━━━━━━━━━\u001b[0m\u001b[37m\u001b[0m \u001b[1m6s\u001b[0m 17ms/step - loss: 0.1372 - val_loss: 0.0703\n",
      "Epoch 14/100\n",
      "\u001b[1m371/371\u001b[0m \u001b[32m━━━━━━━━━━━━━━━━━━━━\u001b[0m\u001b[37m\u001b[0m \u001b[1m10s\u001b[0m 17ms/step - loss: 0.1359 - val_loss: 0.0798\n",
      "Epoch 15/100\n",
      "\u001b[1m371/371\u001b[0m \u001b[32m━━━━━━━━━━━━━━━━━━━━\u001b[0m\u001b[37m\u001b[0m \u001b[1m6s\u001b[0m 17ms/step - loss: 0.1342 - val_loss: 0.0777\n",
      "Epoch 16/100\n",
      "\u001b[1m371/371\u001b[0m \u001b[32m━━━━━━━━━━━━━━━━━━━━\u001b[0m\u001b[37m\u001b[0m \u001b[1m6s\u001b[0m 17ms/step - loss: 0.1343 - val_loss: 0.0696\n",
      "Epoch 17/100\n",
      "\u001b[1m371/371\u001b[0m \u001b[32m━━━━━━━━━━━━━━━━━━━━\u001b[0m\u001b[37m\u001b[0m \u001b[1m6s\u001b[0m 17ms/step - loss: 0.1329 - val_loss: 0.0680\n",
      "Epoch 18/100\n",
      "\u001b[1m371/371\u001b[0m \u001b[32m━━━━━━━━━━━━━━━━━━━━\u001b[0m\u001b[37m\u001b[0m \u001b[1m6s\u001b[0m 17ms/step - loss: 0.1327 - val_loss: 0.0701\n",
      "Epoch 19/100\n",
      "\u001b[1m371/371\u001b[0m \u001b[32m━━━━━━━━━━━━━━━━━━━━\u001b[0m\u001b[37m\u001b[0m \u001b[1m6s\u001b[0m 17ms/step - loss: 0.1324 - val_loss: 0.0909\n",
      "Epoch 20/100\n",
      "\u001b[1m371/371\u001b[0m \u001b[32m━━━━━━━━━━━━━━━━━━━━\u001b[0m\u001b[37m\u001b[0m \u001b[1m6s\u001b[0m 17ms/step - loss: 0.1323 - val_loss: 0.0639\n",
      "Epoch 21/100\n",
      "\u001b[1m371/371\u001b[0m \u001b[32m━━━━━━━━━━━━━━━━━━━━\u001b[0m\u001b[37m\u001b[0m \u001b[1m6s\u001b[0m 17ms/step - loss: 0.1312 - val_loss: 0.0752\n",
      "Epoch 22/100\n",
      "\u001b[1m371/371\u001b[0m \u001b[32m━━━━━━━━━━━━━━━━━━━━\u001b[0m\u001b[37m\u001b[0m \u001b[1m6s\u001b[0m 17ms/step - loss: 0.1303 - val_loss: 0.0803\n",
      "Epoch 23/100\n",
      "\u001b[1m371/371\u001b[0m \u001b[32m━━━━━━━━━━━━━━━━━━━━\u001b[0m\u001b[37m\u001b[0m \u001b[1m6s\u001b[0m 17ms/step - loss: 0.1302 - val_loss: 0.0657\n",
      "Epoch 24/100\n",
      "\u001b[1m371/371\u001b[0m \u001b[32m━━━━━━━━━━━━━━━━━━━━\u001b[0m\u001b[37m\u001b[0m \u001b[1m6s\u001b[0m 17ms/step - loss: 0.1300 - val_loss: 0.0674\n",
      "Epoch 25/100\n",
      "\u001b[1m371/371\u001b[0m \u001b[32m━━━━━━━━━━━━━━━━━━━━\u001b[0m\u001b[37m\u001b[0m \u001b[1m6s\u001b[0m 17ms/step - loss: 0.1298 - val_loss: 0.0731\n",
      "Epoch 26/100\n",
      "\u001b[1m371/371\u001b[0m \u001b[32m━━━━━━━━━━━━━━━━━━━━\u001b[0m\u001b[37m\u001b[0m \u001b[1m6s\u001b[0m 17ms/step - loss: 0.1302 - val_loss: 0.0657\n",
      "Epoch 27/100\n",
      "\u001b[1m371/371\u001b[0m \u001b[32m━━━━━━━━━━━━━━━━━━━━\u001b[0m\u001b[37m\u001b[0m \u001b[1m6s\u001b[0m 17ms/step - loss: 0.1294 - val_loss: 0.0675\n",
      "Epoch 28/100\n",
      "\u001b[1m371/371\u001b[0m \u001b[32m━━━━━━━━━━━━━━━━━━━━\u001b[0m\u001b[37m\u001b[0m \u001b[1m6s\u001b[0m 17ms/step - loss: 0.1284 - val_loss: 0.0670\n",
      "Epoch 29/100\n",
      "\u001b[1m371/371\u001b[0m \u001b[32m━━━━━━━━━━━━━━━━━━━━\u001b[0m\u001b[37m\u001b[0m \u001b[1m6s\u001b[0m 17ms/step - loss: 0.1285 - val_loss: 0.0648\n",
      "Epoch 30/100\n",
      "\u001b[1m371/371\u001b[0m \u001b[32m━━━━━━━━━━━━━━━━━━━━\u001b[0m\u001b[37m\u001b[0m \u001b[1m6s\u001b[0m 17ms/step - loss: 0.1286 - val_loss: 0.0632\n",
      "Epoch 31/100\n",
      "\u001b[1m371/371\u001b[0m \u001b[32m━━━━━━━━━━━━━━━━━━━━\u001b[0m\u001b[37m\u001b[0m \u001b[1m6s\u001b[0m 17ms/step - loss: 0.1282 - val_loss: 0.0660\n",
      "Epoch 32/100\n",
      "\u001b[1m371/371\u001b[0m \u001b[32m━━━━━━━━━━━━━━━━━━━━\u001b[0m\u001b[37m\u001b[0m \u001b[1m6s\u001b[0m 17ms/step - loss: 0.1278 - val_loss: 0.0691\n",
      "Epoch 33/100\n",
      "\u001b[1m371/371\u001b[0m \u001b[32m━━━━━━━━━━━━━━━━━━━━\u001b[0m\u001b[37m\u001b[0m \u001b[1m6s\u001b[0m 17ms/step - loss: 0.1278 - val_loss: 0.0696\n",
      "Epoch 34/100\n",
      "\u001b[1m371/371\u001b[0m \u001b[32m━━━━━━━━━━━━━━━━━━━━\u001b[0m\u001b[37m\u001b[0m \u001b[1m6s\u001b[0m 17ms/step - loss: 0.1269 - val_loss: 0.0710\n",
      "Epoch 35/100\n",
      "\u001b[1m371/371\u001b[0m \u001b[32m━━━━━━━━━━━━━━━━━━━━\u001b[0m\u001b[37m\u001b[0m \u001b[1m6s\u001b[0m 17ms/step - loss: 0.1273 - val_loss: 0.0648\n",
      "Epoch 36/100\n",
      "\u001b[1m371/371\u001b[0m \u001b[32m━━━━━━━━━━━━━━━━━━━━\u001b[0m\u001b[37m\u001b[0m \u001b[1m6s\u001b[0m 17ms/step - loss: 0.1267 - val_loss: 0.0657\n",
      "Epoch 37/100\n",
      "\u001b[1m371/371\u001b[0m \u001b[32m━━━━━━━━━━━━━━━━━━━━\u001b[0m\u001b[37m\u001b[0m \u001b[1m6s\u001b[0m 17ms/step - loss: 0.1273 - val_loss: 0.0614\n",
      "Epoch 38/100\n",
      "\u001b[1m371/371\u001b[0m \u001b[32m━━━━━━━━━━━━━━━━━━━━\u001b[0m\u001b[37m\u001b[0m \u001b[1m6s\u001b[0m 17ms/step - loss: 0.1264 - val_loss: 0.0612\n",
      "Epoch 39/100\n",
      "\u001b[1m371/371\u001b[0m \u001b[32m━━━━━━━━━━━━━━━━━━━━\u001b[0m\u001b[37m\u001b[0m \u001b[1m6s\u001b[0m 17ms/step - loss: 0.1265 - val_loss: 0.0643\n",
      "Epoch 40/100\n",
      "\u001b[1m371/371\u001b[0m \u001b[32m━━━━━━━━━━━━━━━━━━━━\u001b[0m\u001b[37m\u001b[0m \u001b[1m6s\u001b[0m 17ms/step - loss: 0.1258 - val_loss: 0.0644\n",
      "Epoch 41/100\n",
      "\u001b[1m371/371\u001b[0m \u001b[32m━━━━━━━━━━━━━━━━━━━━\u001b[0m\u001b[37m\u001b[0m \u001b[1m6s\u001b[0m 17ms/step - loss: 0.1261 - val_loss: 0.0696\n",
      "Epoch 42/100\n",
      "\u001b[1m371/371\u001b[0m \u001b[32m━━━━━━━━━━━━━━━━━━━━\u001b[0m\u001b[37m\u001b[0m \u001b[1m6s\u001b[0m 17ms/step - loss: 0.1259 - val_loss: 0.0709\n",
      "Epoch 43/100\n",
      "\u001b[1m371/371\u001b[0m \u001b[32m━━━━━━━━━━━━━━━━━━━━\u001b[0m\u001b[37m\u001b[0m \u001b[1m6s\u001b[0m 17ms/step - loss: 0.1263 - val_loss: 0.0720\n",
      "Epoch 44/100\n",
      "\u001b[1m371/371\u001b[0m \u001b[32m━━━━━━━━━━━━━━━━━━━━\u001b[0m\u001b[37m\u001b[0m \u001b[1m6s\u001b[0m 17ms/step - loss: 0.1257 - val_loss: 0.0680\n",
      "Epoch 45/100\n",
      "\u001b[1m371/371\u001b[0m \u001b[32m━━━━━━━━━━━━━━━━━━━━\u001b[0m\u001b[37m\u001b[0m \u001b[1m6s\u001b[0m 17ms/step - loss: 0.1248 - val_loss: 0.0617\n",
      "Epoch 46/100\n",
      "\u001b[1m371/371\u001b[0m \u001b[32m━━━━━━━━━━━━━━━━━━━━\u001b[0m\u001b[37m\u001b[0m \u001b[1m6s\u001b[0m 17ms/step - loss: 0.1250 - val_loss: 0.0631\n",
      "Epoch 47/100\n",
      "\u001b[1m371/371\u001b[0m \u001b[32m━━━━━━━━━━━━━━━━━━━━\u001b[0m\u001b[37m\u001b[0m \u001b[1m6s\u001b[0m 17ms/step - loss: 0.1250 - val_loss: 0.0668\n",
      "Epoch 48/100\n",
      "\u001b[1m371/371\u001b[0m \u001b[32m━━━━━━━━━━━━━━━━━━━━\u001b[0m\u001b[37m\u001b[0m \u001b[1m6s\u001b[0m 17ms/step - loss: 0.1249 - val_loss: 0.0660\n",
      "\u001b[1m1855/1855\u001b[0m \u001b[32m━━━━━━━━━━━━━━━━━━━━\u001b[0m\u001b[37m\u001b[0m \u001b[1m4s\u001b[0m 2ms/step\n",
      "\u001b[1m1855/1855\u001b[0m \u001b[32m━━━━━━━━━━━━━━━━━━━━\u001b[0m\u001b[37m\u001b[0m \u001b[1m6s\u001b[0m 3ms/step\n",
      "Mean Squared Error: 0.14529079019514254\n"
     ]
    }
   ],
   "source": [
    "# Encoder - Decoder\n",
    "dropout_rate = 0.2\n",
    "activation = \"tanh\"\n",
    "LSTM_units = 350\n",
    "learning_rate = 0.1\n",
    "\n",
    "input_layer = Input(shape=(X.shape[1], X.shape[2]))\n",
    "encoded = LSTM(LSTM_units, activation=activation, return_sequences=True)(input_layer)\n",
    "encoded = LSTM(4, activation=activation, return_sequences=True)(encoded)\n",
    "decoded = LSTM(LSTM_units, return_sequences=True, activation=activation)(encoded)\n",
    "decoded = Dropout(dropout_rate)(decoded)\n",
    "decoded = TimeDistributed(Dense(X.shape[2]))(decoded)\n",
    "\n",
    "autoencoder = Model(input_layer, decoded)\n",
    "autoencoder.compile(optimizer=SGD(learning_rate=learning_rate, momentum=0.5), loss=MAE)\n",
    "early_stopping = EarlyStopping(monitor='val_loss', patience=10, restore_best_weights=True)\n",
    "history = autoencoder.fit(X, X, epochs=100, batch_size=128, validation_split=0.2, callbacks = [early_stopping])\n",
    "\n",
    "encoder = Model(input_layer, encoded)\n",
    "encoded_data = encoder.predict(X)\n",
    "\n",
    "\n",
    "# Testing performance of encoder\n",
    "reconstructed_sequences = autoencoder.predict(X)\n",
    "mse = np.mean(np.power(X - reconstructed_sequences, 2), axis=(1, 2))\n",
    "print(f'Mean Squared Error: {np.mean(mse)}')"
   ]
  },
  {
   "cell_type": "markdown",
   "id": "1f66146d",
   "metadata": {
    "_cell_guid": "68e5ad46-82a8-4bba-9d8e-f31963d5925f",
    "_uuid": "2c0f22bf-8a86-4b93-996b-2f07cc9cb33e",
    "id": "xv7Y7zMuWNzt",
    "papermill": {
     "duration": 0.385692,
     "end_time": "2024-08-26T16:09:48.353791",
     "exception": false,
     "start_time": "2024-08-26T16:09:47.968099",
     "status": "completed"
    },
    "tags": []
   },
   "source": [
    "# LSTM Forecasting Model"
   ]
  },
  {
   "cell_type": "code",
   "execution_count": 4,
   "id": "f470d094",
   "metadata": {
    "_cell_guid": "709881cf-0613-46e5-9a99-b023eff610bf",
    "_uuid": "4fb2cc9d-f8d7-4d51-a68d-cdcab6325525",
    "execution": {
     "iopub.execute_input": "2024-08-26T16:09:49.152887Z",
     "iopub.status.busy": "2024-08-26T16:09:49.152516Z",
     "iopub.status.idle": "2024-08-26T16:12:25.712435Z",
     "shell.execute_reply": "2024-08-26T16:12:25.711626Z"
    },
    "id": "wdM3jU1faj8v",
    "papermill": {
     "duration": 156.937898,
     "end_time": "2024-08-26T16:12:25.714362",
     "exception": false,
     "start_time": "2024-08-26T16:09:48.776464",
     "status": "completed"
    },
    "tags": []
   },
   "outputs": [
    {
     "name": "stdout",
     "output_type": "stream",
     "text": [
      "Epoch 1/100\n",
      "\u001b[1m297/297\u001b[0m \u001b[32m━━━━━━━━━━━━━━━━━━━━\u001b[0m\u001b[37m\u001b[0m \u001b[1m7s\u001b[0m 11ms/step - loss: 1.1863 - val_loss: 1.4351\n",
      "Epoch 2/100\n",
      "\u001b[1m297/297\u001b[0m \u001b[32m━━━━━━━━━━━━━━━━━━━━\u001b[0m\u001b[37m\u001b[0m \u001b[1m3s\u001b[0m 9ms/step - loss: 0.8231 - val_loss: 0.8942\n",
      "Epoch 3/100\n",
      "\u001b[1m297/297\u001b[0m \u001b[32m━━━━━━━━━━━━━━━━━━━━\u001b[0m\u001b[37m\u001b[0m \u001b[1m3s\u001b[0m 9ms/step - loss: 0.7108 - val_loss: 0.6196\n",
      "Epoch 4/100\n",
      "\u001b[1m297/297\u001b[0m \u001b[32m━━━━━━━━━━━━━━━━━━━━\u001b[0m\u001b[37m\u001b[0m \u001b[1m3s\u001b[0m 10ms/step - loss: 0.6358 - val_loss: 0.5577\n",
      "Epoch 5/100\n",
      "\u001b[1m297/297\u001b[0m \u001b[32m━━━━━━━━━━━━━━━━━━━━\u001b[0m\u001b[37m\u001b[0m \u001b[1m3s\u001b[0m 9ms/step - loss: 0.5839 - val_loss: 0.4926\n",
      "Epoch 6/100\n",
      "\u001b[1m297/297\u001b[0m \u001b[32m━━━━━━━━━━━━━━━━━━━━\u001b[0m\u001b[37m\u001b[0m \u001b[1m3s\u001b[0m 9ms/step - loss: 0.5297 - val_loss: 0.4631\n",
      "Epoch 7/100\n",
      "\u001b[1m297/297\u001b[0m \u001b[32m━━━━━━━━━━━━━━━━━━━━\u001b[0m\u001b[37m\u001b[0m \u001b[1m3s\u001b[0m 9ms/step - loss: 0.4787 - val_loss: 0.4165\n",
      "Epoch 8/100\n",
      "\u001b[1m297/297\u001b[0m \u001b[32m━━━━━━━━━━━━━━━━━━━━\u001b[0m\u001b[37m\u001b[0m \u001b[1m3s\u001b[0m 9ms/step - loss: 0.4403 - val_loss: 0.3856\n",
      "Epoch 9/100\n",
      "\u001b[1m297/297\u001b[0m \u001b[32m━━━━━━━━━━━━━━━━━━━━\u001b[0m\u001b[37m\u001b[0m \u001b[1m3s\u001b[0m 9ms/step - loss: 0.3985 - val_loss: 0.3305\n",
      "Epoch 10/100\n",
      "\u001b[1m297/297\u001b[0m \u001b[32m━━━━━━━━━━━━━━━━━━━━\u001b[0m\u001b[37m\u001b[0m \u001b[1m3s\u001b[0m 9ms/step - loss: 0.3609 - val_loss: 0.3019\n",
      "Epoch 11/100\n",
      "\u001b[1m297/297\u001b[0m \u001b[32m━━━━━━━━━━━━━━━━━━━━\u001b[0m\u001b[37m\u001b[0m \u001b[1m3s\u001b[0m 9ms/step - loss: 0.3398 - val_loss: 0.2846\n",
      "Epoch 12/100\n",
      "\u001b[1m297/297\u001b[0m \u001b[32m━━━━━━━━━━━━━━━━━━━━\u001b[0m\u001b[37m\u001b[0m \u001b[1m3s\u001b[0m 9ms/step - loss: 0.3138 - val_loss: 0.2513\n",
      "Epoch 13/100\n",
      "\u001b[1m297/297\u001b[0m \u001b[32m━━━━━━━━━━━━━━━━━━━━\u001b[0m\u001b[37m\u001b[0m \u001b[1m3s\u001b[0m 9ms/step - loss: 0.2839 - val_loss: 0.2333\n",
      "Epoch 14/100\n",
      "\u001b[1m297/297\u001b[0m \u001b[32m━━━━━━━━━━━━━━━━━━━━\u001b[0m\u001b[37m\u001b[0m \u001b[1m3s\u001b[0m 9ms/step - loss: 0.2681 - val_loss: 0.2156\n",
      "Epoch 15/100\n",
      "\u001b[1m297/297\u001b[0m \u001b[32m━━━━━━━━━━━━━━━━━━━━\u001b[0m\u001b[37m\u001b[0m \u001b[1m3s\u001b[0m 10ms/step - loss: 0.2488 - val_loss: 0.2257\n",
      "Epoch 16/100\n",
      "\u001b[1m297/297\u001b[0m \u001b[32m━━━━━━━━━━━━━━━━━━━━\u001b[0m\u001b[37m\u001b[0m \u001b[1m3s\u001b[0m 9ms/step - loss: 0.2248 - val_loss: 0.1843\n",
      "Epoch 17/100\n",
      "\u001b[1m297/297\u001b[0m \u001b[32m━━━━━━━━━━━━━━━━━━━━\u001b[0m\u001b[37m\u001b[0m \u001b[1m3s\u001b[0m 9ms/step - loss: 0.2181 - val_loss: 0.1808\n",
      "Epoch 18/100\n",
      "\u001b[1m297/297\u001b[0m \u001b[32m━━━━━━━━━━━━━━━━━━━━\u001b[0m\u001b[37m\u001b[0m \u001b[1m3s\u001b[0m 9ms/step - loss: 0.2077 - val_loss: 0.1656\n",
      "Epoch 19/100\n",
      "\u001b[1m297/297\u001b[0m \u001b[32m━━━━━━━━━━━━━━━━━━━━\u001b[0m\u001b[37m\u001b[0m \u001b[1m3s\u001b[0m 9ms/step - loss: 0.1937 - val_loss: 0.1502\n",
      "Epoch 20/100\n",
      "\u001b[1m297/297\u001b[0m \u001b[32m━━━━━━━━━━━━━━━━━━━━\u001b[0m\u001b[37m\u001b[0m \u001b[1m3s\u001b[0m 9ms/step - loss: 0.1812 - val_loss: 0.1475\n",
      "Epoch 21/100\n",
      "\u001b[1m297/297\u001b[0m \u001b[32m━━━━━━━━━━━━━━━━━━━━\u001b[0m\u001b[37m\u001b[0m \u001b[1m3s\u001b[0m 9ms/step - loss: 0.1829 - val_loss: 0.1355\n",
      "Epoch 22/100\n",
      "\u001b[1m297/297\u001b[0m \u001b[32m━━━━━━━━━━━━━━━━━━━━\u001b[0m\u001b[37m\u001b[0m \u001b[1m3s\u001b[0m 9ms/step - loss: 0.1672 - val_loss: 0.1362\n",
      "Epoch 23/100\n",
      "\u001b[1m297/297\u001b[0m \u001b[32m━━━━━━━━━━━━━━━━━━━━\u001b[0m\u001b[37m\u001b[0m \u001b[1m3s\u001b[0m 9ms/step - loss: 0.1642 - val_loss: 0.1574\n",
      "Epoch 24/100\n",
      "\u001b[1m297/297\u001b[0m \u001b[32m━━━━━━━━━━━━━━━━━━━━\u001b[0m\u001b[37m\u001b[0m \u001b[1m3s\u001b[0m 9ms/step - loss: 0.1589 - val_loss: 0.1225\n",
      "Epoch 25/100\n",
      "\u001b[1m297/297\u001b[0m \u001b[32m━━━━━━━━━━━━━━━━━━━━\u001b[0m\u001b[37m\u001b[0m \u001b[1m3s\u001b[0m 9ms/step - loss: 0.1472 - val_loss: 0.1158\n",
      "Epoch 26/100\n",
      "\u001b[1m297/297\u001b[0m \u001b[32m━━━━━━━━━━━━━━━━━━━━\u001b[0m\u001b[37m\u001b[0m \u001b[1m3s\u001b[0m 10ms/step - loss: 0.1450 - val_loss: 0.1550\n",
      "Epoch 27/100\n",
      "\u001b[1m297/297\u001b[0m \u001b[32m━━━━━━━━━━━━━━━━━━━━\u001b[0m\u001b[37m\u001b[0m \u001b[1m3s\u001b[0m 9ms/step - loss: 0.1372 - val_loss: 0.1084\n",
      "Epoch 28/100\n",
      "\u001b[1m297/297\u001b[0m \u001b[32m━━━━━━━━━━━━━━━━━━━━\u001b[0m\u001b[37m\u001b[0m \u001b[1m3s\u001b[0m 9ms/step - loss: 0.1329 - val_loss: 0.1238\n",
      "Epoch 29/100\n",
      "\u001b[1m297/297\u001b[0m \u001b[32m━━━━━━━━━━━━━━━━━━━━\u001b[0m\u001b[37m\u001b[0m \u001b[1m3s\u001b[0m 9ms/step - loss: 0.1316 - val_loss: 0.1041\n",
      "Epoch 30/100\n",
      "\u001b[1m297/297\u001b[0m \u001b[32m━━━━━━━━━━━━━━━━━━━━\u001b[0m\u001b[37m\u001b[0m \u001b[1m3s\u001b[0m 9ms/step - loss: 0.1297 - val_loss: 0.1338\n",
      "Epoch 31/100\n",
      "\u001b[1m297/297\u001b[0m \u001b[32m━━━━━━━━━━━━━━━━━━━━\u001b[0m\u001b[37m\u001b[0m \u001b[1m3s\u001b[0m 9ms/step - loss: 0.1303 - val_loss: 0.1040\n",
      "Epoch 32/100\n",
      "\u001b[1m297/297\u001b[0m \u001b[32m━━━━━━━━━━━━━━━━━━━━\u001b[0m\u001b[37m\u001b[0m \u001b[1m3s\u001b[0m 9ms/step - loss: 0.1246 - val_loss: 0.0849\n",
      "Epoch 33/100\n",
      "\u001b[1m297/297\u001b[0m \u001b[32m━━━━━━━━━━━━━━━━━━━━\u001b[0m\u001b[37m\u001b[0m \u001b[1m3s\u001b[0m 9ms/step - loss: 0.1223 - val_loss: 0.0830\n",
      "Epoch 34/100\n",
      "\u001b[1m297/297\u001b[0m \u001b[32m━━━━━━━━━━━━━━━━━━━━\u001b[0m\u001b[37m\u001b[0m \u001b[1m3s\u001b[0m 9ms/step - loss: 0.1211 - val_loss: 0.0834\n",
      "Epoch 35/100\n",
      "\u001b[1m297/297\u001b[0m \u001b[32m━━━━━━━━━━━━━━━━━━━━\u001b[0m\u001b[37m\u001b[0m \u001b[1m3s\u001b[0m 9ms/step - loss: 0.1133 - val_loss: 0.0828\n",
      "Epoch 36/100\n",
      "\u001b[1m297/297\u001b[0m \u001b[32m━━━━━━━━━━━━━━━━━━━━\u001b[0m\u001b[37m\u001b[0m \u001b[1m3s\u001b[0m 9ms/step - loss: 0.1141 - val_loss: 0.0806\n",
      "Epoch 37/100\n",
      "\u001b[1m297/297\u001b[0m \u001b[32m━━━━━━━━━━━━━━━━━━━━\u001b[0m\u001b[37m\u001b[0m \u001b[1m3s\u001b[0m 9ms/step - loss: 0.1212 - val_loss: 0.0816\n",
      "Epoch 38/100\n",
      "\u001b[1m297/297\u001b[0m \u001b[32m━━━━━━━━━━━━━━━━━━━━\u001b[0m\u001b[37m\u001b[0m \u001b[1m3s\u001b[0m 9ms/step - loss: 0.1185 - val_loss: 0.0752\n",
      "Epoch 39/100\n",
      "\u001b[1m297/297\u001b[0m \u001b[32m━━━━━━━━━━━━━━━━━━━━\u001b[0m\u001b[37m\u001b[0m \u001b[1m3s\u001b[0m 9ms/step - loss: 0.1151 - val_loss: 0.0761\n",
      "Epoch 40/100\n",
      "\u001b[1m297/297\u001b[0m \u001b[32m━━━━━━━━━━━━━━━━━━━━\u001b[0m\u001b[37m\u001b[0m \u001b[1m3s\u001b[0m 9ms/step - loss: 0.1121 - val_loss: 0.0804\n",
      "Epoch 41/100\n",
      "\u001b[1m297/297\u001b[0m \u001b[32m━━━━━━━━━━━━━━━━━━━━\u001b[0m\u001b[37m\u001b[0m \u001b[1m3s\u001b[0m 9ms/step - loss: 0.1126 - val_loss: 0.0733\n",
      "Epoch 42/100\n",
      "\u001b[1m297/297\u001b[0m \u001b[32m━━━━━━━━━━━━━━━━━━━━\u001b[0m\u001b[37m\u001b[0m \u001b[1m3s\u001b[0m 9ms/step - loss: 0.1104 - val_loss: 0.0717\n",
      "Epoch 43/100\n",
      "\u001b[1m297/297\u001b[0m \u001b[32m━━━━━━━━━━━━━━━━━━━━\u001b[0m\u001b[37m\u001b[0m \u001b[1m3s\u001b[0m 9ms/step - loss: 0.1105 - val_loss: 0.0747\n",
      "Epoch 44/100\n",
      "\u001b[1m297/297\u001b[0m \u001b[32m━━━━━━━━━━━━━━━━━━━━\u001b[0m\u001b[37m\u001b[0m \u001b[1m3s\u001b[0m 9ms/step - loss: 0.1111 - val_loss: 0.0875\n",
      "Epoch 45/100\n",
      "\u001b[1m297/297\u001b[0m \u001b[32m━━━━━━━━━━━━━━━━━━━━\u001b[0m\u001b[37m\u001b[0m \u001b[1m3s\u001b[0m 9ms/step - loss: 0.1079 - val_loss: 0.0864\n",
      "Epoch 46/100\n",
      "\u001b[1m297/297\u001b[0m \u001b[32m━━━━━━━━━━━━━━━━━━━━\u001b[0m\u001b[37m\u001b[0m \u001b[1m3s\u001b[0m 9ms/step - loss: 0.1058 - val_loss: 0.0887\n",
      "Epoch 47/100\n",
      "\u001b[1m297/297\u001b[0m \u001b[32m━━━━━━━━━━━━━━━━━━━━\u001b[0m\u001b[37m\u001b[0m \u001b[1m3s\u001b[0m 9ms/step - loss: 0.1114 - val_loss: 0.0701\n",
      "Epoch 48/100\n",
      "\u001b[1m297/297\u001b[0m \u001b[32m━━━━━━━━━━━━━━━━━━━━\u001b[0m\u001b[37m\u001b[0m \u001b[1m3s\u001b[0m 9ms/step - loss: 0.1077 - val_loss: 0.0754\n",
      "Epoch 49/100\n",
      "\u001b[1m297/297\u001b[0m \u001b[32m━━━━━━━━━━━━━━━━━━━━\u001b[0m\u001b[37m\u001b[0m \u001b[1m3s\u001b[0m 10ms/step - loss: 0.1072 - val_loss: 0.0830\n",
      "Epoch 50/100\n",
      "\u001b[1m297/297\u001b[0m \u001b[32m━━━━━━━━━━━━━━━━━━━━\u001b[0m\u001b[37m\u001b[0m \u001b[1m3s\u001b[0m 9ms/step - loss: 0.1029 - val_loss: 0.0718\n",
      "Epoch 51/100\n",
      "\u001b[1m297/297\u001b[0m \u001b[32m━━━━━━━━━━━━━━━━━━━━\u001b[0m\u001b[37m\u001b[0m \u001b[1m3s\u001b[0m 9ms/step - loss: 0.1040 - val_loss: 0.1045\n",
      "Epoch 52/100\n",
      "\u001b[1m297/297\u001b[0m \u001b[32m━━━━━━━━━━━━━━━━━━━━\u001b[0m\u001b[37m\u001b[0m \u001b[1m3s\u001b[0m 9ms/step - loss: 0.1068 - val_loss: 0.0747\n",
      "Epoch 53/100\n",
      "\u001b[1m297/297\u001b[0m \u001b[32m━━━━━━━━━━━━━━━━━━━━\u001b[0m\u001b[37m\u001b[0m \u001b[1m3s\u001b[0m 9ms/step - loss: 0.1050 - val_loss: 0.0725\n",
      "Epoch 54/100\n",
      "\u001b[1m297/297\u001b[0m \u001b[32m━━━━━━━━━━━━━━━━━━━━\u001b[0m\u001b[37m\u001b[0m \u001b[1m3s\u001b[0m 9ms/step - loss: 0.1097 - val_loss: 0.0704\n",
      "Epoch 55/100\n",
      "\u001b[1m297/297\u001b[0m \u001b[32m━━━━━━━━━━━━━━━━━━━━\u001b[0m\u001b[37m\u001b[0m \u001b[1m3s\u001b[0m 9ms/step - loss: 0.1114 - val_loss: 0.0756\n"
     ]
    }
   ],
   "source": [
    "split = int(len(encoded_data) * 0.8)\n",
    "encoded_X_train, encoded_X_test = encoded_data[:split], encoded_data[split:]\n",
    "\n",
    "lstm_units = 12\n",
    "dropout_rate = 0.1\n",
    "dense_units = 128\n",
    "learning_rate = 0.001\n",
    "weight_decay = 0.01\n",
    "regularizer = 0.00001\n",
    "num_layers = 2\n",
    "activation = 'tanh'\n",
    "\n",
    "input_seq = Input(shape=(SEQ_LENGTH, encoded_X_train.shape[2]))\n",
    "for _ in range(num_layers):\n",
    "    x = Bidirectional(LSTM(lstm_units, return_sequences=True, kernel_regularizer=l2(weight_decay), recurrent_regularizer=l2(regularizer)))(input_seq)\n",
    "    x = Dropout(dropout_rate)(x)\n",
    "\n",
    "x = Bidirectional(LSTM(lstm_units, return_sequences=False, kernel_regularizer=l2(weight_decay), recurrent_regularizer=l2(regularizer)))(x)\n",
    "x = Dropout(dropout_rate)(x)\n",
    "x = BatchNormalization()(x) \n",
    "x = Dropout(dropout_rate)(x)\n",
    "output = Dense(1)(x)\n",
    "\n",
    "model = Model(inputs=input_seq, outputs=output)\n",
    "model.compile(optimizer=SGD(learning_rate=learning_rate, momentum=0.9), loss=MAE)\n",
    "\n",
    "\n",
    "early_stopping = EarlyStopping(monitor='val_loss', patience=8, restore_best_weights=True)\n",
    "history = model.fit(encoded_X_train, y_train, epochs=100, validation_split = 0.2, batch_size=128, callbacks = [early_stopping])\n",
    "#model.save('Predict_24hr_model2.h5')"
   ]
  },
  {
   "cell_type": "markdown",
   "id": "31af7e60",
   "metadata": {
    "_cell_guid": "8052459c-c662-4b46-a496-f425041b08c0",
    "_uuid": "0526d7ff-34d6-4d97-8951-03e5bdc07a0e",
    "papermill": {
     "duration": 0.580523,
     "end_time": "2024-08-26T16:12:26.879066",
     "exception": false,
     "start_time": "2024-08-26T16:12:26.298543",
     "status": "completed"
    },
    "tags": []
   },
   "source": [
    "# Evaluation of Predictions\n",
    "\n",
    "In this section we plot our predicted prices against the true prices and calculate the MSE, MAE and MAPE of these predictions. We plot the distribution of the predicted hourly percentage change in price against the true values and evaluate these predictions with MAE (We do not use MAPE as our calculations will include 0 values leading to infitinite or undefined outputs and we remove MSE as it is not a good metric when dealing with small values like our hourly percentage change values). Finally, we evaluate our models performance in prediciting the direction of price movements using accuracy, precision, recall and F1 scores."
   ]
  },
  {
   "cell_type": "code",
   "execution_count": 5,
   "id": "760a2baa",
   "metadata": {
    "_cell_guid": "1ab81bf6-c027-4fa7-ab13-b2d1eb69ccd4",
    "_uuid": "83d9413f-be5a-40aa-90a8-c9920c87e1b7",
    "execution": {
     "iopub.execute_input": "2024-08-26T16:12:28.086087Z",
     "iopub.status.busy": "2024-08-26T16:12:28.085199Z",
     "iopub.status.idle": "2024-08-26T16:12:30.539701Z",
     "shell.execute_reply": "2024-08-26T16:12:30.538653Z"
    },
    "papermill": {
     "duration": 3.037061,
     "end_time": "2024-08-26T16:12:30.541526",
     "exception": false,
     "start_time": "2024-08-26T16:12:27.504465",
     "status": "completed"
    },
    "tags": []
   },
   "outputs": [
    {
     "name": "stdout",
     "output_type": "stream",
     "text": [
      "\u001b[1m371/371\u001b[0m \u001b[32m━━━━━━━━━━━━━━━━━━━━\u001b[0m\u001b[37m\u001b[0m \u001b[1m2s\u001b[0m 4ms/step\n"
     ]
    },
    {
     "data": {
      "image/png": "[encoded data removed]",
      "text/plain": [
       "<Figure size 640x480 with 1 Axes>"
      ]
     },
     "metadata": {},
     "output_type": "display_data"
    },
    {
     "name": "stdout",
     "output_type": "stream",
     "text": [
      "MSE: 7309.306614061237\n",
      "MAE: 54.48413223683171\n",
      "MAPE: 2.307657023186666\n"
     ]
    }
   ],
   "source": [
    "#model = load_model(\"/kaggle/working/Predict_24hr.h5\")\n",
    "\n",
    "test_predictions = model.predict(encoded_X_test)\n",
    "\n",
    "# This code is here to reset the datasets when running code multple times in one session\n",
    "X, y = create_sequences(scaled_data, SEQ_LENGTH)\n",
    "split = int(0.8 * len(X))\n",
    "X_train, X_test = X[:split], X[split:]\n",
    "y_train, y_test = y[:split], y[split:]\n",
    "\n",
    "# Inverse Scale Values\n",
    "y_test_partial_reshaped = y_test.reshape(-1, 1)\n",
    "y_test_reshaped = np.repeat(y_test_partial_reshaped, X_train.shape[2], axis=1)\n",
    "preds_reshaped = np.repeat(test_predictions, X_train.shape[2], axis=1)\n",
    "y_pred = scaler.inverse_transform(preds_reshaped)[:,column_index]\n",
    "y_test = scaler.inverse_transform(y_test_reshaped)[:,column_index]\n",
    "\n",
    "\n",
    "# Plot Preds vs Targets\n",
    "plt.plot(y_test, label='Test Actual', color='orange')\n",
    "plt.plot(y_pred, label='Test Predicted', color='red')\n",
    "plt.xlabel('Time (Hours)')\n",
    "plt.ylabel('Price')\n",
    "plt.title('Actual vs Predicted Values')\n",
    "plt.legend()\n",
    "plt.show()\n",
    "\n",
    "\n",
    "# Metrics\n",
    "def MAPE(y_true, y_pred):\n",
    "    return np.mean(np.abs((y_true - y_pred) / y_true)) * 100\n",
    "mse = mean_squared_error(y_test, y_pred)\n",
    "mae = mean_absolute_error(y_test, y_pred)\n",
    "mape = MAPE(y_test, y_pred)\n",
    "print(f\"MSE: {mse}\")\n",
    "print(f\"MAE: {mae}\")\n",
    "print(f\"MAPE: {mape}\")"
   ]
  },
  {
   "cell_type": "code",
   "execution_count": 6,
   "id": "c7ec10b5",
   "metadata": {
    "_cell_guid": "fe76383b-31d1-4bda-97dc-61e4ff887825",
    "_uuid": "09220e81-7016-492e-b59a-e23e696a4bdd",
    "execution": {
     "iopub.execute_input": "2024-08-26T16:12:31.747292Z",
     "iopub.status.busy": "2024-08-26T16:12:31.746591Z",
     "iopub.status.idle": "2024-08-26T16:12:32.480371Z",
     "shell.execute_reply": "2024-08-26T16:12:32.479457Z"
    },
    "papermill": {
     "duration": 1.360939,
     "end_time": "2024-08-26T16:12:32.482793",
     "exception": false,
     "start_time": "2024-08-26T16:12:31.121854",
     "status": "completed"
    },
    "tags": []
   },
   "outputs": [
    {
     "data": {
      "image/png": "[encoded data removed]",
      "text/plain": [
       "<Figure size 800x400 with 2 Axes>"
      ]
     },
     "metadata": {},
     "output_type": "display_data"
    },
    {
     "name": "stdout",
     "output_type": "stream",
     "text": [
      "Test MAE: 0.02308797045480544\n"
     ]
    }
   ],
   "source": [
    "hours = 1\n",
    "\n",
    "predicted_change = (y_pred[hours:] / y_test[:-hours]) - 1\n",
    "actual_change = (y_test[hours:] / y_test[:-hours]) - 1\n",
    "\n",
    "fig, ax = plt.subplots(1, 2, figsize=(8, 4)) \n",
    "ax[0].hist(predicted_change, bins=50)\n",
    "ax[0].set_title(f\"Predicted Price Change in {hours} hour\")\n",
    "ax[0].set_xlabel(\"% change\")\n",
    "\n",
    "ax[1].hist(actual_change, bins=50)\n",
    "ax[1].set_title(f\"Actual Price Change in {hours} hour\")\n",
    "ax[1].set_xlabel(\"% change\")\n",
    "\n",
    "plt.tight_layout()\n",
    "plt.show()\n",
    "\n",
    "change_mae = mean_absolute_error(actual_change, predicted_change)\n",
    "print(f\"Test MAE: {change_mae}\")"
   ]
  },
  {
   "cell_type": "markdown",
   "id": "d0ef5a58",
   "metadata": {
    "papermill": {
     "duration": 0.581794,
     "end_time": "2024-08-26T16:12:33.657537",
     "exception": false,
     "start_time": "2024-08-26T16:12:33.075743",
     "status": "completed"
    },
    "tags": []
   },
   "source": [
    "**Identifying Performance in prediciting price direction**"
   ]
  },
  {
   "cell_type": "code",
   "execution_count": 7,
   "id": "b0018940",
   "metadata": {
    "_cell_guid": "89abcd73-2888-4d50-803f-d5c7ec7291a7",
    "_uuid": "798a0429-0fd6-4792-bec6-68bf57828e26",
    "execution": {
     "iopub.execute_input": "2024-08-26T16:12:34.861537Z",
     "iopub.status.busy": "2024-08-26T16:12:34.860676Z",
     "iopub.status.idle": "2024-08-26T16:12:35.087088Z",
     "shell.execute_reply": "2024-08-26T16:12:35.086138Z"
    },
    "papermill": {
     "duration": 0.811352,
     "end_time": "2024-08-26T16:12:35.090119",
     "exception": false,
     "start_time": "2024-08-26T16:12:34.278767",
     "status": "completed"
    },
    "tags": []
   },
   "outputs": [
    {
     "data": {
      "image/png": "[encoded data removed]",
      "text/plain": [
       "<Figure size 640x480 with 2 Axes>"
      ]
     },
     "metadata": {},
     "output_type": "display_data"
    },
    {
     "name": "stdout",
     "output_type": "stream",
     "text": [
      "Correctly predicted upward movements percentage (Recall): 0.30496688741721856\n",
      "Correctly predicted downard movements percentage (Specificity): 0.7358846747897717\n"
     ]
    }
   ],
   "source": [
    "# Transforming Preds and Targets to % difference\n",
    "predicted_direction = []\n",
    "actual_direction = []\n",
    "\n",
    "# Transforming preds and targets to 1 if upwards move and 0 if downwards move\n",
    "for i in range(0, len(y_pred) - 1):\n",
    "    if y_pred[i + 1] >= y_test[i]:\n",
    "        predicted_direction.append(1)\n",
    "    else:\n",
    "        predicted_direction.append(0)\n",
    "        \n",
    "for i in range(0, len(y_test) - 1):\n",
    "    if y_test[i + 1] >= y_test[i]:\n",
    "        actual_direction.append(1)\n",
    "    else:\n",
    "        actual_direction.append(0)\n",
    "\n",
    "# Plotting Confusion Matrix\n",
    "matrix = confusion_matrix(actual_direction, predicted_direction)\n",
    "cm_display = ConfusionMatrixDisplay(matrix)\n",
    "cm_display.plot()\n",
    "plt.title(\"Prediction of Upward and Downward Price Movements\")\n",
    "plt.show()\n",
    "\n",
    "\n",
    "recall = matrix[(1,1)] / (matrix[(1,1)] + matrix[(1,0)])\n",
    "specificity = matrix[(0,0)] / (matrix[(0,0)] + matrix[(0,1)])\n",
    "\n",
    "print(\"Correctly predicted upward movements percentage (Recall):\", recall)\n",
    "print(\"Correctly predicted downard movements percentage (Specificity):\", specificity)"
   ]
  },
  {
   "cell_type": "markdown",
   "id": "2c3c6a2c",
   "metadata": {
    "papermill": {
     "duration": 0.576401,
     "end_time": "2024-08-26T16:12:36.244734",
     "exception": false,
     "start_time": "2024-08-26T16:12:35.668333",
     "status": "completed"
    },
    "tags": []
   },
   "source": [
    "# Trading Algorithm\n",
    "\n",
    "In this section we create an algorithm that buys and sells ETH-USD. A buy signal is produced when our predicted prices are above a certain threshold (a given percentage higher than current price). A sell signal is produced after a certain profit level is reached or if a position is held to a specified maximum holding period. Position size and our mentioned parameter values are informed by historical estimations of VaR at various confidence levels. "
   ]
  },
  {
   "cell_type": "markdown",
   "id": "df96514f",
   "metadata": {
    "papermill": {
     "duration": 0.57748,
     "end_time": "2024-08-26T16:12:37.445599",
     "exception": false,
     "start_time": "2024-08-26T16:12:36.868119",
     "status": "completed"
    },
    "tags": []
   },
   "source": [
    "**VaR (Historical Estimation)**"
   ]
  },
  {
   "cell_type": "code",
   "execution_count": 8,
   "id": "0e609fb2",
   "metadata": {
    "_cell_guid": "f710cb2c-6027-4d7c-bc26-bed3a0815bda",
    "_uuid": "8db677b0-83db-4618-847a-c14725240d1b",
    "execution": {
     "iopub.execute_input": "2024-08-26T16:12:38.656006Z",
     "iopub.status.busy": "2024-08-26T16:12:38.655649Z",
     "iopub.status.idle": "2024-08-26T16:12:38.669039Z",
     "shell.execute_reply": "2024-08-26T16:12:38.667656Z"
    },
    "papermill": {
     "duration": 0.645302,
     "end_time": "2024-08-26T16:12:38.671221",
     "exception": false,
     "start_time": "2024-08-26T16:12:38.025919",
     "status": "completed"
    },
    "tags": []
   },
   "outputs": [
    {
     "name": "stdout",
     "output_type": "stream",
     "text": [
      "97.5% confident price will not fall more than 5.34% in 24 hours\n",
      "97.5% confident price will not fall more than 7.17% in 48 hours\n",
      "97.5% confident price will not fall more than 8.41% in 72 hours\n",
      "97.5% confident price will not fall more than 9.57% in 96 hours\n",
      " \n",
      "95.0% confident price will not fall more than 4.04% in 24 hours\n",
      "95.0% confident price will not fall more than 5.33% in 48 hours\n",
      "95.0% confident price will not fall more than 6.38% in 72 hours\n",
      "95.0% confident price will not fall more than 7.47% in 96 hours\n"
     ]
    }
   ],
   "source": [
    "confidence_level = 0.975\n",
    "for x in range(24,97,24):\n",
    "    pct_change = y_test[x:] / y_test[:-x]\n",
    "    var_hist = 1 - np.percentile(pct_change, (1 - confidence_level) * 100)   \n",
    "    print(f\"{confidence_level * 100}% confident price will not fall more than {var_hist:.2%} in {x} hours\")\n",
    "print(\" \")\n",
    "confidence_level = 0.95\n",
    "for x in range(24,97,24):\n",
    "    pct_change = y_test[x:] / y_test[:-x]\n",
    "    var_hist = 1 - np.percentile(pct_change, (1 - confidence_level) * 100)   \n",
    "    print(f\"{confidence_level * 100}% confident price will not fall more than {var_hist:.2%} in {x} hours\")"
   ]
  },
  {
   "cell_type": "markdown",
   "id": "f3efa58e",
   "metadata": {
    "_cell_guid": "d93c23a3-7bf8-47d4-8800-5a5054ba2347",
    "_uuid": "a53f0c14-fa06-4ff1-a5fc-e0868ee5a60e",
    "papermill": {
     "duration": 0.577664,
     "end_time": "2024-08-26T16:12:39.885288",
     "exception": false,
     "start_time": "2024-08-26T16:12:39.307624",
     "status": "completed"
    },
    "tags": []
   },
   "source": [
    "**Trading Algorithm**"
   ]
  },
  {
   "cell_type": "code",
   "execution_count": 9,
   "id": "3ff4ce5d",
   "metadata": {
    "execution": {
     "iopub.execute_input": "2024-08-26T16:12:41.122682Z",
     "iopub.status.busy": "2024-08-26T16:12:41.122323Z",
     "iopub.status.idle": "2024-08-26T16:12:41.551012Z",
     "shell.execute_reply": "2024-08-26T16:12:41.550034Z"
    },
    "papermill": {
     "duration": 1.062734,
     "end_time": "2024-08-26T16:12:41.553287",
     "exception": false,
     "start_time": "2024-08-26T16:12:40.490553",
     "status": "completed"
    },
    "tags": []
   },
   "outputs": [
    {
     "name": "stdout",
     "output_type": "stream",
     "text": [
      "Strategy Profit: 28.29%\n",
      "Buy and Hold Profit: 129.49%\n"
     ]
    },
    {
     "data": {
      "image/png": "[encoded data removed]",
      "text/plain": [
       "<Figure size 900x300 with 1 Axes>"
      ]
     },
     "metadata": {},
     "output_type": "display_data"
    },
    {
     "name": "stdout",
     "output_type": "stream",
     "text": [
      "HOLD           11832\n",
      "BUY                6\n",
      "TIME SELL          4\n",
      "PROFIT SELL        2\n",
      "Name: count, dtype: int64\n"
     ]
    }
   ],
   "source": [
    "prices = y_test[:-24]\n",
    "preds = y_pred[24:]\n",
    "actual = y_test[24:]\n",
    "\n",
    "initial_balance = 10000\n",
    "slippage = 0.0015  # binance trading fee (0.1%) + margin loss (0.05%)\n",
    "balance = initial_balance\n",
    "holdings = 0\n",
    "buy_price = 0\n",
    "profits = []\n",
    "portfolio_value = []\n",
    "actions = []\n",
    "\n",
    "position_size = 1\n",
    "take_profit = 1.1\n",
    "max_hold_time = 48\n",
    "signal_strength = 1.06\n",
    "\n",
    "for i in range(len(prices)):\n",
    "\n",
    "    current_price = prices[i]\n",
    "    predicted_price = preds[i]\n",
    "    signal = predicted_price / current_price\n",
    "    action = \"HOLD\"\n",
    "    \n",
    "    if signal > signal_strength and balance > 0:\n",
    "        amount_to_invest = balance*position_size\n",
    "        shares_to_buy = amount_to_invest / current_price\n",
    "        transaction_cost = shares_to_buy * current_price * slippage\n",
    "        actual_shares_bought = (amount_to_invest - transaction_cost) / current_price\n",
    "        holdings += actual_shares_bought\n",
    "        balance -= amount_to_invest\n",
    "        buy_price = current_price\n",
    "        action = 'BUY'   \n",
    "\n",
    "    elif current_price > buy_price*take_profit and holdings > 0:\n",
    "            transaction_cost = holdings * current_price * slippage\n",
    "            balance += (holdings * current_price) - transaction_cost\n",
    "            profits.append(holdings * (current_price - buy_price) - transaction_cost)\n",
    "            holdings = 0\n",
    "            action = \"PROFIT SELL\"\n",
    "        \n",
    "        \n",
    "    if i % max_hold_time == 0 :\n",
    "        if holdings > 0:\n",
    "            transaction_cost = holdings * current_price * slippage\n",
    "            balance += (holdings * current_price) - transaction_cost\n",
    "            profits.append(holdings * (current_price - buy_price) - transaction_cost)\n",
    "            holdings = 0\n",
    "            action = \"TIME SELL\"\n",
    "    \n",
    "\n",
    "    actions.append(action)  \n",
    "    portfolio_value.append(balance + (holdings * current_price))\n",
    "\n",
    "portfolio_value = np.array(portfolio_value)\n",
    "portfolio = (portfolio_value * 100 / portfolio_value[0]) - 100\n",
    "strategy_profit = ((portfolio_value[-1] / initial_balance) * 100) - 100\n",
    "\n",
    "buy_and_hold = (prices * (100 - slippage) / prices[0]) - 100\n",
    "buy_and_hold_profit = ((prices[-1] / prices[0]) * 100-slippage) - 100 \n",
    "\n",
    "\n",
    "print(f\"Strategy Profit: {strategy_profit:.2f}%\")\n",
    "print(f\"Buy and Hold Profit: {buy_and_hold_profit:.2f}%\")\n",
    "\n",
    "index = test.index[predict_value+10:]\n",
    "plt.figure(figsize=(9, 3))\n",
    "plt.plot(index, portfolio, label=\"Strategy\")\n",
    "plt.plot(index, buy_and_hold, label=\"Buy And Hold\") \n",
    "plt.xlabel('Time')\n",
    "plt.ylabel('Profit (%)')\n",
    "plt.title('Strategy vs Buy and Hold')\n",
    "plt.legend()\n",
    "plt.show()\n",
    "\n",
    "print(pd.Series(actions).value_counts())"
   ]
  },
  {
   "cell_type": "markdown",
   "id": "a8d762bd",
   "metadata": {
    "_cell_guid": "4850a2b2-ed2f-4229-8f51-9b0dc159baf9",
    "_uuid": "4ca85fed-d7e2-4d94-a972-053502571e0c",
    "papermill": {
     "duration": 0.578116,
     "end_time": "2024-08-26T16:12:42.720572",
     "exception": false,
     "start_time": "2024-08-26T16:12:42.142456",
     "status": "completed"
    },
    "tags": []
   },
   "source": [
    "# Trading Algorithm Evaluation\n",
    "\n",
    "We evaluate our algorithm by comparing against a buy and hold strategy. We calculate the annual return, volatility, maximum drawdown and Sharpe ratio of both strategies. We estimate the risk free rate to be the average 1 year T-bill over the trading period. "
   ]
  },
  {
   "cell_type": "code",
   "execution_count": 10,
   "id": "eae05926",
   "metadata": {
    "_cell_guid": "0648ea13-7a07-435c-bd18-f46b19fe8652",
    "_uuid": "925dcf3d-d1a8-4017-8dba-fd13f13c7c27",
    "execution": {
     "iopub.execute_input": "2024-08-26T16:12:43.940758Z",
     "iopub.status.busy": "2024-08-26T16:12:43.940418Z",
     "iopub.status.idle": "2024-08-26T16:12:57.243928Z",
     "shell.execute_reply": "2024-08-26T16:12:57.242803Z"
    },
    "papermill": {
     "duration": 13.942922,
     "end_time": "2024-08-26T16:12:57.246115",
     "exception": false,
     "start_time": "2024-08-26T16:12:43.303193",
     "status": "completed"
    },
    "tags": []
   },
   "outputs": [
    {
     "name": "stderr",
     "output_type": "stream",
     "text": [
      "/opt/conda/lib/python3.10/pty.py:89: RuntimeWarning: os.fork() was called. os.fork() is incompatible with multithreaded code, and JAX is multithreaded, so this will likely lead to a deadlock.\n",
      "  pid, fd = os.forkpty()\n"
     ]
    },
    {
     "name": "stdout",
     "output_type": "stream",
     "text": [
      "Risk Free Rate: 0.05081764705882353\n"
     ]
    }
   ],
   "source": [
    "!pip install -q pandas pandas_datareader\n",
    "import pandas_datareader.data as web\n",
    "from datetime import datetime\n",
    "\n",
    "df = web.DataReader('GS1', 'fred', datetime(2023, 1, 23),datetime(2024,6,2))\n",
    "rf_annual = np.mean(df)/100\n",
    "print(f\"Risk Free Rate: {rf_annual}\")"
   ]
  },
  {
   "cell_type": "code",
   "execution_count": 11,
   "id": "89200bba",
   "metadata": {
    "_cell_guid": "c8a673af-dc78-4897-b77f-df21186ed49a",
    "_uuid": "b9a82ff6-0d76-4ba6-9180-679a223673c4",
    "execution": {
     "iopub.execute_input": "2024-08-26T16:12:58.411744Z",
     "iopub.status.busy": "2024-08-26T16:12:58.411380Z",
     "iopub.status.idle": "2024-08-26T16:12:58.425338Z",
     "shell.execute_reply": "2024-08-26T16:12:58.424212Z"
    },
    "papermill": {
     "duration": 0.600685,
     "end_time": "2024-08-26T16:12:58.427283",
     "exception": false,
     "start_time": "2024-08-26T16:12:57.826598",
     "status": "completed"
    },
    "tags": []
   },
   "outputs": [
    {
     "name": "stdout",
     "output_type": "stream",
     "text": [
      "Trading Strategy Metrics:\n",
      "Annual Return: 18.43%\n",
      "Volatility: 0.10\n",
      "Maximum Drawdown: 4.02%\n",
      "Sharpe Ratio: 1.34\n",
      "\n",
      "Buy and Hold Metrics:\n",
      "Annual Return: 61.54%\n",
      "Volatility: 0.52\n",
      "Maximum Drawdown: 29.63%\n",
      "Sharpe Ratio: 1.08\n"
     ]
    }
   ],
   "source": [
    "PL_returns = np.diff(np.log(np.array(portfolio_value)))\n",
    "market_returns = np.diff(np.log(np.array(y_test)))\n",
    "\n",
    "def calc_max_drawdown(values):\n",
    "    balances_series = pd.Series(values)\n",
    "    running_max = balances_series.cummax()\n",
    "    drawdown = (balances_series - running_max) / running_max\n",
    "    max_drawdown = drawdown.min()\n",
    "    return -max_drawdown*100\n",
    "\n",
    "def calculate_metrics(values, rf):\n",
    "    annual_return = np.mean(values)*365*24\n",
    "    volatility = np.std(values)*np.sqrt(365*24)\n",
    "    max_drawdown = np.max(np.maximum.accumulate(values) - values) / np.max(np.maximum.accumulate(values))\n",
    "    sharpe_ratio = (annual_return - rf) / volatility\n",
    "    return volatility, max_drawdown, sharpe_ratio, annual_return\n",
    "\n",
    "trading_metrics = calculate_metrics(PL_returns,rf_annual)\n",
    "buy_and_hold_metrics = calculate_metrics(market_returns,rf_annual)\n",
    "trading_drawdown = calc_max_drawdown(portfolio_value)\n",
    "buy_and_hold_drawdown = calc_max_drawdown(prices)\n",
    "\n",
    "# Print metrics\n",
    "print(\"Trading Strategy Metrics:\")\n",
    "print(f\"Annual Return: {trading_metrics[3]*100:.2f}%\")\n",
    "print(f\"Volatility: {trading_metrics[0]:.2f}\")\n",
    "print(f\"Maximum Drawdown: {trading_drawdown:.2f}%\")\n",
    "print(f\"Sharpe Ratio: {trading_metrics[2]:.2f}\")\n",
    "\n",
    "print(\"\\nBuy and Hold Metrics:\")\n",
    "print(f\"Annual Return: {buy_and_hold_metrics[3]*100:.2f}%\")\n",
    "print(f\"Volatility: {buy_and_hold_metrics[0]:.2f}\")\n",
    "print(f\"Maximum Drawdown: {buy_and_hold_drawdown:.2f}%\")\n",
    "print(f\"Sharpe Ratio: {buy_and_hold_metrics[2]:.2f}\")"
   ]
  }
 ],
 "metadata": {
  "accelerator": "TPU",
  "colab": {
   "collapsed_sections": [
    "nxXpPdVdWHv0",
    "iScbE9mVPg6W",
    "xv7Y7zMuWNzt",
    "zD_9w8mk59O-",
    "ANo9dXWwpNYb"
   ],
   "gpuType": "V28",
   "provenance": []
  },
  "kaggle": {
   "accelerator": "nvidiaTeslaT4",
   "dataSources": [
    {
     "datasetId": 5306016,
     "sourceId": 8819887,
     "sourceType": "datasetVersion"
    },
    {
     "modelId": 99632,
     "modelInstanceId": 74910,
     "sourceId": 89298,
     "sourceType": "modelInstanceVersion"
    }
   ],
   "dockerImageVersionId": 30747,
   "isGpuEnabled": true,
   "isInternetEnabled": true,
   "language": "python",
   "sourceType": "notebook"
  },
  "kernelspec": {
   "display_name": "Python 3",
   "language": "python",
   "name": "python3"
  },
  "language_info": {
   "codemirror_mode": {
    "name": "ipython",
    "version": 3
   },
   "file_extension": ".py",
   "mimetype": "text/x-python",
   "name": "python",
   "nbconvert_exporter": "python",
   "pygments_lexer": "ipython3",
   "version": "3.10.13"
  },
  "papermill": {
   "default_parameters": {},
   "duration": 538.668286,
   "end_time": "2024-08-26T16:13:01.836497",
   "environment_variables": {},
   "exception": null,
   "input_path": "__notebook__.ipynb",
   "output_path": "__notebook__.ipynb",
   "parameters": {},
   "start_time": "2024-08-26T16:04:03.168211",
   "version": "2.5.0"
  }
 },
 "nbformat": 4,
 "nbformat_minor": 5
}
